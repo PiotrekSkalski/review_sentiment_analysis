{
 "cells": [
  {
   "cell_type": "code",
   "execution_count": 1,
   "metadata": {},
   "outputs": [],
   "source": [
    "import utils\n",
    "from get_dataset import get_dataset\n",
    "import random\n",
    "import time\n",
    "import os\n",
    "import torch\n",
    "import torch.nn as nn\n",
    "from torch.optim import Adam\n",
    "from torchtext.data import Iterator\n",
    "from importlib import reload\n",
    "import math\n",
    "\n",
    "device = torch.device('cuda' if torch.cuda.is_available() else 'cpu')"
   ]
  },
  {
   "cell_type": "code",
   "execution_count": 2,
   "metadata": {},
   "outputs": [],
   "source": [
    "# If you have dark theme\n",
    "from matplotlib.pyplot import rcParams\n",
    "rcParams['figure.facecolor'] = 'white'"
   ]
  },
  {
   "cell_type": "code",
   "execution_count": 3,
   "metadata": {},
   "outputs": [],
   "source": [
    "# Setup logger\n",
    "import logging\n",
    "logging.basicConfig(filename='log.txt',\n",
    "                    level=logging.INFO,\n",
    "                    format='%(asctime)s %(levelname)s : %(message)s', datefmt='%m/%d/%Y %I:%M:%S %p')"
   ]
  },
  {
   "cell_type": "code",
   "execution_count": 7,
   "metadata": {},
   "outputs": [],
   "source": [
    "dataset, emb_weights = get_dataset()\n",
    "dataset.fields['review'].include_lengths = True\n",
    "\n",
    "random.seed(43)\n",
    "ds_train, ds_val, ds_test = dataset.split(split_ratio=[0.8, 0.1, 0.1], random_state=random.getstate())"
   ]
  },
  {
   "cell_type": "markdown",
   "metadata": {},
   "source": [
    "<br>"
   ]
  },
  {
   "cell_type": "code",
   "execution_count": 8,
   "metadata": {},
   "outputs": [],
   "source": [
    "class GRUmodel(nn.Module):\n",
    "    def __init__(self, vocab_size, embed_dim, embed_vecs=None, hidden_size=16,\n",
    "                num_layers=1, dropout=0, bidirectional=False):\n",
    "        super().__init__()\n",
    "        self.num_directions = 2 if bidirectional else 1\n",
    "        self.num_layers = num_layers\n",
    "        self.hidden_size = hidden_size\n",
    "        if embed_vecs is not None:\n",
    "            self.embedding = nn.Embedding.from_pretrained(embed_vecs)\n",
    "        else:\n",
    "            self.embedding = nn.Embedding(vocab_size, embed_dim)\n",
    "        self.gru = nn.GRU(input_size=embed_dim, hidden_size=hidden_size,\n",
    "                          num_layers=num_layers, dropout=dropout,\n",
    "                          bidirectional=bidirectional, batch_first=True)\n",
    "        self.head = nn.Linear(self.num_directions*self.hidden_size, 2)\n",
    "\n",
    "        \n",
    "    def forward(self, batch):\n",
    "        batch, lengths = batch\n",
    "        batch_dim, _ = batch.shape\n",
    "        \n",
    "        embedded = self.embedding(batch)\n",
    "        embedded_packed = nn.utils.rnn.pack_padded_sequence(embedded, lengths, batch_first=True, enforce_sorted=False)\n",
    "        \n",
    "        outputs_packed, hiddens = self.gru(embedded_packed)\n",
    "        \n",
    "        last_hidden = hiddens.view(self.num_layers, self.num_directions, batch_dim, self.hidden_size)[-1]\n",
    "        hidden_concat = last_hidden.transpose(1,0).reshape(batch_dim, self.num_directions*self.hidden_size)\n",
    "        \n",
    "        logging.debug('batch shape : {}'.format(batch.shape))\n",
    "        logging.debug('embedding shape : {}'.format(embedded.shape))\n",
    "        logging.debug('hiddens shape : {}'.format(hiddens.shape))\n",
    "        logging.debug('hidden_concat shape : {}'.format(hidden_concat.shape))\n",
    "        \n",
    "        return self.head(hidden_concat)"
   ]
  },
  {
   "cell_type": "code",
   "execution_count": 9,
   "metadata": {},
   "outputs": [],
   "source": [
    "def learner(model, loss_fn, optimiser, epochs=1, bs=4, device=device, grad_clip=None):\n",
    "    start_time = time.time()\n",
    "    for epoch in range(epochs):\n",
    "        \n",
    "        total_loss = 0\n",
    "        for i, batch in enumerate(Iterator(ds_train, bs, shuffle=True, device=device, ), 1):\n",
    "            optimiser.zero_grad()\n",
    "            \n",
    "            output = model(batch.review)\n",
    "            loss = loss_fn(output, batch.label)\n",
    "            total_loss += loss.item()\n",
    "        \n",
    "            loss.backward()\n",
    "            if grad_clip is not None:\n",
    "                nn.utils.clip_grad_value_(model.parameters(), grad_clip)\n",
    "            optimiser.step()\n",
    "\n",
    "            if not i % (len(ds_train)//(bs*3)):\n",
    "                avg_loss = total_loss / (len(ds_train)//(bs*3))\n",
    "                val_loss, val_accuracy = utils.validate(ds_val, loss_fn, model)\n",
    "                print('Epoch : {}, batch : {}, train_loss = {:.4f}, val_loss = {:.4f}, val_accuracy : {:.3f}, time = {:.0f}s'.format(\n",
    "                        epoch + 1, i, avg_loss, val_loss, val_accuracy, time.time() - start_time))\n",
    "                total_loss = 0"
   ]
  },
  {
   "cell_type": "code",
   "execution_count": 18,
   "metadata": {},
   "outputs": [],
   "source": [
    "vocab_size = len(emb_weights)\n",
    "embed_size = 300\n",
    "\n",
    "model = GRUmodel(vocab_size, embed_size, emb_weights.clone(), num_layers=2, hidden_size=32, bidirectional=True).to(device)\n",
    "loss_fn = nn.CrossEntropyLoss().to(device)"
   ]
  },
  {
   "cell_type": "code",
   "execution_count": 19,
   "metadata": {},
   "outputs": [
    {
     "name": "stdout",
     "output_type": "stream",
     "text": [
      "Calculating learning rate ...100%\r"
     ]
    },
    {
     "data": {
      "image/png": "[encoded data removed]",
      "text/plain": [
       "<Figure size 432x288 with 1 Axes>"
      ]
     },
     "metadata": {},
     "output_type": "display_data"
    }
   ],
   "source": [
    "optimiser = Adam(model.parameters())\n",
    "utils.lr_finder(model, ds_train, optimiser, loss_fn, lr_range=[1e-5, 1e-2], bs=8, avg_over_batches=30)"
   ]
  },
  {
   "cell_type": "code",
   "execution_count": 20,
   "metadata": {},
   "outputs": [
    {
     "name": "stdout",
     "output_type": "stream",
     "text": [
      "Epoch : 1, batch : 100, train_loss = 0.6628, val_loss = 0.6419, val_accuracy : 0.577, time = 8s\n",
      "Epoch : 1, batch : 200, train_loss = 0.5245, val_loss = 0.4940, val_accuracy : 0.770, time = 18s\n",
      "Epoch : 1, batch : 300, train_loss = 0.4617, val_loss = 0.4294, val_accuracy : 0.787, time = 27s\n",
      "Epoch : 2, batch : 100, train_loss = 0.3951, val_loss = 0.4105, val_accuracy : 0.810, time = 37s\n",
      "Epoch : 2, batch : 200, train_loss = 0.3239, val_loss = 0.3898, val_accuracy : 0.827, time = 46s\n",
      "Epoch : 2, batch : 300, train_loss = 0.3645, val_loss = 0.3771, val_accuracy : 0.823, time = 56s\n",
      "Epoch : 3, batch : 100, train_loss = 0.3267, val_loss = 0.3729, val_accuracy : 0.847, time = 65s\n",
      "Epoch : 3, batch : 200, train_loss = 0.2632, val_loss = 0.3721, val_accuracy : 0.837, time = 75s\n",
      "Epoch : 3, batch : 300, train_loss = 0.3136, val_loss = 0.3612, val_accuracy : 0.843, time = 85s\n",
      "Epoch : 4, batch : 100, train_loss = 0.2793, val_loss = 0.3609, val_accuracy : 0.860, time = 95s\n",
      "Epoch : 4, batch : 200, train_loss = 0.2174, val_loss = 0.3668, val_accuracy : 0.850, time = 105s\n",
      "Epoch : 4, batch : 300, train_loss = 0.2691, val_loss = 0.3550, val_accuracy : 0.860, time = 114s\n",
      "Epoch : 5, batch : 100, train_loss = 0.2341, val_loss = 0.3538, val_accuracy : 0.863, time = 125s\n",
      "Epoch : 5, batch : 200, train_loss = 0.1734, val_loss = 0.3721, val_accuracy : 0.863, time = 133s\n",
      "Epoch : 5, batch : 300, train_loss = 0.2244, val_loss = 0.3590, val_accuracy : 0.873, time = 142s\n"
     ]
    }
   ],
   "source": [
    "optimiser = Adam(model.parameters(), lr=4e-4)\n",
    "learner(model, loss_fn, optimiser, epochs=5, bs=8)"
   ]
  },
  {
   "cell_type": "code",
   "execution_count": 21,
   "metadata": {},
   "outputs": [
    {
     "name": "stdout",
     "output_type": "stream",
     "text": [
      "Epoch : 1, batch : 100, train_loss = 0.1950, val_loss = 0.3705, val_accuracy : 0.863, time = 9s\n",
      "Epoch : 1, batch : 200, train_loss = 0.1320, val_loss = 0.3690, val_accuracy : 0.857, time = 19s\n",
      "Epoch : 1, batch : 300, train_loss = 0.1660, val_loss = 0.3751, val_accuracy : 0.870, time = 27s\n",
      "Epoch : 2, batch : 100, train_loss = 0.1662, val_loss = 0.3762, val_accuracy : 0.873, time = 36s\n",
      "Epoch : 2, batch : 200, train_loss = 0.1177, val_loss = 0.3801, val_accuracy : 0.853, time = 45s\n",
      "Epoch : 2, batch : 300, train_loss = 0.1521, val_loss = 0.3868, val_accuracy : 0.877, time = 54s\n",
      "Epoch : 3, batch : 100, train_loss = 0.1499, val_loss = 0.3863, val_accuracy : 0.873, time = 64s\n",
      "Epoch : 3, batch : 200, train_loss = 0.1073, val_loss = 0.3926, val_accuracy : 0.860, time = 73s\n",
      "Epoch : 3, batch : 300, train_loss = 0.1386, val_loss = 0.4009, val_accuracy : 0.877, time = 82s\n"
     ]
    }
   ],
   "source": [
    "optimiser.param_groups[0]['lr'] = 1e-4\n",
    "learner(model, loss_fn, optimiser, epochs=3, bs=8)"
   ]
  },
  {
   "cell_type": "markdown",
   "metadata": {},
   "source": [
    "<br>"
   ]
  },
  {
   "cell_type": "markdown",
   "metadata": {},
   "source": [
    "### introduce dropout"
   ]
  },
  {
   "cell_type": "code",
   "execution_count": 31,
   "metadata": {},
   "outputs": [],
   "source": [
    "class GRUmodel(nn.Module):\n",
    "    def __init__(self, vocab_size, embed_dim, embed_vecs=None, hidden_size=16,\n",
    "                num_layers=1, dropout=(0,0), bidirectional=False):\n",
    "        super().__init__()\n",
    "        self.num_directions = 2 if bidirectional else 1\n",
    "        self.num_layers = num_layers\n",
    "        self.hidden_size = hidden_size\n",
    "        if embed_vecs is not None:\n",
    "            self.embedding = nn.Embedding.from_pretrained(embed_vecs)\n",
    "        else:\n",
    "            self.embedding = nn.Embedding(vocab_size, embed_dim)\n",
    "        self.dropout = nn.Dropout(p=dropout[0])\n",
    "        self.gru = nn.GRU(input_size=embed_dim, hidden_size=hidden_size,\n",
    "                          num_layers=num_layers, dropout=dropout[1],\n",
    "                          bidirectional=bidirectional, batch_first=True)\n",
    "        self.head = nn.Linear(self.num_directions*self.hidden_size, 2)\n",
    "\n",
    "        \n",
    "    def forward(self, batch):\n",
    "        batch, lengths = batch\n",
    "        batch_dim, _ = batch.shape\n",
    "        \n",
    "        embedded = self.dropout(self.embedding(batch))\n",
    "        embedded_packed = nn.utils.rnn.pack_padded_sequence(embedded, lengths, batch_first=True, enforce_sorted=False)\n",
    "        \n",
    "        outputs_packed, hiddens = self.gru(embedded_packed)\n",
    "        \n",
    "        last_hidden = hiddens.view(self.num_layers, self.num_directions, batch_dim, self.hidden_size)[-1]\n",
    "        hidden_concat = last_hidden.transpose(1,0).reshape(batch_dim, self.num_directions*self.hidden_size)\n",
    "        \n",
    "        logging.debug('batch shape : {}'.format(batch.shape))\n",
    "        logging.debug('embedding shape : {}'.format(embedded.shape))\n",
    "        logging.debug('hiddens shape : {}'.format(hiddens.shape))\n",
    "        logging.debug('hidden_concat shape : {}'.format(hidden_concat.shape))\n",
    "        \n",
    "        return self.head(hidden_concat)"
   ]
  },
  {
   "cell_type": "code",
   "execution_count": 23,
   "metadata": {},
   "outputs": [],
   "source": [
    "vocab_size = len(emb_weights)\n",
    "embed_size = 300\n",
    "\n",
    "model = GRUmodel(vocab_size, embed_size, emb_weights.clone(), num_layers=2, hidden_size=32, bidirectional=True, dropout=(0.3, 0.3)).to(device)\n",
    "loss_fn = nn.CrossEntropyLoss().to(device)"
   ]
  },
  {
   "cell_type": "code",
   "execution_count": 24,
   "metadata": {},
   "outputs": [
    {
     "name": "stdout",
     "output_type": "stream",
     "text": [
      "Calculating learning rate ...100%\r"
     ]
    },
    {
     "data": {
      "image/png": "[encoded data removed]",
      "text/plain": [
       "<Figure size 432x288 with 1 Axes>"
      ]
     },
     "metadata": {},
     "output_type": "display_data"
    }
   ],
   "source": [
    "optimiser = Adam(model.parameters())\n",
    "utils.lr_finder(model, ds_train, optimiser, loss_fn, lr_range=[1e-5, 1e-2], bs=8, avg_over_batches=30)"
   ]
  },
  {
   "cell_type": "code",
   "execution_count": 25,
   "metadata": {},
   "outputs": [
    {
     "name": "stdout",
     "output_type": "stream",
     "text": [
      "Epoch : 1, batch : 100, train_loss = 0.6763, val_loss = 0.6489, val_accuracy : 0.587, time = 8s\n",
      "Epoch : 1, batch : 200, train_loss = 0.5883, val_loss = 0.5592, val_accuracy : 0.740, time = 16s\n",
      "Epoch : 1, batch : 300, train_loss = 0.5137, val_loss = 0.4586, val_accuracy : 0.793, time = 26s\n",
      "Epoch : 2, batch : 100, train_loss = 0.4430, val_loss = 0.4517, val_accuracy : 0.777, time = 36s\n",
      "Epoch : 2, batch : 200, train_loss = 0.3949, val_loss = 0.4151, val_accuracy : 0.823, time = 45s\n",
      "Epoch : 2, batch : 300, train_loss = 0.4136, val_loss = 0.3894, val_accuracy : 0.843, time = 53s\n",
      "Epoch : 3, batch : 100, train_loss = 0.3889, val_loss = 0.3939, val_accuracy : 0.833, time = 63s\n",
      "Epoch : 3, batch : 200, train_loss = 0.3186, val_loss = 0.3872, val_accuracy : 0.847, time = 73s\n",
      "Epoch : 3, batch : 300, train_loss = 0.3676, val_loss = 0.3785, val_accuracy : 0.843, time = 83s\n",
      "Epoch : 4, batch : 100, train_loss = 0.3373, val_loss = 0.3817, val_accuracy : 0.853, time = 95s\n",
      "Epoch : 4, batch : 200, train_loss = 0.3049, val_loss = 0.3745, val_accuracy : 0.860, time = 104s\n",
      "Epoch : 4, batch : 300, train_loss = 0.3398, val_loss = 0.3767, val_accuracy : 0.850, time = 113s\n",
      "Epoch : 5, batch : 100, train_loss = 0.3172, val_loss = 0.3915, val_accuracy : 0.843, time = 123s\n",
      "Epoch : 5, batch : 200, train_loss = 0.2766, val_loss = 0.3680, val_accuracy : 0.860, time = 132s\n",
      "Epoch : 5, batch : 300, train_loss = 0.3174, val_loss = 0.3558, val_accuracy : 0.870, time = 141s\n"
     ]
    }
   ],
   "source": [
    "optimiser = Adam(model.parameters(), lr=5e-4)\n",
    "learner(model, loss_fn, optimiser, epochs=5, bs=8)"
   ]
  },
  {
   "cell_type": "code",
   "execution_count": 26,
   "metadata": {},
   "outputs": [
    {
     "name": "stdout",
     "output_type": "stream",
     "text": [
      "Epoch : 1, batch : 100, train_loss = 0.2970, val_loss = 0.3490, val_accuracy : 0.873, time = 7s\n",
      "Epoch : 1, batch : 200, train_loss = 0.2388, val_loss = 0.3372, val_accuracy : 0.860, time = 14s\n",
      "Epoch : 1, batch : 300, train_loss = 0.2889, val_loss = 0.3384, val_accuracy : 0.860, time = 22s\n",
      "Epoch : 2, batch : 100, train_loss = 0.2572, val_loss = 0.3639, val_accuracy : 0.877, time = 30s\n",
      "Epoch : 2, batch : 200, train_loss = 0.2210, val_loss = 0.3435, val_accuracy : 0.860, time = 37s\n",
      "Epoch : 2, batch : 300, train_loss = 0.2824, val_loss = 0.3516, val_accuracy : 0.867, time = 45s\n",
      "Epoch : 3, batch : 100, train_loss = 0.2462, val_loss = 0.3610, val_accuracy : 0.870, time = 53s\n",
      "Epoch : 3, batch : 200, train_loss = 0.2220, val_loss = 0.3488, val_accuracy : 0.860, time = 60s\n",
      "Epoch : 3, batch : 300, train_loss = 0.2541, val_loss = 0.3473, val_accuracy : 0.860, time = 68s\n"
     ]
    }
   ],
   "source": [
    "optimiser.param_groups[0]['lr'] = 1e-4\n",
    "learner(model, loss_fn, optimiser, epochs=3, bs=8)"
   ]
  },
  {
   "cell_type": "code",
   "execution_count": 27,
   "metadata": {},
   "outputs": [
    {
     "name": "stdout",
     "output_type": "stream",
     "text": [
      "Epoch : 1, batch : 100, train_loss = 0.2954, val_loss = 0.3514, val_accuracy : 0.870, time = 8s\n",
      "Epoch : 1, batch : 200, train_loss = 0.2138, val_loss = 0.3347, val_accuracy : 0.867, time = 18s\n",
      "Epoch : 1, batch : 300, train_loss = 0.2600, val_loss = 0.3300, val_accuracy : 0.873, time = 30s\n",
      "Epoch : 2, batch : 100, train_loss = 0.2460, val_loss = 0.3375, val_accuracy : 0.870, time = 40s\n",
      "Epoch : 2, batch : 200, train_loss = 0.2149, val_loss = 0.3292, val_accuracy : 0.870, time = 51s\n",
      "Epoch : 2, batch : 300, train_loss = 0.2358, val_loss = 0.3326, val_accuracy : 0.873, time = 62s\n",
      "Epoch : 3, batch : 100, train_loss = 0.2501, val_loss = 0.3342, val_accuracy : 0.880, time = 74s\n",
      "Epoch : 3, batch : 200, train_loss = 0.1870, val_loss = 0.3228, val_accuracy : 0.877, time = 83s\n",
      "Epoch : 3, batch : 300, train_loss = 0.2169, val_loss = 0.3271, val_accuracy : 0.873, time = 92s\n"
     ]
    }
   ],
   "source": [
    "model.embedding.weight.requires_grad_(True);\n",
    "optimiser.param_groups[0]['lr'] = 1e-4\n",
    "learner(model, loss_fn, optimiser, epochs=3, bs=8)"
   ]
  },
  {
   "cell_type": "markdown",
   "metadata": {},
   "source": [
    "<br>"
   ]
  },
  {
   "cell_type": "markdown",
   "metadata": {},
   "source": [
    "### Add concat pooling layer"
   ]
  },
  {
   "cell_type": "code",
   "execution_count": 39,
   "metadata": {},
   "outputs": [],
   "source": [
    "class GRUmodel(nn.Module):\n",
    "    def __init__(self, vocab_size, embed_dim, embed_vecs=None, hidden_size=512,\n",
    "                num_layers=1, dropout=(0, 0), bidirectional=False):\n",
    "        super().__init__()\n",
    "        self.num_directions = 2 if bidirectional else 1\n",
    "        self.num_layers = num_layers\n",
    "        self.hidden_size = hidden_size\n",
    "        if embed_vecs is not None:\n",
    "            self.embedding = nn.Embedding.from_pretrained(embed_vecs)\n",
    "        else:\n",
    "            self.embedding = nn.Embedding(vocab_size, embed_dim)\n",
    "        self.gru = nn.GRU(input_size=embed_dim, hidden_size=hidden_size,\n",
    "                          num_layers=num_layers, dropout=dropout[1],\n",
    "                          bidirectional=bidirectional, batch_first=True)\n",
    "        self.dropout = nn.Dropout(p=dropout[0])\n",
    "        self.head = nn.Linear(3*self.num_directions*self.hidden_size, 2)\n",
    "\n",
    "        \n",
    "    def forward(self, batch):\n",
    "        batch, lengths = batch\n",
    "        batch_dim, _ = batch.shape\n",
    "        \n",
    "        embedded = self.dropout(self.embedding(batch))\n",
    "        embedded_packed = nn.utils.rnn.pack_padded_sequence(embedded, lengths, batch_first=True, enforce_sorted=False)\n",
    "        \n",
    "        outputs_packed, hiddens = self.gru(embedded_packed)\n",
    "        outputs, lengths = nn.utils.rnn.pad_packed_sequence(outputs_packed, batch_first=True)\n",
    "        \n",
    "        last_hidden = hiddens.view(self.num_layers, self.num_directions, batch_dim, self.hidden_size)[-1,:,:,:]\n",
    "        hidden_concat = last_hidden.transpose(1,0).reshape(batch_dim, self.num_directions*self.hidden_size)\n",
    "        \n",
    "        avg_pool = torch.sum(outputs, dim=1)/lengths.unsqueeze(1)\n",
    "        max_pool = torch.cat([sample[:length].max(dim=0)[0].unsqueeze(0) for sample, length in zip(outputs, lengths)], dim=0)\n",
    "        \n",
    "        logging.debug('batch shape : {}'.format(batch.shape))\n",
    "        logging.debug('embedding shape : {}'.format(embedded.shape))\n",
    "        logging.debug('hiddens shape : {}'.format(hiddens.shape))\n",
    "        logging.debug('outputs shape : {}'.format(outputs.shape))\n",
    "        logging.debug('avg_pool shape : {}'.format(avg_pool.shape))\n",
    "        logging.debug('max_pool shape : {}'.format(max_pool.shape))\n",
    "        logging.debug('hidden_concat shape : {}'.format(hidden_concat.shape))\n",
    "        \n",
    "        return self.head(torch.cat([hidden_concat, avg_pool, max_pool], dim=1))"
   ]
  },
  {
   "cell_type": "code",
   "execution_count": 49,
   "metadata": {},
   "outputs": [],
   "source": [
    "vocab_size = len(emb_weights)\n",
    "embed_size = 300\n",
    "\n",
    "model = GRUmodel(vocab_size, embed_size, emb_weights.clone(), num_layers=2, hidden_size=32, bidirectional=True, dropout=(0.3, 0.3)).to(device)\n",
    "loss_fn = nn.CrossEntropyLoss().to(device)"
   ]
  },
  {
   "cell_type": "code",
   "execution_count": 43,
   "metadata": {},
   "outputs": [
    {
     "name": "stdout",
     "output_type": "stream",
     "text": [
      "Calculating learning rate ...100%\r"
     ]
    },
    {
     "data": {
      "image/png": "[encoded data removed]",
      "text/plain": [
       "<Figure size 432x288 with 1 Axes>"
      ]
     },
     "metadata": {},
     "output_type": "display_data"
    }
   ],
   "source": [
    "optimiser = Adam(model.parameters())\n",
    "utils.lr_finder(model, ds_train, optimiser, loss_fn, lr_range=[1e-5, 1e-2], bs=8, avg_over_batches=30)"
   ]
  },
  {
   "cell_type": "code",
   "execution_count": 50,
   "metadata": {},
   "outputs": [
    {
     "name": "stdout",
     "output_type": "stream",
     "text": [
      "Epoch : 1, batch : 100, train_loss = 0.6843, val_loss = 0.6720, val_accuracy : 0.533, time = 8s\n",
      "Epoch : 1, batch : 200, train_loss = 0.6455, val_loss = 0.6033, val_accuracy : 0.713, time = 20s\n",
      "Epoch : 1, batch : 300, train_loss = 0.5738, val_loss = 0.5507, val_accuracy : 0.710, time = 29s\n",
      "Epoch : 2, batch : 100, train_loss = 0.5124, val_loss = 0.4799, val_accuracy : 0.753, time = 41s\n",
      "Epoch : 2, batch : 200, train_loss = 0.4293, val_loss = 0.4500, val_accuracy : 0.793, time = 51s\n",
      "Epoch : 2, batch : 300, train_loss = 0.4460, val_loss = 0.4140, val_accuracy : 0.800, time = 61s\n",
      "Epoch : 3, batch : 100, train_loss = 0.4158, val_loss = 0.4171, val_accuracy : 0.813, time = 72s\n",
      "Epoch : 3, batch : 200, train_loss = 0.3775, val_loss = 0.3942, val_accuracy : 0.820, time = 80s\n",
      "Epoch : 3, batch : 300, train_loss = 0.4071, val_loss = 0.3802, val_accuracy : 0.830, time = 89s\n",
      "Epoch : 4, batch : 100, train_loss = 0.3745, val_loss = 0.3818, val_accuracy : 0.837, time = 99s\n",
      "Epoch : 4, batch : 200, train_loss = 0.3465, val_loss = 0.3745, val_accuracy : 0.823, time = 108s\n",
      "Epoch : 4, batch : 300, train_loss = 0.3773, val_loss = 0.3676, val_accuracy : 0.847, time = 118s\n",
      "Epoch : 5, batch : 100, train_loss = 0.3392, val_loss = 0.3973, val_accuracy : 0.833, time = 127s\n",
      "Epoch : 5, batch : 200, train_loss = 0.3177, val_loss = 0.3689, val_accuracy : 0.837, time = 136s\n",
      "Epoch : 5, batch : 300, train_loss = 0.3781, val_loss = 0.3645, val_accuracy : 0.860, time = 145s\n"
     ]
    }
   ],
   "source": [
    "optimiser = Adam(model.parameters(), lr=3e-4)\n",
    "learner(model, loss_fn, optimiser, epochs=5, bs=8)"
   ]
  },
  {
   "cell_type": "code",
   "execution_count": 51,
   "metadata": {},
   "outputs": [
    {
     "name": "stdout",
     "output_type": "stream",
     "text": [
      "Epoch : 1, batch : 100, train_loss = 0.3266, val_loss = 0.3538, val_accuracy : 0.863, time = 8s\n",
      "Epoch : 1, batch : 200, train_loss = 0.3044, val_loss = 0.3431, val_accuracy : 0.850, time = 17s\n",
      "Epoch : 1, batch : 300, train_loss = 0.3444, val_loss = 0.3415, val_accuracy : 0.853, time = 26s\n",
      "Epoch : 2, batch : 100, train_loss = 0.3294, val_loss = 0.3515, val_accuracy : 0.860, time = 37s\n",
      "Epoch : 2, batch : 200, train_loss = 0.2937, val_loss = 0.3380, val_accuracy : 0.850, time = 48s\n",
      "Epoch : 2, batch : 300, train_loss = 0.3246, val_loss = 0.3397, val_accuracy : 0.853, time = 57s\n",
      "Epoch : 3, batch : 100, train_loss = 0.3206, val_loss = 0.3584, val_accuracy : 0.857, time = 66s\n",
      "Epoch : 3, batch : 200, train_loss = 0.3016, val_loss = 0.3383, val_accuracy : 0.847, time = 74s\n",
      "Epoch : 3, batch : 300, train_loss = 0.3246, val_loss = 0.3364, val_accuracy : 0.863, time = 83s\n",
      "Epoch : 4, batch : 100, train_loss = 0.3174, val_loss = 0.3479, val_accuracy : 0.867, time = 92s\n",
      "Epoch : 4, batch : 200, train_loss = 0.2749, val_loss = 0.3330, val_accuracy : 0.857, time = 101s\n",
      "Epoch : 4, batch : 300, train_loss = 0.3293, val_loss = 0.3312, val_accuracy : 0.867, time = 109s\n",
      "Epoch : 5, batch : 100, train_loss = 0.3025, val_loss = 0.3511, val_accuracy : 0.853, time = 118s\n",
      "Epoch : 5, batch : 200, train_loss = 0.2881, val_loss = 0.3308, val_accuracy : 0.867, time = 126s\n",
      "Epoch : 5, batch : 300, train_loss = 0.3021, val_loss = 0.3294, val_accuracy : 0.873, time = 135s\n"
     ]
    }
   ],
   "source": [
    "optimiser.param_groups[0]['lr'] = 1e-4\n",
    "learner(model, loss_fn, optimiser, epochs=5, bs=8)"
   ]
  },
  {
   "cell_type": "code",
   "execution_count": 53,
   "metadata": {
    "scrolled": true
   },
   "outputs": [
    {
     "name": "stdout",
     "output_type": "stream",
     "text": [
      "Epoch : 1, batch : 100, train_loss = 0.2802, val_loss = 0.3334, val_accuracy : 0.873, time = 13s\n",
      "Epoch : 1, batch : 200, train_loss = 0.2577, val_loss = 0.3178, val_accuracy : 0.883, time = 24s\n",
      "Epoch : 1, batch : 300, train_loss = 0.2795, val_loss = 0.3122, val_accuracy : 0.877, time = 35s\n",
      "Epoch : 2, batch : 100, train_loss = 0.2416, val_loss = 0.3227, val_accuracy : 0.877, time = 48s\n",
      "Epoch : 2, batch : 200, train_loss = 0.2224, val_loss = 0.3156, val_accuracy : 0.883, time = 61s\n",
      "Epoch : 2, batch : 300, train_loss = 0.2752, val_loss = 0.3095, val_accuracy : 0.880, time = 76s\n",
      "Epoch : 3, batch : 100, train_loss = 0.2228, val_loss = 0.3304, val_accuracy : 0.870, time = 89s\n",
      "Epoch : 3, batch : 200, train_loss = 0.2389, val_loss = 0.3103, val_accuracy : 0.893, time = 103s\n",
      "Epoch : 3, batch : 300, train_loss = 0.2578, val_loss = 0.3018, val_accuracy : 0.873, time = 116s\n",
      "Epoch : 4, batch : 100, train_loss = 0.2329, val_loss = 0.3105, val_accuracy : 0.880, time = 134s\n",
      "Epoch : 4, batch : 200, train_loss = 0.1981, val_loss = 0.3093, val_accuracy : 0.900, time = 146s\n",
      "Epoch : 4, batch : 300, train_loss = 0.2321, val_loss = 0.3024, val_accuracy : 0.883, time = 160s\n",
      "Epoch : 5, batch : 100, train_loss = 0.2254, val_loss = 0.3225, val_accuracy : 0.883, time = 173s\n",
      "Epoch : 5, batch : 200, train_loss = 0.1880, val_loss = 0.3098, val_accuracy : 0.900, time = 185s\n",
      "Epoch : 5, batch : 300, train_loss = 0.2251, val_loss = 0.3027, val_accuracy : 0.883, time = 196s\n"
     ]
    }
   ],
   "source": [
    "model.embedding.weight.requires_grad_(True);\n",
    "optimiser.param_groups[0]['lr'] = 1e-4\n",
    "learner(model, loss_fn, optimiser, epochs=5, bs=8)"
   ]
  },
  {
   "cell_type": "markdown",
   "metadata": {},
   "source": [
    "<br>"
   ]
  },
  {
   "cell_type": "markdown",
   "metadata": {},
   "source": [
    "### GRU with dot product attention on the outputs"
   ]
  },
  {
   "cell_type": "code",
   "execution_count": 61,
   "metadata": {},
   "outputs": [],
   "source": [
    "class Attention(nn.Module):\n",
    "    def __init__(self, query_dim):\n",
    "        super(Attention, self).__init__()\n",
    "        self.scale = 1. / math.sqrt(query_dim)\n",
    "        self.softmax = nn.Softmax(dim=2)\n",
    "\n",
    "    def forward(self, query, keys, values):\n",
    "        # Query = [BxQ]\n",
    "        # Keys = [BxTxQ]\n",
    "        # Values = [BxTxQ]\n",
    "        # Outputs = a:[TxB], lin_comb:[BxQ]\n",
    "\n",
    "        query = query.unsqueeze(1) # [BxQ] -> [Bx1xQ]\n",
    "        keys = keys.transpose(1,2) # [BxTxQ] -> [BxQxT]\n",
    "        energy = torch.bmm(query, keys) # [Bx1xQ]x[BxQxT] -> [Bx1xT]\n",
    "        energy = self.softmax(energy.mul_(self.scale)) # scale, normalize\n",
    "\n",
    "        linear_combination = torch.bmm(energy, values).squeeze(1) #[Bx1xT]x[BxTxQ] -> [BxQ]\n",
    "        return energy, linear_combination"
   ]
  },
  {
   "cell_type": "code",
   "execution_count": 62,
   "metadata": {},
   "outputs": [],
   "source": [
    "class GRU_Attention_model(nn.Module):\n",
    "    def __init__(self, vocab_size, embed_dim, embed_vecs=None, hidden_size=512,\n",
    "                num_layers=1, dropout=(0, 0), bidirectional=False):\n",
    "        super().__init__()\n",
    "        self.num_directions = 2 if bidirectional else 1\n",
    "        self.num_layers = num_layers\n",
    "        self.hidden_size = hidden_size\n",
    "        if embed_vecs is not None:\n",
    "            self.embedding = nn.Embedding.from_pretrained(embed_vecs)\n",
    "        else:\n",
    "            self.embedding = nn.Embedding(vocab_size, embed_dim)\n",
    "        self.gru = nn.GRU(input_size=embed_dim, hidden_size=hidden_size,\n",
    "                          num_layers=num_layers, dropout=dropout[1],\n",
    "                          bidirectional=bidirectional, batch_first=True)\n",
    "        self.dropout = nn.Dropout(p=dropout[0])\n",
    "        self.attention = Attention(self.hidden_size*self.num_directions)\n",
    "        self.head = nn.Linear(self.num_directions*self.hidden_size, 2)\n",
    "\n",
    "        \n",
    "    def forward(self, batch):\n",
    "        batch, lengths = batch\n",
    "        batch_dim, _ = batch.shape\n",
    "        \n",
    "        embedded = self.dropout(self.embedding(batch))\n",
    "        embedded_packed = nn.utils.rnn.pack_padded_sequence(embedded, lengths, batch_first=True, enforce_sorted=False)\n",
    "        \n",
    "        outputs_packed, hiddens = self.gru(embedded_packed)\n",
    "        outputs, lengths = nn.utils.rnn.pad_packed_sequence(outputs_packed, batch_first=True)\n",
    "        \n",
    "        last_hidden = hiddens.view(self.num_layers, self.num_directions, batch_dim, self.hidden_size)[-1,:,:,:]\n",
    "        hidden_concat = last_hidden.transpose(1,0).reshape(batch_dim, self.num_directions*self.hidden_size)\n",
    "        \n",
    "        energy, attended_output = self.attention(hidden_concat, outputs, outputs)\n",
    "        \n",
    "        logging.debug('batch shape : {}'.format(batch.shape))\n",
    "        logging.debug('embedding shape : {}'.format(embedded.shape))\n",
    "        logging.debug('hiddens shape : {}'.format(hiddens.shape))\n",
    "        logging.debug('outputs shape : {}'.format(outputs.shape))\n",
    "        logging.debug('hidden_concat shape : {}'.format(hidden_concat.shape))\n",
    "        logging.debug('attended_output shape : {}'.format(attended_output.shape))\n",
    "        \n",
    "        return self.head(attended_output)"
   ]
  },
  {
   "cell_type": "code",
   "execution_count": 65,
   "metadata": {},
   "outputs": [],
   "source": [
    "vocab_size = len(emb_weights)\n",
    "embed_size = 300\n",
    "\n",
    "model = GRU_Attention_model(vocab_size, embed_size, emb_weights.clone(), num_layers=2, hidden_size=32, bidirectional=True, dropout=(0.3, 0.3)).to(device)\n",
    "loss_fn = nn.CrossEntropyLoss().to(device)"
   ]
  },
  {
   "cell_type": "code",
   "execution_count": 66,
   "metadata": {},
   "outputs": [
    {
     "name": "stdout",
     "output_type": "stream",
     "text": [
      "Calculating learning rate ...100%\r"
     ]
    },
    {
     "data": {
      "image/png": "[encoded data removed]",
      "text/plain": [
       "<Figure size 432x288 with 1 Axes>"
      ]
     },
     "metadata": {},
     "output_type": "display_data"
    }
   ],
   "source": [
    "optimiser = Adam(model.parameters())\n",
    "utils.lr_finder(model, ds_train, optimiser, loss_fn, lr_range=[1e-5, 1e-2], bs=8, avg_over_batches=30)"
   ]
  },
  {
   "cell_type": "code",
   "execution_count": 67,
   "metadata": {},
   "outputs": [
    {
     "name": "stdout",
     "output_type": "stream",
     "text": [
      "Epoch : 1, batch : 100, train_loss = 0.6827, val_loss = 0.6754, val_accuracy : 0.500, time = 8s\n",
      "Epoch : 1, batch : 200, train_loss = 0.6038, val_loss = 0.5632, val_accuracy : 0.750, time = 18s\n",
      "Epoch : 1, batch : 300, train_loss = 0.5265, val_loss = 0.4710, val_accuracy : 0.780, time = 29s\n",
      "Epoch : 2, batch : 100, train_loss = 0.4749, val_loss = 0.4463, val_accuracy : 0.790, time = 39s\n",
      "Epoch : 2, batch : 200, train_loss = 0.3999, val_loss = 0.4195, val_accuracy : 0.840, time = 49s\n",
      "Epoch : 2, batch : 300, train_loss = 0.4301, val_loss = 0.3809, val_accuracy : 0.837, time = 58s\n",
      "Epoch : 3, batch : 100, train_loss = 0.3940, val_loss = 0.3970, val_accuracy : 0.830, time = 68s\n",
      "Epoch : 3, batch : 200, train_loss = 0.3274, val_loss = 0.3924, val_accuracy : 0.840, time = 77s\n",
      "Epoch : 3, batch : 300, train_loss = 0.3674, val_loss = 0.3605, val_accuracy : 0.853, time = 86s\n",
      "Epoch : 4, batch : 100, train_loss = 0.3629, val_loss = 0.3692, val_accuracy : 0.853, time = 96s\n",
      "Epoch : 4, batch : 200, train_loss = 0.3034, val_loss = 0.3839, val_accuracy : 0.843, time = 105s\n",
      "Epoch : 4, batch : 300, train_loss = 0.3550, val_loss = 0.3620, val_accuracy : 0.870, time = 114s\n",
      "Epoch : 5, batch : 100, train_loss = 0.3234, val_loss = 0.3485, val_accuracy : 0.860, time = 124s\n",
      "Epoch : 5, batch : 200, train_loss = 0.2878, val_loss = 0.3668, val_accuracy : 0.847, time = 136s\n",
      "Epoch : 5, batch : 300, train_loss = 0.3195, val_loss = 0.3525, val_accuracy : 0.880, time = 147s\n"
     ]
    }
   ],
   "source": [
    "optimiser = Adam(model.parameters(), lr=5e-4)\n",
    "learner(model, loss_fn, optimiser, epochs=5, bs=8)"
   ]
  },
  {
   "cell_type": "code",
   "execution_count": 68,
   "metadata": {},
   "outputs": [
    {
     "name": "stdout",
     "output_type": "stream",
     "text": [
      "Epoch : 1, batch : 100, train_loss = 0.2785, val_loss = 0.3561, val_accuracy : 0.877, time = 7s\n",
      "Epoch : 1, batch : 200, train_loss = 0.2561, val_loss = 0.3295, val_accuracy : 0.857, time = 16s\n",
      "Epoch : 1, batch : 300, train_loss = 0.2835, val_loss = 0.3289, val_accuracy : 0.853, time = 24s\n",
      "Epoch : 2, batch : 100, train_loss = 0.2835, val_loss = 0.3380, val_accuracy : 0.870, time = 34s\n",
      "Epoch : 2, batch : 200, train_loss = 0.2445, val_loss = 0.3308, val_accuracy : 0.857, time = 44s\n",
      "Epoch : 2, batch : 300, train_loss = 0.2797, val_loss = 0.3319, val_accuracy : 0.867, time = 52s\n",
      "Epoch : 3, batch : 100, train_loss = 0.2684, val_loss = 0.3547, val_accuracy : 0.883, time = 62s\n",
      "Epoch : 3, batch : 200, train_loss = 0.2271, val_loss = 0.3307, val_accuracy : 0.857, time = 72s\n",
      "Epoch : 3, batch : 300, train_loss = 0.2741, val_loss = 0.3276, val_accuracy : 0.860, time = 83s\n"
     ]
    }
   ],
   "source": [
    "optimiser.param_groups[0]['lr'] = 1e-4\n",
    "learner(model, loss_fn, optimiser, epochs=3, bs=8)"
   ]
  },
  {
   "cell_type": "code",
   "execution_count": 69,
   "metadata": {
    "scrolled": true
   },
   "outputs": [
    {
     "name": "stdout",
     "output_type": "stream",
     "text": [
      "Epoch : 1, batch : 100, train_loss = 0.2708, val_loss = 0.3394, val_accuracy : 0.883, time = 9s\n",
      "Epoch : 1, batch : 200, train_loss = 0.2286, val_loss = 0.3246, val_accuracy : 0.850, time = 20s\n",
      "Epoch : 1, batch : 300, train_loss = 0.2753, val_loss = 0.3209, val_accuracy : 0.863, time = 31s\n",
      "Epoch : 2, batch : 100, train_loss = 0.2428, val_loss = 0.3248, val_accuracy : 0.887, time = 42s\n",
      "Epoch : 2, batch : 200, train_loss = 0.2107, val_loss = 0.3220, val_accuracy : 0.870, time = 53s\n",
      "Epoch : 2, batch : 300, train_loss = 0.2628, val_loss = 0.3215, val_accuracy : 0.880, time = 64s\n",
      "Epoch : 3, batch : 100, train_loss = 0.2422, val_loss = 0.3408, val_accuracy : 0.883, time = 76s\n",
      "Epoch : 3, batch : 200, train_loss = 0.1983, val_loss = 0.3157, val_accuracy : 0.873, time = 89s\n",
      "Epoch : 3, batch : 300, train_loss = 0.2385, val_loss = 0.3176, val_accuracy : 0.877, time = 101s\n",
      "Epoch : 4, batch : 100, train_loss = 0.2171, val_loss = 0.3218, val_accuracy : 0.890, time = 113s\n",
      "Epoch : 4, batch : 200, train_loss = 0.1835, val_loss = 0.3208, val_accuracy : 0.880, time = 124s\n",
      "Epoch : 4, batch : 300, train_loss = 0.2193, val_loss = 0.3167, val_accuracy : 0.873, time = 135s\n",
      "Epoch : 5, batch : 100, train_loss = 0.1988, val_loss = 0.3274, val_accuracy : 0.887, time = 147s\n",
      "Epoch : 5, batch : 200, train_loss = 0.1504, val_loss = 0.3238, val_accuracy : 0.887, time = 159s\n",
      "Epoch : 5, batch : 300, train_loss = 0.2197, val_loss = 0.3135, val_accuracy : 0.887, time = 170s\n"
     ]
    }
   ],
   "source": [
    "model.embedding.weight.requires_grad_(True);\n",
    "optimiser.param_groups[0]['lr'] = 1e-4\n",
    "learner(model, loss_fn, optimiser, epochs=5, bs=8)"
   ]
  },
  {
   "cell_type": "code",
   "execution_count": 70,
   "metadata": {},
   "outputs": [
    {
     "name": "stdout",
     "output_type": "stream",
     "text": [
      "Test loss : 0.26763, test accuracy : 0.890\n"
     ]
    }
   ],
   "source": [
    "print('Test loss : {:.5f}, test accuracy : {:.03f}'.format(*utils.validate(ds_test, loss_fn, model)))"
   ]
  },
  {
   "cell_type": "markdown",
   "metadata": {},
   "source": [
    "<br>"
   ]
  },
  {
   "cell_type": "markdown",
   "metadata": {},
   "source": [
    "### add bucketiterator and ensure padding word vector is all zeros"
   ]
  },
  {
   "cell_type": "code",
   "execution_count": 116,
   "metadata": {},
   "outputs": [],
   "source": [
    "from torchtext.data import BucketIterator"
   ]
  },
  {
   "cell_type": "code",
   "execution_count": 122,
   "metadata": {},
   "outputs": [],
   "source": [
    "def learner(model, loss_fn, optimiser, epochs=1, bs=4, device=device, grad_clip=None):\n",
    "    start_time = time.time()\n",
    "    for epoch in range(epochs):\n",
    "        \n",
    "        total_loss = 0\n",
    "        for i, batch in enumerate(BucketIterator(ds_train, bs, sort_key=lambda x: len(x.review), shuffle=True, device=device), 1):\n",
    "            optimiser.zero_grad()\n",
    "            \n",
    "            output = model(batch.review)\n",
    "            loss = loss_fn(output, batch.label)\n",
    "            total_loss += loss.item()\n",
    "        \n",
    "            loss.backward()\n",
    "            if grad_clip is not None:\n",
    "                nn.utils.clip_grad_value_(model.parameters(), grad_clip)\n",
    "            optimiser.step()\n",
    "\n",
    "            if not i % (len(ds_train)//(bs*3)):\n",
    "                avg_loss = total_loss / (len(ds_train)//(bs*3))\n",
    "                val_loss, val_accuracy = utils.validate(ds_val, loss_fn, model)\n",
    "                print('Epoch : {}, batch : {}, train_loss = {:.4f}, val_loss = {:.4f}, val_accuracy : {:.3f}, time = {:.0f}s'.format(\n",
    "                        epoch + 1, i, avg_loss, val_loss, val_accuracy, time.time() - start_time))\n",
    "                total_loss = 0"
   ]
  },
  {
   "cell_type": "code",
   "execution_count": 123,
   "metadata": {},
   "outputs": [],
   "source": [
    "emb_weights_other = emb_weights.clone()\n",
    "emb_weights_other[1] = 0.0"
   ]
  },
  {
   "cell_type": "code",
   "execution_count": 124,
   "metadata": {},
   "outputs": [],
   "source": [
    "vocab_size = len(emb_weights)\n",
    "embed_size = 300\n",
    "\n",
    "model = GRU_Attention_model(vocab_size, embed_size, emb_weights_other.clone(), num_layers=2, hidden_size=32, bidirectional=True, dropout=(0.3, 0.3)).to(device)\n",
    "loss_fn = nn.CrossEntropyLoss().to(device)"
   ]
  },
  {
   "cell_type": "code",
   "execution_count": 86,
   "metadata": {},
   "outputs": [
    {
     "name": "stdout",
     "output_type": "stream",
     "text": [
      "Calculating learning rate ...100%\r"
     ]
    },
    {
     "data": {
      "image/png": "[encoded data removed]",
      "text/plain": [
       "<Figure size 432x288 with 1 Axes>"
      ]
     },
     "metadata": {},
     "output_type": "display_data"
    }
   ],
   "source": [
    "optimiser = Adam(model.parameters())\n",
    "utils.lr_finder(model, ds_train, optimiser, loss_fn, lr_range=[1e-5, 1e-2], bs=8, avg_over_batches=30)"
   ]
  },
  {
   "cell_type": "code",
   "execution_count": 125,
   "metadata": {},
   "outputs": [
    {
     "name": "stdout",
     "output_type": "stream",
     "text": [
      "Epoch : 1, batch : 100, train_loss = 0.6840, val_loss = 0.6372, val_accuracy : 0.700, time = 7s\n",
      "Epoch : 1, batch : 200, train_loss = 0.6161, val_loss = 0.5060, val_accuracy : 0.777, time = 18s\n",
      "Epoch : 1, batch : 300, train_loss = 0.5398, val_loss = 0.4545, val_accuracy : 0.810, time = 28s\n",
      "Epoch : 2, batch : 100, train_loss = 0.4660, val_loss = 0.4117, val_accuracy : 0.817, time = 38s\n",
      "Epoch : 2, batch : 200, train_loss = 0.3930, val_loss = 0.3888, val_accuracy : 0.847, time = 47s\n",
      "Epoch : 2, batch : 300, train_loss = 0.4327, val_loss = 0.3807, val_accuracy : 0.833, time = 55s\n",
      "Epoch : 3, batch : 100, train_loss = 0.3890, val_loss = 0.3809, val_accuracy : 0.853, time = 64s\n",
      "Epoch : 3, batch : 200, train_loss = 0.3263, val_loss = 0.3632, val_accuracy : 0.863, time = 72s\n",
      "Epoch : 3, batch : 300, train_loss = 0.3892, val_loss = 0.3543, val_accuracy : 0.843, time = 80s\n",
      "Epoch : 4, batch : 100, train_loss = 0.3558, val_loss = 0.3462, val_accuracy : 0.860, time = 89s\n",
      "Epoch : 4, batch : 200, train_loss = 0.3075, val_loss = 0.3453, val_accuracy : 0.870, time = 98s\n",
      "Epoch : 4, batch : 300, train_loss = 0.3758, val_loss = 0.3294, val_accuracy : 0.860, time = 106s\n",
      "Epoch : 5, batch : 100, train_loss = 0.3300, val_loss = 0.3315, val_accuracy : 0.853, time = 115s\n",
      "Epoch : 5, batch : 200, train_loss = 0.2968, val_loss = 0.3322, val_accuracy : 0.867, time = 124s\n",
      "Epoch : 5, batch : 300, train_loss = 0.3367, val_loss = 0.3267, val_accuracy : 0.860, time = 134s\n"
     ]
    }
   ],
   "source": [
    "optimiser = Adam(model.parameters(), lr=5e-4)\n",
    "learner(model, loss_fn, optimiser, epochs=5, bs=8)"
   ]
  },
  {
   "cell_type": "code",
   "execution_count": 126,
   "metadata": {},
   "outputs": [
    {
     "name": "stdout",
     "output_type": "stream",
     "text": [
      "Epoch : 1, batch : 100, train_loss = 0.2839, val_loss = 0.3240, val_accuracy : 0.873, time = 7s\n",
      "Epoch : 1, batch : 200, train_loss = 0.2374, val_loss = 0.3342, val_accuracy : 0.877, time = 16s\n",
      "Epoch : 1, batch : 300, train_loss = 0.3081, val_loss = 0.3387, val_accuracy : 0.853, time = 25s\n",
      "Epoch : 2, batch : 100, train_loss = 0.2892, val_loss = 0.3278, val_accuracy : 0.877, time = 34s\n",
      "Epoch : 2, batch : 200, train_loss = 0.2381, val_loss = 0.3316, val_accuracy : 0.873, time = 43s\n",
      "Epoch : 2, batch : 300, train_loss = 0.2976, val_loss = 0.3419, val_accuracy : 0.857, time = 52s\n",
      "Epoch : 3, batch : 100, train_loss = 0.2893, val_loss = 0.3244, val_accuracy : 0.870, time = 62s\n",
      "Epoch : 3, batch : 200, train_loss = 0.2444, val_loss = 0.3298, val_accuracy : 0.877, time = 73s\n",
      "Epoch : 3, batch : 300, train_loss = 0.3006, val_loss = 0.3324, val_accuracy : 0.863, time = 83s\n"
     ]
    }
   ],
   "source": [
    "optimiser.param_groups[0]['lr'] = 1e-4\n",
    "learner(model, loss_fn, optimiser, epochs=3, bs=8)"
   ]
  },
  {
   "cell_type": "code",
   "execution_count": 128,
   "metadata": {
    "scrolled": true
   },
   "outputs": [
    {
     "name": "stdout",
     "output_type": "stream",
     "text": [
      "Epoch : 1, batch : 100, train_loss = 0.2793, val_loss = 0.3192, val_accuracy : 0.867, time = 10s\n",
      "Epoch : 1, batch : 200, train_loss = 0.2440, val_loss = 0.3160, val_accuracy : 0.873, time = 21s\n",
      "Epoch : 1, batch : 300, train_loss = 0.2778, val_loss = 0.3182, val_accuracy : 0.870, time = 34s\n",
      "Epoch : 2, batch : 100, train_loss = 0.2754, val_loss = 0.3100, val_accuracy : 0.877, time = 48s\n",
      "Epoch : 2, batch : 200, train_loss = 0.2172, val_loss = 0.3091, val_accuracy : 0.873, time = 60s\n",
      "Epoch : 2, batch : 300, train_loss = 0.2628, val_loss = 0.3175, val_accuracy : 0.877, time = 72s\n",
      "Epoch : 3, batch : 100, train_loss = 0.2474, val_loss = 0.3009, val_accuracy : 0.880, time = 83s\n",
      "Epoch : 3, batch : 200, train_loss = 0.1998, val_loss = 0.3062, val_accuracy : 0.887, time = 96s\n",
      "Epoch : 3, batch : 300, train_loss = 0.2676, val_loss = 0.3061, val_accuracy : 0.887, time = 107s\n",
      "Epoch : 4, batch : 100, train_loss = 0.2304, val_loss = 0.2945, val_accuracy : 0.887, time = 119s\n",
      "Epoch : 4, batch : 200, train_loss = 0.1832, val_loss = 0.2946, val_accuracy : 0.887, time = 131s\n",
      "Epoch : 4, batch : 300, train_loss = 0.2425, val_loss = 0.2923, val_accuracy : 0.887, time = 142s\n",
      "Epoch : 5, batch : 100, train_loss = 0.2248, val_loss = 0.2916, val_accuracy : 0.883, time = 156s\n",
      "Epoch : 5, batch : 200, train_loss = 0.1752, val_loss = 0.2927, val_accuracy : 0.887, time = 167s\n",
      "Epoch : 5, batch : 300, train_loss = 0.2250, val_loss = 0.2969, val_accuracy : 0.897, time = 178s\n"
     ]
    }
   ],
   "source": [
    "model.embedding.weight.requires_grad_(True);\n",
    "optimiser.param_groups[0]['lr'] = 1e-4\n",
    "learner(model, loss_fn, optimiser, epochs=5, bs=8)"
   ]
  },
  {
   "cell_type": "code",
   "execution_count": 129,
   "metadata": {},
   "outputs": [
    {
     "name": "stdout",
     "output_type": "stream",
     "text": [
      "Test loss : 0.27964, test accuracy : 0.897\n"
     ]
    }
   ],
   "source": [
    "print('Test loss : {:.5f}, test accuracy : {:.03f}'.format(*utils.validate(ds_test, loss_fn, model)))"
   ]
  },
  {
   "cell_type": "markdown",
   "metadata": {},
   "source": [
    "<br>"
   ]
  },
  {
   "cell_type": "markdown",
   "metadata": {},
   "source": [
    "#### what's the average loss vs. review length?"
   ]
  },
  {
   "cell_type": "code",
   "execution_count": 141,
   "metadata": {},
   "outputs": [
    {
     "data": {
      "text/plain": [
       "tensor([ 0,  3, 13])"
      ]
     },
     "execution_count": 141,
     "metadata": {},
     "output_type": "execute_result"
    }
   ],
   "source": [
    "torch.cumsum(torch.tensor([3,3,10]), dim=0) - torch.tensor(3)"
   ]
  },
  {
   "cell_type": "code",
   "execution_count": 131,
   "metadata": {},
   "outputs": [],
   "source": [
    "def test(ds, loss_fn, model, bs=1, device=device):\n",
    "    model.eval()\n",
    "    with torch.no_grad():\n",
    "        size = len(ds)\n",
    "        losses = []\n",
    "        lengths = []\n",
    "        for i, batch in enumerate(BucketIterator(ds, bs, sort_key=lambda x: len(x.review), shuffle=False, device=device)):\n",
    "            output = model(batch.review)\n",
    "            losses.extend([loss_fn(out.unsqueeze(0), label.unsqueeze(0)).item() for out, label in zip(output, batch.label)])\n",
    "            lengths.extend(batch.review[1].tolist())\n",
    "    model.train()\n",
    "        \n",
    "    return losses, lengths"
   ]
  },
  {
   "cell_type": "code",
   "execution_count": 105,
   "metadata": {},
   "outputs": [],
   "source": [
    "import matplotlib.pyplot as plt\n",
    "import seaborn as sns"
   ]
  },
  {
   "cell_type": "code",
   "execution_count": 132,
   "metadata": {},
   "outputs": [],
   "source": [
    "losses, lengths = test(ds_train, nn.CrossEntropyLoss().to(device), model, bs=16)"
   ]
  },
  {
   "cell_type": "code",
   "execution_count": 133,
   "metadata": {},
   "outputs": [
    {
     "data": {
      "image/png": "[encoded data removed]",
      "text/plain": [
       "<Figure size 432x288 with 1 Axes>"
      ]
     },
     "metadata": {},
     "output_type": "display_data"
    }
   ],
   "source": [
    "sns.lineplot(lengths, losses)\n",
    "plt.show()"
   ]
  },
  {
   "cell_type": "code",
   "execution_count": 112,
   "metadata": {},
   "outputs": [
    {
     "data": {
      "text/plain": [
       "(array([106., 100.,  54.,  24.,   8.,   5.,   2.,   0.,   0.,   1.]),\n",
       " array([ 3. ,  9.8, 16.6, 23.4, 30.2, 37. , 43.8, 50.6, 57.4, 64.2, 71. ]),\n",
       " <a list of 10 Patch objects>)"
      ]
     },
     "execution_count": 112,
     "metadata": {},
     "output_type": "execute_result"
    },
    {
     "data": {
      "image/png": "[encoded data removed]",
      "text/plain": [
       "<Figure size 432x288 with 1 Axes>"
      ]
     },
     "metadata": {},
     "output_type": "display_data"
    }
   ],
   "source": [
    "plt.hist(lengths)"
   ]
  },
  {
   "cell_type": "markdown",
   "metadata": {},
   "source": [
    "<br>"
   ]
  },
  {
   "cell_type": "markdown",
   "metadata": {},
   "source": [
    "<br>"
   ]
  },
  {
   "cell_type": "markdown",
   "metadata": {},
   "source": [
    "<br>"
   ]
  },
  {
   "cell_type": "markdown",
   "metadata": {},
   "source": [
    "<br>"
   ]
  },
  {
   "cell_type": "code",
   "execution_count": null,
   "metadata": {},
   "outputs": [],
   "source": [
    "# if not os.path.exists('models'):\n",
    "#     os.makedirs('models')\n",
    "# torch.save(model.state_dict(), 'models/model_GRU_*.pt')"
   ]
  }
 ],
 "metadata": {
  "kernelspec": {
   "display_name": "Python 3",
   "language": "python",
   "name": "python3"
  },
  "language_info": {
   "codemirror_mode": {
    "name": "ipython",
    "version": 3
   },
   "file_extension": ".py",
   "mimetype": "text/x-python",
   "name": "python",
   "nbconvert_exporter": "python",
   "pygments_lexer": "ipython3",
   "version": "3.7.7"
  }
 },
 "nbformat": 4,
 "nbformat_minor": 4
}
