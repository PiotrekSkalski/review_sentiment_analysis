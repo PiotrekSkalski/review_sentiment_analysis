{
 "cells": [
  {
   "cell_type": "code",
   "execution_count": 1,
   "metadata": {},
   "outputs": [],
   "source": [
    "from utils import lr_finder, learner, validate, MyIterator\n",
    "from get_dataset import get_dataset\n",
    "import random\n",
    "import time\n",
    "import os\n",
    "from functools import partial\n",
    "import torch\n",
    "import torch.nn as nn\n",
    "from torch.optim import Adam\n",
    "from torch.optim.lr_scheduler import OneCycleLR\n",
    "from importlib import reload\n",
    "\n",
    "device = torch.device('cuda' if torch.cuda.is_available() else 'cpu')"
   ]
  },
  {
   "cell_type": "code",
   "execution_count": 2,
   "metadata": {},
   "outputs": [],
   "source": [
    "# If you have dark theme\n",
    "from matplotlib.pyplot import rcParams\n",
    "rcParams['figure.facecolor'] = 'white'"
   ]
  },
  {
   "cell_type": "code",
   "execution_count": 3,
   "metadata": {},
   "outputs": [],
   "source": [
    "# Setup logger\n",
    "import logging\n",
    "logging.basicConfig(level=logging.INFO,\n",
    "                    format='%(asctime)s %(levelname)s : %(message)s', datefmt='%m/%d/%Y %I:%M:%S %p')"
   ]
  },
  {
   "cell_type": "code",
   "execution_count": 4,
   "metadata": {},
   "outputs": [
    {
     "output_type": "stream",
     "name": "stderr",
     "text": "05/11/2020 11:59:17 PM INFO : Downloading data\n05/11/2020 11:59:18 PM INFO : Downloading GloVe word vectors\n05/11/2020 11:59:18 PM INFO : Loading vectors from .vector_cache/glove.6B.300d.txt.pt\n05/11/2020 11:59:23 PM INFO : Loading vectors from .vector_cache/glove.6B.300d.txt.pt\n"
    }
   ],
   "source": [
    "dataset, emb_weights = get_dataset()\n",
    "# dataset.fields['review'].include_lengths = True\n",
    "\n",
    "random.seed(43)\n",
    "ds_train, ds_val, ds_test = dataset.split(split_ratio=[0.8, 0.1, 0.1], random_state=random.getstate())"
   ]
  },
  {
   "cell_type": "code",
   "execution_count": 5,
   "metadata": {},
   "outputs": [],
   "source": [
    "class CNN(nn.Module):\n",
    "    def __init__(self, out_channels, kernel_heights, stride, padding, dropout, emb_weights):\n",
    "        super().__init__()\n",
    "\n",
    "        self.out_channels = out_channels\n",
    "        self.kernel_heights = kernel_heights\n",
    "        self.stride = stride\n",
    "        self.padding = padding\n",
    "        self.embedding_length = emb_weights.shape[1]\n",
    "\n",
    "        self.word_embeddings = nn.Embedding.from_pretrained(emb_weights)\n",
    "        self.conv1 = nn.Conv2d(1, out_channels, (kernel_heights[0], self.embedding_length), stride, (padding[0], 0))\n",
    "        self.conv2 = nn.Conv2d(1, out_channels, (kernel_heights[1], self.embedding_length), stride, (padding[1], 0))\n",
    "        self.conv3 = nn.Conv2d(1, out_channels, (kernel_heights[2], self.embedding_length), stride, (padding[2], 0))\n",
    "        # self.conv4 = nn.Conv2d(1, out_channels, (kernel_heights[3], self.embedding_length), stride, (padding[3], 0))\n",
    "        self.dropout0 = nn.Dropout(p=dropout[0])\n",
    "        self.dropout1 = nn.Dropout(p=dropout[1])\n",
    "        self.relu = nn.ReLU()\n",
    "        self.head = nn.Linear(len(kernel_heights)*out_channels, 2)\n",
    "\n",
    "    def conv_block(self, input, conv_layer):\n",
    "        conv_out = conv_layer(input)# conv_out.size() = (batch_size, out_channels, dim, 1)\n",
    "        activation = self.relu(conv_out.squeeze(3))# activation.size() = (batch_size, out_channels, dim1)\n",
    "        max_out = nn.functional.max_pool1d(activation, activation.size()[2]).squeeze(2)# maxpool_out.size() = (batch_size, out_channels)\n",
    "\n",
    "        return max_out\n",
    "\n",
    "    def forward(self, batch):\n",
    "        input = self.word_embeddings(batch).unsqueeze(1)\n",
    "\n",
    "        max_out = []\n",
    "        max_out.append(self.conv_block(self.dropout0(input), self.conv1))\n",
    "        max_out.append(self.conv_block(self.dropout0(input), self.conv2))\n",
    "        max_out.append(self.conv_block(self.dropout0(input), self.conv3))\n",
    "\n",
    "        all_out = torch.cat(max_out, dim=1)\n",
    "\n",
    "        return self.head(self.dropout1(all_out))"
   ]
  },
  {
   "cell_type": "code",
   "execution_count": 17,
   "metadata": {},
   "outputs": [],
   "source": [
    "model = CNN(out_channels=16, kernel_heights=(1, 3, 5), stride=1, padding=(0, 1, 2), dropout=(0.3, 0.3), emb_weights=emb_weights.clone())\n",
    "loss_fn = nn.CrossEntropyLoss().to(device)\n",
    "scheduler_fn = partial(OneCycleLR, pct_start=0.3, max_lr=5e-4, steps_per_epoch=len(ds_train)//8, epochs=1)"
   ]
  },
  {
   "cell_type": "code",
   "execution_count": 7,
   "metadata": {},
   "outputs": [
    {
     "output_type": "stream",
     "name": "stdout",
     "text": "Finding learning rate ...100%"
    },
    {
     "output_type": "display_data",
     "data": {
      "text/plain": "<Figure size 432x288 with 1 Axes>",
      "image/svg+xml": "<?xml version=\"1.0\" encoding=\"utf-8\" standalone=\"no\"?>\n<!DOCTYPE svg PUBLIC \"-//W3C//DTD SVG 1.1//EN\"\n  \"http://www.w3.org/Graphics/SVG/1.1/DTD/svg11.dtd\">\n<!-- Created with matplotlib (https://matplotlib.org/) -->\n<svg height=\"248.518125pt\" version=\"1.1\" viewBox=\"0 0 372.103125 248.518125\" width=\"372.103125pt\" xmlns=\"http://www.w3.org/2000/svg\" xmlns:xlink=\"http://www.w3.org/1999/xlink\">\n <defs>\n  <style type=\"text/css\">\n*{stroke-linecap:butt;stroke-linejoin:round;}\n  </style>\n </defs>\n <g id=\"figure_1\">\n  <g id=\"patch_1\">\n   <path d=\"M 0 248.518125 \nL 372.103125 248.518125 \nL 372.103125 0 \nL 0 0 \nz\n\" style=\"fill:#ffffff;\"/>\n  </g>\n  <g id=\"axes_1\">\n   <g id=\"patch_2\">\n    <path d=\"M 30.103125 224.64 \nL 364.903125 224.64 \nL 364.903125 7.2 \nL 30.103125 7.2 \nz\n\" style=\"fill:#ffffff;\"/>\n   </g>\n   <g id=\"PolyCollection_1\">\n    <defs>\n     <path d=\"M 45.321307 -231.434489 \nL 45.321307 -213.462785 \nL 55.816605 -204.260101 \nL 66.311902 -207.032089 \nL 76.8072 -204.924494 \nL 87.302498 -201.294075 \nL 97.797796 -204.372885 \nL 108.293094 -204.443451 \nL 118.788391 -200.50231 \nL 129.283689 -197.555365 \nL 139.778987 -196.47991 \nL 150.274285 -198.524192 \nL 160.769583 -194.265737 \nL 171.26488 -193.514749 \nL 181.760178 -188.841469 \nL 192.255476 -182.596977 \nL 202.750774 -180.554715 \nL 213.246072 -171.044302 \nL 223.74137 -163.007487 \nL 234.236667 -136.396965 \nL 244.731965 -126.020107 \nL 255.227263 -103.308576 \nL 265.722561 -84.166665 \nL 276.217859 -66.409 \nL 286.713156 -80.595293 \nL 297.208454 -33.761761 \nL 307.703752 -53.629109 \nL 318.19905 -43.037168 \nL 328.694348 -45.613387 \nL 339.189645 -86.592809 \nL 349.684943 -51.959879 \nL 349.684943 -153.445529 \nL 349.684943 -153.445529 \nL 339.189645 -172.750658 \nL 328.694348 -156.2569 \nL 318.19905 -106.140401 \nL 307.703752 -132.244115 \nL 297.208454 -103.525587 \nL 286.713156 -145.975436 \nL 276.217859 -120.234619 \nL 265.722561 -127.156756 \nL 255.227263 -148.461055 \nL 244.731965 -175.414709 \nL 234.236667 -165.509479 \nL 223.74137 -184.120164 \nL 213.246072 -186.852573 \nL 202.750774 -197.175294 \nL 192.255476 -196.126555 \nL 181.760178 -201.19296 \nL 171.26488 -205.65483 \nL 160.769583 -202.826373 \nL 150.274285 -211.637856 \nL 139.778987 -206.603117 \nL 129.283689 -207.507139 \nL 118.788391 -211.410082 \nL 108.293094 -217.66279 \nL 97.797796 -217.276073 \nL 87.302498 -215.673027 \nL 76.8072 -215.647654 \nL 66.311902 -224.09592 \nL 55.816605 -217.710412 \nL 45.321307 -231.434489 \nz\n\" id=\"m85e8925531\" style=\"stroke:#1f77b4;stroke-opacity:0.2;\"/>\n    </defs>\n    <g clip-path=\"url(#pcb161ff183)\">\n     <use style=\"fill:#1f77b4;fill-opacity:0.2;stroke:#1f77b4;stroke-opacity:0.2;\" x=\"0\" xlink:href=\"#m85e8925531\" y=\"248.518125\"/>\n    </g>\n   </g>\n   <g id=\"matplotlib.axis_1\">\n    <g id=\"xtick_1\">\n     <g id=\"line2d_1\">\n      <defs>\n       <path d=\"M 0 0 \nL 0 3.5 \n\" id=\"m73bfcab3d9\" style=\"stroke:#000000;stroke-width:0.8;\"/>\n      </defs>\n      <g>\n       <use style=\"stroke:#000000;stroke-width:0.8;\" x=\"45.321307\" xlink:href=\"#m73bfcab3d9\" y=\"224.64\"/>\n      </g>\n     </g>\n     <g id=\"text_1\">\n      <!-- $\\mathdefault{10^{-5}}$ -->\n      <defs>\n       <path d=\"M 12.40625 8.296875 \nL 28.515625 8.296875 \nL 28.515625 63.921875 \nL 10.984375 60.40625 \nL 10.984375 69.390625 \nL 28.421875 72.90625 \nL 38.28125 72.90625 \nL 38.28125 8.296875 \nL 54.390625 8.296875 \nL 54.390625 0 \nL 12.40625 0 \nz\n\" id=\"DejaVuSans-49\"/>\n       <path d=\"M 31.78125 66.40625 \nQ 24.171875 66.40625 20.328125 58.90625 \nQ 16.5 51.421875 16.5 36.375 \nQ 16.5 21.390625 20.328125 13.890625 \nQ 24.171875 6.390625 31.78125 6.390625 \nQ 39.453125 6.390625 43.28125 13.890625 \nQ 47.125 21.390625 47.125 36.375 \nQ 47.125 51.421875 43.28125 58.90625 \nQ 39.453125 66.40625 31.78125 66.40625 \nz\nM 31.78125 74.21875 \nQ 44.046875 74.21875 50.515625 64.515625 \nQ 56.984375 54.828125 56.984375 36.375 \nQ 56.984375 17.96875 50.515625 8.265625 \nQ 44.046875 -1.421875 31.78125 -1.421875 \nQ 19.53125 -1.421875 13.0625 8.265625 \nQ 6.59375 17.96875 6.59375 36.375 \nQ 6.59375 54.828125 13.0625 64.515625 \nQ 19.53125 74.21875 31.78125 74.21875 \nz\n\" id=\"DejaVuSans-48\"/>\n       <path d=\"M 10.59375 35.5 \nL 73.1875 35.5 \nL 73.1875 27.203125 \nL 10.59375 27.203125 \nz\n\" id=\"DejaVuSans-8722\"/>\n       <path d=\"M 10.796875 72.90625 \nL 49.515625 72.90625 \nL 49.515625 64.59375 \nL 19.828125 64.59375 \nL 19.828125 46.734375 \nQ 21.96875 47.46875 24.109375 47.828125 \nQ 26.265625 48.1875 28.421875 48.1875 \nQ 40.625 48.1875 47.75 41.5 \nQ 54.890625 34.8125 54.890625 23.390625 \nQ 54.890625 11.625 47.5625 5.09375 \nQ 40.234375 -1.421875 26.90625 -1.421875 \nQ 22.3125 -1.421875 17.546875 -0.640625 \nQ 12.796875 0.140625 7.71875 1.703125 \nL 7.71875 11.625 \nQ 12.109375 9.234375 16.796875 8.0625 \nQ 21.484375 6.890625 26.703125 6.890625 \nQ 35.15625 6.890625 40.078125 11.328125 \nQ 45.015625 15.765625 45.015625 23.390625 \nQ 45.015625 31 40.078125 35.4375 \nQ 35.15625 39.890625 26.703125 39.890625 \nQ 22.75 39.890625 18.8125 39.015625 \nQ 14.890625 38.140625 10.796875 36.28125 \nz\n\" id=\"DejaVuSans-53\"/>\n      </defs>\n      <g transform=\"translate(33.571307 239.238437)scale(0.1 -0.1)\">\n       <use transform=\"translate(0 0.684375)\" xlink:href=\"#DejaVuSans-49\"/>\n       <use transform=\"translate(63.623047 0.684375)\" xlink:href=\"#DejaVuSans-48\"/>\n       <use transform=\"translate(128.203125 38.965625)scale(0.7)\" xlink:href=\"#DejaVuSans-8722\"/>\n       <use transform=\"translate(186.855469 38.965625)scale(0.7)\" xlink:href=\"#DejaVuSans-53\"/>\n      </g>\n     </g>\n    </g>\n    <g id=\"xtick_2\">\n     <g id=\"line2d_2\">\n      <g>\n       <use style=\"stroke:#000000;stroke-width:0.8;\" x=\"146.775852\" xlink:href=\"#m73bfcab3d9\" y=\"224.64\"/>\n      </g>\n     </g>\n     <g id=\"text_2\">\n      <!-- $\\mathdefault{10^{-4}}$ -->\n      <defs>\n       <path d=\"M 37.796875 64.3125 \nL 12.890625 25.390625 \nL 37.796875 25.390625 \nz\nM 35.203125 72.90625 \nL 47.609375 72.90625 \nL 47.609375 25.390625 \nL 58.015625 25.390625 \nL 58.015625 17.1875 \nL 47.609375 17.1875 \nL 47.609375 0 \nL 37.796875 0 \nL 37.796875 17.1875 \nL 4.890625 17.1875 \nL 4.890625 26.703125 \nz\n\" id=\"DejaVuSans-52\"/>\n      </defs>\n      <g transform=\"translate(135.025852 239.238437)scale(0.1 -0.1)\">\n       <use transform=\"translate(0 0.684375)\" xlink:href=\"#DejaVuSans-49\"/>\n       <use transform=\"translate(63.623047 0.684375)\" xlink:href=\"#DejaVuSans-48\"/>\n       <use transform=\"translate(128.203125 38.965625)scale(0.7)\" xlink:href=\"#DejaVuSans-8722\"/>\n       <use transform=\"translate(186.855469 38.965625)scale(0.7)\" xlink:href=\"#DejaVuSans-52\"/>\n      </g>\n     </g>\n    </g>\n    <g id=\"xtick_3\">\n     <g id=\"line2d_3\">\n      <g>\n       <use style=\"stroke:#000000;stroke-width:0.8;\" x=\"248.230398\" xlink:href=\"#m73bfcab3d9\" y=\"224.64\"/>\n      </g>\n     </g>\n     <g id=\"text_3\">\n      <!-- $\\mathdefault{10^{-3}}$ -->\n      <defs>\n       <path d=\"M 40.578125 39.3125 \nQ 47.65625 37.796875 51.625 33 \nQ 55.609375 28.21875 55.609375 21.1875 \nQ 55.609375 10.40625 48.1875 4.484375 \nQ 40.765625 -1.421875 27.09375 -1.421875 \nQ 22.515625 -1.421875 17.65625 -0.515625 \nQ 12.796875 0.390625 7.625 2.203125 \nL 7.625 11.71875 \nQ 11.71875 9.328125 16.59375 8.109375 \nQ 21.484375 6.890625 26.8125 6.890625 \nQ 36.078125 6.890625 40.9375 10.546875 \nQ 45.796875 14.203125 45.796875 21.1875 \nQ 45.796875 27.640625 41.28125 31.265625 \nQ 36.765625 34.90625 28.71875 34.90625 \nL 20.21875 34.90625 \nL 20.21875 43.015625 \nL 29.109375 43.015625 \nQ 36.375 43.015625 40.234375 45.921875 \nQ 44.09375 48.828125 44.09375 54.296875 \nQ 44.09375 59.90625 40.109375 62.90625 \nQ 36.140625 65.921875 28.71875 65.921875 \nQ 24.65625 65.921875 20.015625 65.03125 \nQ 15.375 64.15625 9.8125 62.3125 \nL 9.8125 71.09375 \nQ 15.4375 72.65625 20.34375 73.4375 \nQ 25.25 74.21875 29.59375 74.21875 \nQ 40.828125 74.21875 47.359375 69.109375 \nQ 53.90625 64.015625 53.90625 55.328125 \nQ 53.90625 49.265625 50.4375 45.09375 \nQ 46.96875 40.921875 40.578125 39.3125 \nz\n\" id=\"DejaVuSans-51\"/>\n      </defs>\n      <g transform=\"translate(236.480398 239.238437)scale(0.1 -0.1)\">\n       <use transform=\"translate(0 0.765625)\" xlink:href=\"#DejaVuSans-49\"/>\n       <use transform=\"translate(63.623047 0.765625)\" xlink:href=\"#DejaVuSans-48\"/>\n       <use transform=\"translate(128.203125 39.046875)scale(0.7)\" xlink:href=\"#DejaVuSans-8722\"/>\n       <use transform=\"translate(186.855469 39.046875)scale(0.7)\" xlink:href=\"#DejaVuSans-51\"/>\n      </g>\n     </g>\n    </g>\n    <g id=\"xtick_4\">\n     <g id=\"line2d_4\">\n      <g>\n       <use style=\"stroke:#000000;stroke-width:0.8;\" x=\"349.684943\" xlink:href=\"#m73bfcab3d9\" y=\"224.64\"/>\n      </g>\n     </g>\n     <g id=\"text_4\">\n      <!-- $\\mathdefault{10^{-2}}$ -->\n      <defs>\n       <path d=\"M 19.1875 8.296875 \nL 53.609375 8.296875 \nL 53.609375 0 \nL 7.328125 0 \nL 7.328125 8.296875 \nQ 12.9375 14.109375 22.625 23.890625 \nQ 32.328125 33.6875 34.8125 36.53125 \nQ 39.546875 41.84375 41.421875 45.53125 \nQ 43.3125 49.21875 43.3125 52.78125 \nQ 43.3125 58.59375 39.234375 62.25 \nQ 35.15625 65.921875 28.609375 65.921875 \nQ 23.96875 65.921875 18.8125 64.3125 \nQ 13.671875 62.703125 7.8125 59.421875 \nL 7.8125 69.390625 \nQ 13.765625 71.78125 18.9375 73 \nQ 24.125 74.21875 28.421875 74.21875 \nQ 39.75 74.21875 46.484375 68.546875 \nQ 53.21875 62.890625 53.21875 53.421875 \nQ 53.21875 48.921875 51.53125 44.890625 \nQ 49.859375 40.875 45.40625 35.40625 \nQ 44.1875 33.984375 37.640625 27.21875 \nQ 31.109375 20.453125 19.1875 8.296875 \nz\n\" id=\"DejaVuSans-50\"/>\n      </defs>\n      <g transform=\"translate(337.934943 239.238437)scale(0.1 -0.1)\">\n       <use transform=\"translate(0 0.765625)\" xlink:href=\"#DejaVuSans-49\"/>\n       <use transform=\"translate(63.623047 0.765625)\" xlink:href=\"#DejaVuSans-48\"/>\n       <use transform=\"translate(128.203125 39.046875)scale(0.7)\" xlink:href=\"#DejaVuSans-8722\"/>\n       <use transform=\"translate(186.855469 39.046875)scale(0.7)\" xlink:href=\"#DejaVuSans-50\"/>\n      </g>\n     </g>\n    </g>\n    <g id=\"xtick_5\">\n     <g id=\"line2d_5\">\n      <defs>\n       <path d=\"M 0 0 \nL 0 2 \n\" id=\"m3aac855b85\" style=\"stroke:#000000;stroke-width:0.6;\"/>\n      </defs>\n      <g>\n       <use style=\"stroke:#000000;stroke-width:0.6;\" x=\"35.489345\" xlink:href=\"#m3aac855b85\" y=\"224.64\"/>\n      </g>\n     </g>\n    </g>\n    <g id=\"xtick_6\">\n     <g id=\"line2d_6\">\n      <g>\n       <use style=\"stroke:#000000;stroke-width:0.6;\" x=\"40.679001\" xlink:href=\"#m3aac855b85\" y=\"224.64\"/>\n      </g>\n     </g>\n    </g>\n    <g id=\"xtick_7\">\n     <g id=\"line2d_7\">\n      <g>\n       <use style=\"stroke:#000000;stroke-width:0.6;\" x=\"75.862168\" xlink:href=\"#m3aac855b85\" y=\"224.64\"/>\n      </g>\n     </g>\n    </g>\n    <g id=\"xtick_8\">\n     <g id=\"line2d_8\">\n      <g>\n       <use style=\"stroke:#000000;stroke-width:0.6;\" x=\"93.727427\" xlink:href=\"#m3aac855b85\" y=\"224.64\"/>\n      </g>\n     </g>\n    </g>\n    <g id=\"xtick_9\">\n     <g id=\"line2d_9\">\n      <g>\n       <use style=\"stroke:#000000;stroke-width:0.6;\" x=\"106.40303\" xlink:href=\"#m3aac855b85\" y=\"224.64\"/>\n      </g>\n     </g>\n    </g>\n    <g id=\"xtick_10\">\n     <g id=\"line2d_10\">\n      <g>\n       <use style=\"stroke:#000000;stroke-width:0.6;\" x=\"116.234991\" xlink:href=\"#m3aac855b85\" y=\"224.64\"/>\n      </g>\n     </g>\n    </g>\n    <g id=\"xtick_11\">\n     <g id=\"line2d_11\">\n      <g>\n       <use style=\"stroke:#000000;stroke-width:0.6;\" x=\"124.268288\" xlink:href=\"#m3aac855b85\" y=\"224.64\"/>\n      </g>\n     </g>\n    </g>\n    <g id=\"xtick_12\">\n     <g id=\"line2d_12\">\n      <g>\n       <use style=\"stroke:#000000;stroke-width:0.6;\" x=\"131.060344\" xlink:href=\"#m3aac855b85\" y=\"224.64\"/>\n      </g>\n     </g>\n    </g>\n    <g id=\"xtick_13\">\n     <g id=\"line2d_13\">\n      <g>\n       <use style=\"stroke:#000000;stroke-width:0.6;\" x=\"136.943891\" xlink:href=\"#m3aac855b85\" y=\"224.64\"/>\n      </g>\n     </g>\n    </g>\n    <g id=\"xtick_14\">\n     <g id=\"line2d_14\">\n      <g>\n       <use style=\"stroke:#000000;stroke-width:0.6;\" x=\"142.133547\" xlink:href=\"#m3aac855b85\" y=\"224.64\"/>\n      </g>\n     </g>\n    </g>\n    <g id=\"xtick_15\">\n     <g id=\"line2d_15\">\n      <g>\n       <use style=\"stroke:#000000;stroke-width:0.6;\" x=\"177.316714\" xlink:href=\"#m3aac855b85\" y=\"224.64\"/>\n      </g>\n     </g>\n    </g>\n    <g id=\"xtick_16\">\n     <g id=\"line2d_16\">\n      <g>\n       <use style=\"stroke:#000000;stroke-width:0.6;\" x=\"195.181972\" xlink:href=\"#m3aac855b85\" y=\"224.64\"/>\n      </g>\n     </g>\n    </g>\n    <g id=\"xtick_17\">\n     <g id=\"line2d_17\">\n      <g>\n       <use style=\"stroke:#000000;stroke-width:0.6;\" x=\"207.857575\" xlink:href=\"#m3aac855b85\" y=\"224.64\"/>\n      </g>\n     </g>\n    </g>\n    <g id=\"xtick_18\">\n     <g id=\"line2d_18\">\n      <g>\n       <use style=\"stroke:#000000;stroke-width:0.6;\" x=\"217.689536\" xlink:href=\"#m3aac855b85\" y=\"224.64\"/>\n      </g>\n     </g>\n    </g>\n    <g id=\"xtick_19\">\n     <g id=\"line2d_19\">\n      <g>\n       <use style=\"stroke:#000000;stroke-width:0.6;\" x=\"225.722834\" xlink:href=\"#m3aac855b85\" y=\"224.64\"/>\n      </g>\n     </g>\n    </g>\n    <g id=\"xtick_20\">\n     <g id=\"line2d_20\">\n      <g>\n       <use style=\"stroke:#000000;stroke-width:0.6;\" x=\"232.51489\" xlink:href=\"#m3aac855b85\" y=\"224.64\"/>\n      </g>\n     </g>\n    </g>\n    <g id=\"xtick_21\">\n     <g id=\"line2d_21\">\n      <g>\n       <use style=\"stroke:#000000;stroke-width:0.6;\" x=\"238.398436\" xlink:href=\"#m3aac855b85\" y=\"224.64\"/>\n      </g>\n     </g>\n    </g>\n    <g id=\"xtick_22\">\n     <g id=\"line2d_22\">\n      <g>\n       <use style=\"stroke:#000000;stroke-width:0.6;\" x=\"243.588092\" xlink:href=\"#m3aac855b85\" y=\"224.64\"/>\n      </g>\n     </g>\n    </g>\n    <g id=\"xtick_23\">\n     <g id=\"line2d_23\">\n      <g>\n       <use style=\"stroke:#000000;stroke-width:0.6;\" x=\"278.771259\" xlink:href=\"#m3aac855b85\" y=\"224.64\"/>\n      </g>\n     </g>\n    </g>\n    <g id=\"xtick_24\">\n     <g id=\"line2d_24\">\n      <g>\n       <use style=\"stroke:#000000;stroke-width:0.6;\" x=\"296.636518\" xlink:href=\"#m3aac855b85\" y=\"224.64\"/>\n      </g>\n     </g>\n    </g>\n    <g id=\"xtick_25\">\n     <g id=\"line2d_25\">\n      <g>\n       <use style=\"stroke:#000000;stroke-width:0.6;\" x=\"309.31212\" xlink:href=\"#m3aac855b85\" y=\"224.64\"/>\n      </g>\n     </g>\n    </g>\n    <g id=\"xtick_26\">\n     <g id=\"line2d_26\">\n      <g>\n       <use style=\"stroke:#000000;stroke-width:0.6;\" x=\"319.144082\" xlink:href=\"#m3aac855b85\" y=\"224.64\"/>\n      </g>\n     </g>\n    </g>\n    <g id=\"xtick_27\">\n     <g id=\"line2d_27\">\n      <g>\n       <use style=\"stroke:#000000;stroke-width:0.6;\" x=\"327.177379\" xlink:href=\"#m3aac855b85\" y=\"224.64\"/>\n      </g>\n     </g>\n    </g>\n    <g id=\"xtick_28\">\n     <g id=\"line2d_28\">\n      <g>\n       <use style=\"stroke:#000000;stroke-width:0.6;\" x=\"333.969435\" xlink:href=\"#m3aac855b85\" y=\"224.64\"/>\n      </g>\n     </g>\n    </g>\n    <g id=\"xtick_29\">\n     <g id=\"line2d_29\">\n      <g>\n       <use style=\"stroke:#000000;stroke-width:0.6;\" x=\"339.852982\" xlink:href=\"#m3aac855b85\" y=\"224.64\"/>\n      </g>\n     </g>\n    </g>\n    <g id=\"xtick_30\">\n     <g id=\"line2d_30\">\n      <g>\n       <use style=\"stroke:#000000;stroke-width:0.6;\" x=\"345.042638\" xlink:href=\"#m3aac855b85\" y=\"224.64\"/>\n      </g>\n     </g>\n    </g>\n   </g>\n   <g id=\"matplotlib.axis_2\">\n    <g id=\"ytick_1\">\n     <g id=\"line2d_31\">\n      <defs>\n       <path d=\"M 0 0 \nL -3.5 0 \n\" id=\"m69f21fba62\" style=\"stroke:#000000;stroke-width:0.8;\"/>\n      </defs>\n      <g>\n       <use style=\"stroke:#000000;stroke-width:0.8;\" x=\"30.103125\" xlink:href=\"#m69f21fba62\" y=\"217.299136\"/>\n      </g>\n     </g>\n     <g id=\"text_5\">\n      <!-- 0.3 -->\n      <defs>\n       <path d=\"M 10.6875 12.40625 \nL 21 12.40625 \nL 21 0 \nL 10.6875 0 \nz\n\" id=\"DejaVuSans-46\"/>\n      </defs>\n      <g transform=\"translate(7.2 221.098355)scale(0.1 -0.1)\">\n       <use xlink:href=\"#DejaVuSans-48\"/>\n       <use x=\"63.623047\" xlink:href=\"#DejaVuSans-46\"/>\n       <use x=\"95.410156\" xlink:href=\"#DejaVuSans-51\"/>\n      </g>\n     </g>\n    </g>\n    <g id=\"ytick_2\">\n     <g id=\"line2d_32\">\n      <g>\n       <use style=\"stroke:#000000;stroke-width:0.8;\" x=\"30.103125\" xlink:href=\"#m69f21fba62\" y=\"172.889842\"/>\n      </g>\n     </g>\n     <g id=\"text_6\">\n      <!-- 0.4 -->\n      <g transform=\"translate(7.2 176.689061)scale(0.1 -0.1)\">\n       <use xlink:href=\"#DejaVuSans-48\"/>\n       <use x=\"63.623047\" xlink:href=\"#DejaVuSans-46\"/>\n       <use x=\"95.410156\" xlink:href=\"#DejaVuSans-52\"/>\n      </g>\n     </g>\n    </g>\n    <g id=\"ytick_3\">\n     <g id=\"line2d_33\">\n      <g>\n       <use style=\"stroke:#000000;stroke-width:0.8;\" x=\"30.103125\" xlink:href=\"#m69f21fba62\" y=\"128.480548\"/>\n      </g>\n     </g>\n     <g id=\"text_7\">\n      <!-- 0.5 -->\n      <g transform=\"translate(7.2 132.279767)scale(0.1 -0.1)\">\n       <use xlink:href=\"#DejaVuSans-48\"/>\n       <use x=\"63.623047\" xlink:href=\"#DejaVuSans-46\"/>\n       <use x=\"95.410156\" xlink:href=\"#DejaVuSans-53\"/>\n      </g>\n     </g>\n    </g>\n    <g id=\"ytick_4\">\n     <g id=\"line2d_34\">\n      <g>\n       <use style=\"stroke:#000000;stroke-width:0.8;\" x=\"30.103125\" xlink:href=\"#m69f21fba62\" y=\"84.071255\"/>\n      </g>\n     </g>\n     <g id=\"text_8\">\n      <!-- 0.6 -->\n      <defs>\n       <path d=\"M 33.015625 40.375 \nQ 26.375 40.375 22.484375 35.828125 \nQ 18.609375 31.296875 18.609375 23.390625 \nQ 18.609375 15.53125 22.484375 10.953125 \nQ 26.375 6.390625 33.015625 6.390625 \nQ 39.65625 6.390625 43.53125 10.953125 \nQ 47.40625 15.53125 47.40625 23.390625 \nQ 47.40625 31.296875 43.53125 35.828125 \nQ 39.65625 40.375 33.015625 40.375 \nz\nM 52.59375 71.296875 \nL 52.59375 62.3125 \nQ 48.875 64.0625 45.09375 64.984375 \nQ 41.3125 65.921875 37.59375 65.921875 \nQ 27.828125 65.921875 22.671875 59.328125 \nQ 17.53125 52.734375 16.796875 39.40625 \nQ 19.671875 43.65625 24.015625 45.921875 \nQ 28.375 48.1875 33.59375 48.1875 \nQ 44.578125 48.1875 50.953125 41.515625 \nQ 57.328125 34.859375 57.328125 23.390625 \nQ 57.328125 12.15625 50.6875 5.359375 \nQ 44.046875 -1.421875 33.015625 -1.421875 \nQ 20.359375 -1.421875 13.671875 8.265625 \nQ 6.984375 17.96875 6.984375 36.375 \nQ 6.984375 53.65625 15.1875 63.9375 \nQ 23.390625 74.21875 37.203125 74.21875 \nQ 40.921875 74.21875 44.703125 73.484375 \nQ 48.484375 72.75 52.59375 71.296875 \nz\n\" id=\"DejaVuSans-54\"/>\n      </defs>\n      <g transform=\"translate(7.2 87.870473)scale(0.1 -0.1)\">\n       <use xlink:href=\"#DejaVuSans-48\"/>\n       <use x=\"63.623047\" xlink:href=\"#DejaVuSans-46\"/>\n       <use x=\"95.410156\" xlink:href=\"#DejaVuSans-54\"/>\n      </g>\n     </g>\n    </g>\n    <g id=\"ytick_5\">\n     <g id=\"line2d_35\">\n      <g>\n       <use style=\"stroke:#000000;stroke-width:0.8;\" x=\"30.103125\" xlink:href=\"#m69f21fba62\" y=\"39.661961\"/>\n      </g>\n     </g>\n     <g id=\"text_9\">\n      <!-- 0.7 -->\n      <defs>\n       <path d=\"M 8.203125 72.90625 \nL 55.078125 72.90625 \nL 55.078125 68.703125 \nL 28.609375 0 \nL 18.3125 0 \nL 43.21875 64.59375 \nL 8.203125 64.59375 \nz\n\" id=\"DejaVuSans-55\"/>\n      </defs>\n      <g transform=\"translate(7.2 43.461179)scale(0.1 -0.1)\">\n       <use xlink:href=\"#DejaVuSans-48\"/>\n       <use x=\"63.623047\" xlink:href=\"#DejaVuSans-46\"/>\n       <use x=\"95.410156\" xlink:href=\"#DejaVuSans-55\"/>\n      </g>\n     </g>\n    </g>\n   </g>\n   <g id=\"line2d_36\">\n    <path clip-path=\"url(#pcb161ff183)\" d=\"M 45.321307 26.589601 \nL 55.816605 37.964872 \nL 66.311902 33.189061 \nL 76.8072 37.914079 \nL 87.302498 40.346143 \nL 97.797796 37.643316 \nL 108.293094 37.854868 \nL 118.788391 42.540008 \nL 129.283689 45.782635 \nL 139.778987 47.021892 \nL 150.274285 43.82582 \nL 160.769583 49.897379 \nL 171.26488 49.039003 \nL 181.760178 53.5709 \nL 192.255476 59.490729 \nL 202.750774 59.901231 \nL 213.246072 69.816945 \nL 223.74137 75.150203 \nL 234.236667 97.758402 \nL 244.731965 97.297633 \nL 255.227263 122.655603 \nL 265.722561 143.393596 \nL 276.217859 154.92784 \nL 286.713156 134.887606 \nL 297.208454 179.87524 \nL 307.703752 158.199305 \nL 318.19905 174.337046 \nL 328.694348 150.250339 \nL 339.189645 120.819853 \nL 349.684943 145.841423 \n\" style=\"fill:none;stroke:#1f77b4;stroke-linecap:square;stroke-width:1.5;\"/>\n   </g>\n   <g id=\"patch_3\">\n    <path d=\"M 30.103125 224.64 \nL 30.103125 7.2 \n\" style=\"fill:none;stroke:#000000;stroke-linecap:square;stroke-linejoin:miter;stroke-width:0.8;\"/>\n   </g>\n   <g id=\"patch_4\">\n    <path d=\"M 364.903125 224.64 \nL 364.903125 7.2 \n\" style=\"fill:none;stroke:#000000;stroke-linecap:square;stroke-linejoin:miter;stroke-width:0.8;\"/>\n   </g>\n   <g id=\"patch_5\">\n    <path d=\"M 30.103125 224.64 \nL 364.903125 224.64 \n\" style=\"fill:none;stroke:#000000;stroke-linecap:square;stroke-linejoin:miter;stroke-width:0.8;\"/>\n   </g>\n   <g id=\"patch_6\">\n    <path d=\"M 30.103125 7.2 \nL 364.903125 7.2 \n\" style=\"fill:none;stroke:#000000;stroke-linecap:square;stroke-linejoin:miter;stroke-width:0.8;\"/>\n   </g>\n  </g>\n </g>\n <defs>\n  <clipPath id=\"pcb161ff183\">\n   <rect height=\"217.44\" width=\"334.8\" x=\"30.103125\" y=\"7.2\"/>\n  </clipPath>\n </defs>\n</svg>\n",
      "image/png": "[encoded data removed]"
     },
     "metadata": {}
    }
   ],
   "source": [
    "optimiser = Adam(model.parameters())\n",
    "lr_finder(model, ds_train, optimiser, loss_fn, lr_range=[1e-5, 1e-2], bs=8, avg_over_batches=30)"
   ]
  },
  {
   "cell_type": "code",
   "execution_count": 18,
   "metadata": {},
   "outputs": [
    {
     "output_type": "stream",
     "name": "stderr",
     "text": "05/12/2020 12:07:27 AM INFO : Epoch : 1, batch : 100, train_loss = 0.6909, val_loss = 0.6709, val_accuracy : 0.503, time = 1s\n05/12/2020 12:07:28 AM INFO : Epoch : 1, batch : 200, train_loss = 0.6215, val_loss = 0.5855, val_accuracy : 0.783, time = 1s\n05/12/2020 12:07:29 AM INFO : Epoch : 1, batch : 300, train_loss = 0.5887, val_loss = 0.5680, val_accuracy : 0.797, time = 2s\n05/12/2020 12:07:29 AM INFO : Epoch : 2, batch : 100, train_loss = 0.5577, val_loss = 0.5361, val_accuracy : 0.737, time = 2s\n05/12/2020 12:07:30 AM INFO : Epoch : 2, batch : 200, train_loss = 0.4810, val_loss = 0.4576, val_accuracy : 0.820, time = 3s\n05/12/2020 12:07:31 AM INFO : Epoch : 2, batch : 300, train_loss = 0.4784, val_loss = 0.4466, val_accuracy : 0.830, time = 4s\n05/12/2020 12:07:31 AM INFO : Epoch : 3, batch : 100, train_loss = 0.4478, val_loss = 0.4333, val_accuracy : 0.827, time = 4s\n05/12/2020 12:07:32 AM INFO : Epoch : 3, batch : 200, train_loss = 0.3830, val_loss = 0.3864, val_accuracy : 0.860, time = 5s\n05/12/2020 12:07:32 AM INFO : Epoch : 3, batch : 300, train_loss = 0.4116, val_loss = 0.3808, val_accuracy : 0.860, time = 5s\n05/12/2020 12:07:33 AM INFO : Epoch : 4, batch : 100, train_loss = 0.3875, val_loss = 0.3915, val_accuracy : 0.823, time = 6s\n05/12/2020 12:07:34 AM INFO : Epoch : 4, batch : 200, train_loss = 0.3288, val_loss = 0.3540, val_accuracy : 0.877, time = 7s\n05/12/2020 12:07:34 AM INFO : Epoch : 4, batch : 300, train_loss = 0.3970, val_loss = 0.3493, val_accuracy : 0.877, time = 7s\n05/12/2020 12:07:35 AM INFO : Epoch : 5, batch : 100, train_loss = 0.3439, val_loss = 0.3634, val_accuracy : 0.850, time = 8s\n05/12/2020 12:07:36 AM INFO : Epoch : 5, batch : 200, train_loss = 0.3024, val_loss = 0.3361, val_accuracy : 0.883, time = 9s\n05/12/2020 12:07:36 AM INFO : Epoch : 5, batch : 300, train_loss = 0.3637, val_loss = 0.3329, val_accuracy : 0.880, time = 9s\n"
    }
   ],
   "source": [
    "optimiser = Adam(model.parameters())\n",
    "learner(model, loss_fn, optimiser, ds_train, ds_val, epochs=5, bs=8, scheduler_fn=scheduler_fn)"
   ]
  },
  {
   "cell_type": "code",
   "execution_count": 19,
   "metadata": {},
   "outputs": [
    {
     "output_type": "stream",
     "name": "stderr",
     "text": "05/12/2020 12:08:27 AM INFO : Epoch : 1, batch : 100, train_loss = 0.3183, val_loss = 0.3324, val_accuracy : 0.883, time = 1s\n05/12/2020 12:08:27 AM INFO : Epoch : 1, batch : 200, train_loss = 0.2606, val_loss = 0.3293, val_accuracy : 0.887, time = 1s\n05/12/2020 12:08:28 AM INFO : Epoch : 1, batch : 300, train_loss = 0.3606, val_loss = 0.3292, val_accuracy : 0.880, time = 2s\n05/12/2020 12:08:29 AM INFO : Epoch : 2, batch : 100, train_loss = 0.2909, val_loss = 0.3280, val_accuracy : 0.887, time = 2s\n05/12/2020 12:08:29 AM INFO : Epoch : 2, batch : 200, train_loss = 0.2529, val_loss = 0.3274, val_accuracy : 0.880, time = 3s\n05/12/2020 12:08:30 AM INFO : Epoch : 2, batch : 300, train_loss = 0.3585, val_loss = 0.3273, val_accuracy : 0.880, time = 4s\n05/12/2020 12:08:30 AM INFO : Epoch : 3, batch : 100, train_loss = 0.2982, val_loss = 0.3260, val_accuracy : 0.890, time = 4s\n05/12/2020 12:08:31 AM INFO : Epoch : 3, batch : 200, train_loss = 0.2492, val_loss = 0.3246, val_accuracy : 0.883, time = 5s\n05/12/2020 12:08:32 AM INFO : Epoch : 3, batch : 300, train_loss = 0.3452, val_loss = 0.3244, val_accuracy : 0.883, time = 5s\n"
    }
   ],
   "source": [
    "scheduler_fn = partial(OneCycleLR, pct_start=0.1, max_lr=1e-4, steps_per_epoch=len(ds_train)//8, epochs=1)\n",
    "learner(model, loss_fn, optimiser, ds_train, ds_val, epochs=3, bs=8, scheduler_fn=scheduler_fn)"
   ]
  },
  {
   "cell_type": "code",
   "execution_count": 20,
   "metadata": {},
   "outputs": [
    {
     "output_type": "stream",
     "name": "stderr",
     "text": "05/12/2020 12:08:47 AM INFO : Epoch : 1, batch : 100, train_loss = 0.2888, val_loss = 0.3225, val_accuracy : 0.893, time = 2s\n05/12/2020 12:08:49 AM INFO : Epoch : 1, batch : 200, train_loss = 0.2398, val_loss = 0.3201, val_accuracy : 0.880, time = 4s\n05/12/2020 12:08:50 AM INFO : Epoch : 1, batch : 300, train_loss = 0.3443, val_loss = 0.3201, val_accuracy : 0.883, time = 5s\n05/12/2020 12:08:52 AM INFO : Epoch : 2, batch : 100, train_loss = 0.2664, val_loss = 0.3184, val_accuracy : 0.893, time = 7s\n05/12/2020 12:08:54 AM INFO : Epoch : 2, batch : 200, train_loss = 0.2294, val_loss = 0.3156, val_accuracy : 0.890, time = 9s\n05/12/2020 12:08:56 AM INFO : Epoch : 2, batch : 300, train_loss = 0.3373, val_loss = 0.3155, val_accuracy : 0.890, time = 11s\n05/12/2020 12:08:58 AM INFO : Epoch : 3, batch : 100, train_loss = 0.2642, val_loss = 0.3127, val_accuracy : 0.887, time = 13s\n05/12/2020 12:09:00 AM INFO : Epoch : 3, batch : 200, train_loss = 0.2139, val_loss = 0.3111, val_accuracy : 0.890, time = 15s\n05/12/2020 12:09:02 AM INFO : Epoch : 3, batch : 300, train_loss = 0.3355, val_loss = 0.3111, val_accuracy : 0.890, time = 17s\n"
    }
   ],
   "source": [
    "model.word_embeddings.weight.requires_grad_(True);\n",
    "scheduler_fn = partial(OneCycleLR, pct_start=0.1, max_lr=1e-4, steps_per_epoch=len(ds_train)//8, epochs=1)\n",
    "learner(model, loss_fn, optimiser, ds_train, ds_val, epochs=3, bs=8, scheduler_fn=scheduler_fn)"
   ]
  },
  {
   "cell_type": "code",
   "execution_count": 21,
   "metadata": {},
   "outputs": [
    {
     "output_type": "stream",
     "name": "stderr",
     "text": "05/12/2020 12:09:16 AM INFO : Epoch : 1, batch : 100, train_loss = 0.2399, val_loss = 0.3096, val_accuracy : 0.890, time = 2s\n05/12/2020 12:09:18 AM INFO : Epoch : 1, batch : 200, train_loss = 0.2162, val_loss = 0.3094, val_accuracy : 0.890, time = 3s\n05/12/2020 12:09:19 AM INFO : Epoch : 1, batch : 300, train_loss = 0.3339, val_loss = 0.3095, val_accuracy : 0.890, time = 5s\n05/12/2020 12:09:21 AM INFO : Epoch : 2, batch : 100, train_loss = 0.2427, val_loss = 0.3082, val_accuracy : 0.890, time = 7s\n05/12/2020 12:09:23 AM INFO : Epoch : 2, batch : 200, train_loss = 0.2058, val_loss = 0.3078, val_accuracy : 0.890, time = 9s\n05/12/2020 12:09:25 AM INFO : Epoch : 2, batch : 300, train_loss = 0.3251, val_loss = 0.3078, val_accuracy : 0.890, time = 11s\n05/12/2020 12:09:27 AM INFO : Epoch : 3, batch : 100, train_loss = 0.2493, val_loss = 0.3068, val_accuracy : 0.890, time = 13s\n05/12/2020 12:09:29 AM INFO : Epoch : 3, batch : 200, train_loss = 0.2216, val_loss = 0.3066, val_accuracy : 0.890, time = 15s\n05/12/2020 12:09:31 AM INFO : Epoch : 3, batch : 300, train_loss = 0.3277, val_loss = 0.3066, val_accuracy : 0.890, time = 17s\n"
    }
   ],
   "source": [
    "model.word_embeddings.weight.requires_grad_(True);\n",
    "scheduler_fn = partial(OneCycleLR, pct_start=0.1, max_lr=3e-5, steps_per_epoch=len(ds_train)//8, epochs=1)\n",
    "learner(model, loss_fn, optimiser, ds_train, ds_val, epochs=3, bs=8, scheduler_fn=scheduler_fn)"
   ]
  },
  {
   "cell_type": "code",
   "execution_count": 22,
   "metadata": {},
   "outputs": [
    {
     "output_type": "stream",
     "name": "stdout",
     "text": "Test loss : 0.27225, test accuracy : 0.903\n"
    }
   ],
   "source": [
    "print('Test loss : {:.5f}, test accuracy : {:.03f}'.format(*validate(ds_test, loss_fn, model)))"
   ]
  },
  {
   "cell_type": "markdown",
   "metadata": {},
   "source": [
    "<br>"
   ]
  },
  {
   "cell_type": "code",
   "execution_count": 23,
   "metadata": {},
   "outputs": [],
   "source": [
    "class CNN2(nn.Module):\n",
    "    def __init__(self, out_channels, kernel_heights, stride, padding, dropout, emb_weights):\n",
    "        super().__init__()\n",
    "        \n",
    "        self.out_channels = out_channels\n",
    "        self.kernel_heights = kernel_heights\n",
    "        self.stride = stride\n",
    "        self.padding = padding\n",
    "        self.embedding_length = emb_weights.shape[1]\n",
    "\n",
    "        self.word_embeddings = nn.Embedding.from_pretrained(emb_weights)\n",
    "        self.conv1 = nn.Conv2d(1, out_channels, (kernel_heights[0], self.embedding_length), stride, (padding[0], 0))\n",
    "        self.conv2 = nn.Conv2d(out_channels, 2*out_channels, (kernel_heights[1], 1), stride, (padding[1], 0))\n",
    "        self.conv3 = nn.Conv2d(2*out_channels, 4*out_channels, (kernel_heights[2], 1), stride, (padding[2], 0))\n",
    "        self.dropout0 = nn.Dropout(p=dropout[0])\n",
    "        self.dropout1 = nn.Dropout(p=dropout[1])\n",
    "        self.relu = nn.ReLU()\n",
    "        self.head = nn.Linear(4*out_channels, 2)\n",
    "\n",
    "    def forward(self, batch):\n",
    "        input = self.word_embeddings(batch).unsqueeze(1)\n",
    "        # input.size() = (batch_size, 1, num_seq, embedding_length)\n",
    "        \n",
    "        out = self.relu(self.conv1(self.dropout0(input)))\n",
    "        out = self.relu(self.conv2(self.dropout0(out)))\n",
    "        out = self.relu(self.conv3(self.dropout0(out)))\n",
    "        max_out = max_out = nn.functional.max_pool1d(out.squeeze(3), out.size()[2]).squeeze(2)\n",
    "\n",
    "        return self.head(self.dropout1(max_out))"
   ]
  },
  {
   "cell_type": "code",
   "execution_count": 30,
   "metadata": {},
   "outputs": [],
   "source": [
    "model = CNN2(out_channels=32, kernel_heights=(1, 3, 5), stride=1, padding=(0, 1, 2), dropout=(0.3, 0.3), emb_weights=emb_weights.clone())\n",
    "loss_fn = nn.CrossEntropyLoss().to(device)\n",
    "optimiser = Adam(model.parameters())"
   ]
  },
  {
   "cell_type": "code",
   "execution_count": 304,
   "metadata": {},
   "outputs": [
    {
     "name": "stdout",
     "output_type": "stream",
     "text": [
      "Finding learning rate ...100%\r"
     ]
    },
    {
     "data": {
      "image/png": "[encoded data removed]",
      "text/plain": [
       "<Figure size 432x288 with 1 Axes>"
      ]
     },
     "metadata": {},
     "output_type": "display_data"
    }
   ],
   "source": [
    "optimiser = Adam(model.parameters())\n",
    "lr_finder(model, ds_train, optimiser, loss_fn, lr_range=[1e-6, 1e-2], bs=8, avg_over_batches=30)"
   ]
  },
  {
   "cell_type": "code",
   "execution_count": 31,
   "metadata": {},
   "outputs": [
    {
     "output_type": "stream",
     "name": "stderr",
     "text": "05/12/2020 12:44:31 AM INFO : Epoch : 1, batch : 100, train_loss = 0.6902, val_loss = 0.6912, val_accuracy : 0.473, time = 1s\n05/12/2020 12:44:32 AM INFO : Epoch : 1, batch : 200, train_loss = 0.5485, val_loss = 0.3868, val_accuracy : 0.823, time = 2s\n05/12/2020 12:44:33 AM INFO : Epoch : 1, batch : 300, train_loss = 0.4455, val_loss = 0.3525, val_accuracy : 0.853, time = 3s\n05/12/2020 12:44:34 AM INFO : Epoch : 2, batch : 100, train_loss = 0.4318, val_loss = 0.3577, val_accuracy : 0.857, time = 4s\n05/12/2020 12:44:35 AM INFO : Epoch : 2, batch : 200, train_loss = 0.3555, val_loss = 0.3251, val_accuracy : 0.870, time = 5s\n05/12/2020 12:44:36 AM INFO : Epoch : 2, batch : 300, train_loss = 0.4070, val_loss = 0.3120, val_accuracy : 0.863, time = 6s\n05/12/2020 12:44:36 AM INFO : Epoch : 3, batch : 100, train_loss = 0.3715, val_loss = 0.3123, val_accuracy : 0.883, time = 7s\n05/12/2020 12:44:37 AM INFO : Epoch : 3, batch : 200, train_loss = 0.3334, val_loss = 0.2982, val_accuracy : 0.887, time = 7s\n05/12/2020 12:44:38 AM INFO : Epoch : 3, batch : 300, train_loss = 0.3511, val_loss = 0.3081, val_accuracy : 0.860, time = 8s\n"
    }
   ],
   "source": [
    "scheduler_fn = partial(OneCycleLR, pct_start=0.3, max_lr=5e-4, steps_per_epoch=len(ds_train)//8, epochs=1)\n",
    "learner(model, loss_fn, optimiser, ds_train, ds_val, epochs=3, bs=8)"
   ]
  },
  {
   "cell_type": "code",
   "execution_count": 32,
   "metadata": {},
   "outputs": [
    {
     "output_type": "stream",
     "name": "stderr",
     "text": "05/12/2020 12:44:52 AM INFO : Epoch : 1, batch : 100, train_loss = 0.3586, val_loss = 0.3131, val_accuracy : 0.867, time = 1s\n05/12/2020 12:44:53 AM INFO : Epoch : 1, batch : 200, train_loss = 0.3098, val_loss = 0.2933, val_accuracy : 0.890, time = 2s\n05/12/2020 12:44:54 AM INFO : Epoch : 1, batch : 300, train_loss = 0.3577, val_loss = 0.3064, val_accuracy : 0.873, time = 3s\n05/12/2020 12:44:55 AM INFO : Epoch : 2, batch : 100, train_loss = 0.3060, val_loss = 0.3360, val_accuracy : 0.850, time = 4s\n05/12/2020 12:44:56 AM INFO : Epoch : 2, batch : 200, train_loss = 0.3199, val_loss = 0.3070, val_accuracy : 0.887, time = 5s\n05/12/2020 12:44:57 AM INFO : Epoch : 2, batch : 300, train_loss = 0.3529, val_loss = 0.3249, val_accuracy : 0.863, time = 6s\n05/12/2020 12:44:58 AM INFO : Epoch : 3, batch : 100, train_loss = 0.3164, val_loss = 0.3301, val_accuracy : 0.860, time = 7s\n05/12/2020 12:44:59 AM INFO : Epoch : 3, batch : 200, train_loss = 0.2602, val_loss = 0.3044, val_accuracy : 0.877, time = 8s\n05/12/2020 12:45:00 AM INFO : Epoch : 3, batch : 300, train_loss = 0.3358, val_loss = 0.3036, val_accuracy : 0.873, time = 9s\n"
    }
   ],
   "source": [
    "scheduler_fn = partial(OneCycleLR, pct_start=0.1, max_lr=1e-4, steps_per_epoch=len(ds_train)//8, epochs=1)\n",
    "learner(model, loss_fn, optimiser, ds_train, ds_val, epochs=3, bs=8)"
   ]
  },
  {
   "cell_type": "code",
   "execution_count": 33,
   "metadata": {},
   "outputs": [
    {
     "output_type": "stream",
     "name": "stderr",
     "text": "05/12/2020 12:45:14 AM INFO : Epoch : 1, batch : 100, train_loss = 0.2997, val_loss = 0.2898, val_accuracy : 0.867, time = 2s\n05/12/2020 12:45:16 AM INFO : Epoch : 1, batch : 200, train_loss = 0.2573, val_loss = 0.3125, val_accuracy : 0.883, time = 4s\n05/12/2020 12:45:19 AM INFO : Epoch : 1, batch : 300, train_loss = 0.3077, val_loss = 0.2992, val_accuracy : 0.883, time = 7s\n05/12/2020 12:45:21 AM INFO : Epoch : 2, batch : 100, train_loss = 0.2437, val_loss = 0.2922, val_accuracy : 0.877, time = 9s\n05/12/2020 12:45:23 AM INFO : Epoch : 2, batch : 200, train_loss = 0.2115, val_loss = 0.2895, val_accuracy : 0.887, time = 12s\n05/12/2020 12:45:26 AM INFO : Epoch : 2, batch : 300, train_loss = 0.2282, val_loss = 0.3014, val_accuracy : 0.887, time = 14s\n05/12/2020 12:45:28 AM INFO : Epoch : 3, batch : 100, train_loss = 0.1726, val_loss = 0.2958, val_accuracy : 0.877, time = 16s\n05/12/2020 12:45:31 AM INFO : Epoch : 3, batch : 200, train_loss = 0.1408, val_loss = 0.3100, val_accuracy : 0.890, time = 19s\n05/12/2020 12:45:33 AM INFO : Epoch : 3, batch : 300, train_loss = 0.1898, val_loss = 0.3280, val_accuracy : 0.890, time = 21s\n"
    }
   ],
   "source": [
    "model.word_embeddings.weight.requires_grad_(True);\n",
    "scheduler_fn = partial(OneCycleLR, pct_start=0.1, max_lr=1e-4, steps_per_epoch=len(ds_train)//8, epochs=1)\n",
    "learner(model, loss_fn, optimiser, ds_train, ds_val, epochs=3, bs=8)"
   ]
  },
  {
   "cell_type": "code",
   "execution_count": 314,
   "metadata": {},
   "outputs": [
    {
     "name": "stderr",
     "output_type": "stream",
     "text": [
      "05/07/2020 04:55:03 PM INFO : Epoch : 1, batch : 100, train_loss = 0.1699, val_loss = 0.2592, val_accuracy : 0.897, time = 3s\n",
      "05/07/2020 04:55:06 PM INFO : Epoch : 1, batch : 200, train_loss = 0.1545, val_loss = 0.2629, val_accuracy : 0.907, time = 5s\n",
      "05/07/2020 04:55:08 PM INFO : Epoch : 1, batch : 300, train_loss = 0.1832, val_loss = 0.2586, val_accuracy : 0.900, time = 8s\n",
      "05/07/2020 04:55:11 PM INFO : Epoch : 2, batch : 100, train_loss = 0.1630, val_loss = 0.2583, val_accuracy : 0.900, time = 11s\n",
      "05/07/2020 04:55:13 PM INFO : Epoch : 2, batch : 200, train_loss = 0.1662, val_loss = 0.2637, val_accuracy : 0.903, time = 13s\n",
      "05/07/2020 04:55:16 PM INFO : Epoch : 2, batch : 300, train_loss = 0.1874, val_loss = 0.2599, val_accuracy : 0.907, time = 16s\n",
      "05/07/2020 04:55:19 PM INFO : Epoch : 3, batch : 100, train_loss = 0.1607, val_loss = 0.2581, val_accuracy : 0.900, time = 18s\n",
      "05/07/2020 04:55:21 PM INFO : Epoch : 3, batch : 200, train_loss = 0.1597, val_loss = 0.2583, val_accuracy : 0.903, time = 21s\n",
      "05/07/2020 04:55:24 PM INFO : Epoch : 3, batch : 300, train_loss = 0.1749, val_loss = 0.2600, val_accuracy : 0.903, time = 24s\n"
     ]
    }
   ],
   "source": [
    "scheduler_fn = partial(OneCycleLR, pct_start=0.1, max_lr=1e-4, steps_per_epoch=len(ds_train)//8, epochs=1)\n",
    "learner(model, loss_fn, optimiser, ds_train, ds_val, epochs=3, bs=8)"
   ]
  },
  {
   "cell_type": "code",
   "execution_count": 34,
   "metadata": {},
   "outputs": [
    {
     "output_type": "stream",
     "name": "stdout",
     "text": "Test loss : 0.25334, test accuracy : 0.907\n"
    }
   ],
   "source": [
    "print('Test loss : {:.5f}, test accuracy : {:.03f}'.format(*validate(ds_test, loss_fn, model)))"
   ]
  },
  {
   "cell_type": "markdown",
   "metadata": {},
   "source": [
    "<br>"
   ]
  },
  {
   "cell_type": "markdown",
   "metadata": {},
   "source": [
    "### Look at some predictions"
   ]
  },
  {
   "cell_type": "code",
   "execution_count": 203,
   "metadata": {},
   "outputs": [],
   "source": [
    "import numpy as np"
   ]
  },
  {
   "cell_type": "code",
   "execution_count": 299,
   "metadata": {},
   "outputs": [],
   "source": [
    "def most_confused(ds, loss_fn, model, top_k=5, device=device):\n",
    "    is_in_train = model.training\n",
    "    model.eval()\n",
    "    with torch.no_grad():\n",
    "        predictions = []\n",
    "        gt = []\n",
    "        losses = []\n",
    "        reviews = []\n",
    "        for i, batch in enumerate(MyIterator(ds, 1, sort_key=lambda x: len(x.review), shuffle=False, train=False, device=device)):\n",
    "            output = model(batch.review)\n",
    "            predictions.extend(output.argmax(dim=1).tolist())\n",
    "            gt.extend(batch.label.tolist())\n",
    "            losses.append(loss_fn(output, batch.label).item())\n",
    "            reviews.append(batch.review)\n",
    "            \n",
    "    vocab = ds.fields['review'].vocab\n",
    "    preds = np.array([losses, list(range(len(reviews))), predictions, gt]).transpose()\n",
    "    wrong_preds = preds[preds[:,2] != preds[:,3]]\n",
    "    wrong_preds_sorted = np.array(sorted(wrong_preds[:], key=lambda x: x[0]))\n",
    "    top_k_wrong = wrong_preds_sorted[:top_k,:]\n",
    "    top_k_wrong = [(loss, ' '.join([vocab.itos[i] for i in reviews[int(review_id)][0].tolist()]), 'gt: {}, pred : {}'.format(gt, pred)) for (loss, review_id, pred, gt) in top_k_wrong]\n",
    "    \n",
    "    if is_in_train: model.train()    \n",
    "    return top_k_wrong"
   ]
  },
  {
   "cell_type": "code",
   "execution_count": 301,
   "metadata": {},
   "outputs": [
    {
     "data": {
      "text/plain": [
       "[(0.7110309600830078, \"better than you 'd expect .\", 'gt: 1.0, pred : 0.0'),\n",
       " (0.7474281787872314,\n",
       "  'i dressed up to be treated so rudely !',\n",
       "  'gt: 0.0, pred : 1.0'),\n",
       " (0.7563066482543945,\n",
       "  'the only thing i did like was the prime rib and dessert section .',\n",
       "  'gt: 1.0, pred : 0.0'),\n",
       " (0.7787615656852722, 'i just wanted to leave .', 'gt: 0.0, pred : 1.0'),\n",
       " (0.8162384033203125,\n",
       "  'i ordered this for sony ericsson <unk> but i think it only worked once ( that s when i first used it ) .',\n",
       "  'gt: 0.0, pred : 1.0'),\n",
       " (0.8669049739837646,\n",
       "  'motorola finally got the voice quality of a bluetooth headset right .',\n",
       "  'gt: 1.0, pred : 0.0'),\n",
       " (0.9086286425590515,\n",
       "  \"the best example of how dumb the writing is when it 's established that you can turn the zombie - students back into humans by removing a necklace containing a piece of the meteorite .\",\n",
       "  'gt: 0.0, pred : 1.0'),\n",
       " (0.979867696762085,\n",
       "  'kris kristoffersen is good in this movie and really makes a difference .',\n",
       "  'gt: 1.0, pred : 0.0'),\n",
       " (1.0723228454589844,\n",
       "  \"i 'll take my business dinner dollars elsewhere .\",\n",
       "  'gt: 0.0, pred : 1.0'),\n",
       " (1.0822501182556152,\n",
       "  'much less than the jawbone i was going to replace it with .',\n",
       "  'gt: 1.0, pred : 0.0')]"
      ]
     },
     "execution_count": 301,
     "metadata": {},
     "output_type": "execute_result"
    }
   ],
   "source": [
    "most_confused(ds_val, loss_fn, model, top_k=10)"
   ]
  }
 ],
 "metadata": {
  "kernelspec": {
   "display_name": "Python 3",
   "language": "python",
   "name": "python3"
  },
  "language_info": {
   "codemirror_mode": {
    "name": "ipython",
    "version": 3
   },
   "file_extension": ".py",
   "mimetype": "text/x-python",
   "name": "python",
   "nbconvert_exporter": "python",
   "pygments_lexer": "ipython3",
   "version": "3.7.7-final"
  }
 },
 "nbformat": 4,
 "nbformat_minor": 4
}