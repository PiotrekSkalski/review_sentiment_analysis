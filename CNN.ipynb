{
 "cells": [
  {
   "cell_type": "code",
   "execution_count": 2,
   "metadata": {},
   "outputs": [],
   "source": [
    "from utils import lr_finder, learner, validate, MyIterator\n",
    "from get_dataset import get_dataset\n",
    "import random\n",
    "import time\n",
    "import os\n",
    "import torch\n",
    "import torch.nn as nn\n",
    "from torch.optim import Adam\n",
    "from importlib import reload\n",
    "\n",
    "device = torch.device('cuda' if torch.cuda.is_available() else 'cpu')"
   ]
  },
  {
   "cell_type": "code",
   "execution_count": 3,
   "metadata": {},
   "outputs": [],
   "source": [
    "# If you have dark theme\n",
    "from matplotlib.pyplot import rcParams\n",
    "rcParams['figure.facecolor'] = 'white'"
   ]
  },
  {
   "cell_type": "code",
   "execution_count": 4,
   "metadata": {},
   "outputs": [],
   "source": [
    "# Setup logger\n",
    "import logging\n",
    "logging.basicConfig(level=logging.INFO,\n",
    "                    format='%(asctime)s %(levelname)s : %(message)s', datefmt='%m/%d/%Y %I:%M:%S %p')"
   ]
  },
  {
   "cell_type": "code",
   "execution_count": 86,
   "metadata": {},
   "outputs": [
    {
     "name": "stderr",
     "output_type": "stream",
     "text": [
      "05/07/2020 03:03:48 PM INFO : Downloading data\n",
      "05/07/2020 03:03:49 PM INFO : Downloading GloVe word vectors\n",
      "05/07/2020 03:03:49 PM INFO : Loading vectors from .vector_cache/glove.6B.300d.txt.pt\n",
      "05/07/2020 03:03:58 PM INFO : Loading vectors from .vector_cache/glove.6B.300d.txt.pt\n"
     ]
    }
   ],
   "source": [
    "dataset, emb_weights = get_dataset()\n",
    "# dataset.fields['review'].include_lengths = True\n",
    "\n",
    "random.seed(43)\n",
    "ds_train, ds_val, ds_test = dataset.split(split_ratio=[0.8, 0.1, 0.1], random_state=random.getstate())"
   ]
  },
  {
   "cell_type": "markdown",
   "metadata": {},
   "source": [
    "<br>"
   ]
  },
  {
   "cell_type": "code",
   "execution_count": 317,
   "metadata": {},
   "outputs": [],
   "source": [
    "class CNN(nn.Module):\n",
    "    def __init__(self, out_channels, kernel_heights, stride, padding, dropout, emb_weights):\n",
    "        super().__init__()\n",
    "\n",
    "        self.out_channels = out_channels\n",
    "        self.kernel_heights = kernel_heights\n",
    "        self.stride = stride\n",
    "        self.padding = padding\n",
    "        self.embedding_length = emb_weights.shape[1]\n",
    "\n",
    "        self.word_embeddings = nn.Embedding.from_pretrained(emb_weights)\n",
    "        self.conv1 = nn.Conv2d(1, out_channels, (kernel_heights[0], self.embedding_length), stride, (padding[0], 0))\n",
    "        self.conv2 = nn.Conv2d(1, out_channels, (kernel_heights[1], self.embedding_length), stride, (padding[1], 0))\n",
    "        self.conv3 = nn.Conv2d(1, out_channels, (kernel_heights[2], self.embedding_length), stride, (padding[2], 0))\n",
    "        self.conv4 = nn.Conv2d(1, out_channels, (kernel_heights[3], self.embedding_length), stride, (padding[3], 0))\n",
    "        self.dropout0 = nn.Dropout(p=dropout[0])\n",
    "        self.dropout1 = nn.Dropout(p=dropout[1])\n",
    "        self.relu = nn.ReLU()\n",
    "        self.head = nn.Linear(len(kernel_heights)*out_channels, 2)\n",
    "\n",
    "    def conv_block(self, input, conv_layer):\n",
    "        conv_out = conv_layer(input)# conv_out.size() = (batch_size, out_channels, dim, 1)\n",
    "        activation = self.relu(conv_out.squeeze(3))# activation.size() = (batch_size, out_channels, dim1)\n",
    "        max_out = nn.functional.max_pool1d(activation, activation.size()[2]).squeeze(2)# maxpool_out.size() = (batch_size, out_channels)\n",
    "\n",
    "        return max_out\n",
    "\n",
    "    def forward(self, batch):\n",
    "        input = self.word_embeddings(batch).unsqueeze(1)\n",
    "\n",
    "        max_out1 = self.conv_block(self.dropout0(input), self.conv1)\n",
    "        max_out2 = self.conv_block(self.dropout0(input), self.conv2)\n",
    "        max_out3 = self.conv_block(self.dropout0(input), self.conv3)\n",
    "        max_out4 = self.conv_block(self.dropout0(input), self.conv4)\n",
    "        all_out = torch.cat((max_out1, max_out2, max_out3, max_out4), 1)\n",
    "\n",
    "        return self.head(self.dropout1(all_out))"
   ]
  },
  {
   "cell_type": "code",
   "execution_count": 190,
   "metadata": {},
   "outputs": [],
   "source": [
    "model = CNN(out_channels=16, kernel_heights=(1, 3, 5, 7), stride=1, padding=(0, 1, 2, 3), dropout=(0.4, 0.4), emb_weights=emb_weights.clone())\n",
    "loss_fn = nn.CrossEntropyLoss().to(device)"
   ]
  },
  {
   "cell_type": "code",
   "execution_count": 89,
   "metadata": {},
   "outputs": [
    {
     "name": "stdout",
     "output_type": "stream",
     "text": [
      "Finding learning rate ...100%\r"
     ]
    },
    {
     "data": {
      "image/png": "[encoded data removed]",
      "text/plain": [
       "<Figure size 432x288 with 1 Axes>"
      ]
     },
     "metadata": {},
     "output_type": "display_data"
    }
   ],
   "source": [
    "optimiser = Adam(model.parameters())\n",
    "lr_finder(model, ds_train, optimiser, loss_fn, lr_range=[1e-5, 1e-2], bs=8, avg_over_batches=30)"
   ]
  },
  {
   "cell_type": "code",
   "execution_count": 191,
   "metadata": {},
   "outputs": [
    {
     "name": "stderr",
     "output_type": "stream",
     "text": [
      "05/07/2020 04:01:40 PM INFO : Epoch : 1, batch : 100, train_loss = 0.6792, val_loss = 0.6629, val_accuracy : 0.550, time = 1s\n",
      "05/07/2020 04:01:41 PM INFO : Epoch : 1, batch : 200, train_loss = 0.6404, val_loss = 0.6134, val_accuracy : 0.757, time = 2s\n",
      "05/07/2020 04:01:41 PM INFO : Epoch : 1, batch : 300, train_loss = 0.6065, val_loss = 0.5665, val_accuracy : 0.773, time = 3s\n",
      "05/07/2020 04:01:42 PM INFO : Epoch : 2, batch : 100, train_loss = 0.5520, val_loss = 0.5389, val_accuracy : 0.740, time = 3s\n",
      "05/07/2020 04:01:43 PM INFO : Epoch : 2, batch : 200, train_loss = 0.4886, val_loss = 0.4708, val_accuracy : 0.810, time = 4s\n",
      "05/07/2020 04:01:44 PM INFO : Epoch : 2, batch : 300, train_loss = 0.4592, val_loss = 0.4344, val_accuracy : 0.817, time = 5s\n",
      "05/07/2020 04:01:45 PM INFO : Epoch : 3, batch : 100, train_loss = 0.4462, val_loss = 0.4334, val_accuracy : 0.807, time = 6s\n",
      "05/07/2020 04:01:46 PM INFO : Epoch : 3, batch : 200, train_loss = 0.3964, val_loss = 0.3865, val_accuracy : 0.843, time = 7s\n",
      "05/07/2020 04:01:47 PM INFO : Epoch : 3, batch : 300, train_loss = 0.3907, val_loss = 0.3725, val_accuracy : 0.847, time = 8s\n",
      "05/07/2020 04:01:48 PM INFO : Epoch : 4, batch : 100, train_loss = 0.3673, val_loss = 0.3699, val_accuracy : 0.847, time = 9s\n",
      "05/07/2020 04:01:49 PM INFO : Epoch : 4, batch : 200, train_loss = 0.3435, val_loss = 0.3437, val_accuracy : 0.867, time = 11s\n",
      "05/07/2020 04:01:51 PM INFO : Epoch : 4, batch : 300, train_loss = 0.3631, val_loss = 0.3397, val_accuracy : 0.860, time = 12s\n",
      "05/07/2020 04:01:52 PM INFO : Epoch : 5, batch : 100, train_loss = 0.3324, val_loss = 0.3646, val_accuracy : 0.830, time = 13s\n",
      "05/07/2020 04:01:53 PM INFO : Epoch : 5, batch : 200, train_loss = 0.3065, val_loss = 0.3265, val_accuracy : 0.883, time = 14s\n",
      "05/07/2020 04:01:54 PM INFO : Epoch : 5, batch : 300, train_loss = 0.3179, val_loss = 0.3267, val_accuracy : 0.867, time = 15s\n",
      "05/07/2020 04:01:55 PM INFO : Epoch : 6, batch : 100, train_loss = 0.3030, val_loss = 0.3312, val_accuracy : 0.860, time = 16s\n",
      "05/07/2020 04:01:56 PM INFO : Epoch : 6, batch : 200, train_loss = 0.2671, val_loss = 0.3070, val_accuracy : 0.880, time = 17s\n",
      "05/07/2020 04:01:57 PM INFO : Epoch : 6, batch : 300, train_loss = 0.2886, val_loss = 0.3152, val_accuracy : 0.873, time = 18s\n",
      "05/07/2020 04:01:58 PM INFO : Epoch : 7, batch : 100, train_loss = 0.2848, val_loss = 0.3325, val_accuracy : 0.850, time = 19s\n",
      "05/07/2020 04:01:59 PM INFO : Epoch : 7, batch : 200, train_loss = 0.2628, val_loss = 0.3063, val_accuracy : 0.877, time = 20s\n",
      "05/07/2020 04:02:00 PM INFO : Epoch : 7, batch : 300, train_loss = 0.2534, val_loss = 0.3112, val_accuracy : 0.870, time = 21s\n",
      "05/07/2020 04:02:01 PM INFO : Epoch : 8, batch : 100, train_loss = 0.2512, val_loss = 0.3117, val_accuracy : 0.867, time = 22s\n",
      "05/07/2020 04:02:02 PM INFO : Epoch : 8, batch : 200, train_loss = 0.2327, val_loss = 0.3037, val_accuracy : 0.873, time = 23s\n",
      "05/07/2020 04:02:03 PM INFO : Epoch : 8, batch : 300, train_loss = 0.2470, val_loss = 0.3082, val_accuracy : 0.877, time = 24s\n"
     ]
    }
   ],
   "source": [
    "optimiser = Adam(model.parameters(), lr=3e-4)\n",
    "learner(model, loss_fn, optimiser, ds_train, ds_val, epochs=8, bs=8)"
   ]
  },
  {
   "cell_type": "code",
   "execution_count": 192,
   "metadata": {},
   "outputs": [
    {
     "name": "stderr",
     "output_type": "stream",
     "text": [
      "05/07/2020 04:02:05 PM INFO : Epoch : 1, batch : 100, train_loss = 0.2239, val_loss = 0.2980, val_accuracy : 0.883, time = 2s\n",
      "05/07/2020 04:02:06 PM INFO : Epoch : 1, batch : 200, train_loss = 0.2173, val_loss = 0.2968, val_accuracy : 0.873, time = 3s\n",
      "05/07/2020 04:02:07 PM INFO : Epoch : 1, batch : 300, train_loss = 0.2138, val_loss = 0.2995, val_accuracy : 0.877, time = 4s\n",
      "05/07/2020 04:02:08 PM INFO : Epoch : 2, batch : 100, train_loss = 0.2327, val_loss = 0.2978, val_accuracy : 0.880, time = 5s\n",
      "05/07/2020 04:02:10 PM INFO : Epoch : 2, batch : 200, train_loss = 0.2074, val_loss = 0.2959, val_accuracy : 0.883, time = 7s\n",
      "05/07/2020 04:02:11 PM INFO : Epoch : 2, batch : 300, train_loss = 0.2195, val_loss = 0.2953, val_accuracy : 0.887, time = 8s\n",
      "05/07/2020 04:02:12 PM INFO : Epoch : 3, batch : 100, train_loss = 0.2161, val_loss = 0.2957, val_accuracy : 0.870, time = 9s\n",
      "05/07/2020 04:02:13 PM INFO : Epoch : 3, batch : 200, train_loss = 0.2014, val_loss = 0.2935, val_accuracy : 0.883, time = 10s\n",
      "05/07/2020 04:02:15 PM INFO : Epoch : 3, batch : 300, train_loss = 0.2086, val_loss = 0.2955, val_accuracy : 0.880, time = 12s\n"
     ]
    }
   ],
   "source": [
    "optimiser.param_groups[0]['lr'] = 1e-4\n",
    "learner(model, loss_fn, optimiser, ds_train, ds_val, epochs=3, bs=8)"
   ]
  },
  {
   "cell_type": "code",
   "execution_count": 193,
   "metadata": {},
   "outputs": [
    {
     "name": "stderr",
     "output_type": "stream",
     "text": [
      "05/07/2020 04:02:18 PM INFO : Epoch : 1, batch : 100, train_loss = 0.2122, val_loss = 0.2915, val_accuracy : 0.873, time = 3s\n",
      "05/07/2020 04:02:21 PM INFO : Epoch : 1, batch : 200, train_loss = 0.1978, val_loss = 0.2872, val_accuracy : 0.883, time = 6s\n",
      "05/07/2020 04:02:24 PM INFO : Epoch : 1, batch : 300, train_loss = 0.1936, val_loss = 0.2882, val_accuracy : 0.880, time = 8s\n",
      "05/07/2020 04:02:27 PM INFO : Epoch : 2, batch : 100, train_loss = 0.2012, val_loss = 0.2854, val_accuracy : 0.880, time = 11s\n",
      "05/07/2020 04:02:30 PM INFO : Epoch : 2, batch : 200, train_loss = 0.1922, val_loss = 0.2849, val_accuracy : 0.880, time = 14s\n",
      "05/07/2020 04:02:32 PM INFO : Epoch : 2, batch : 300, train_loss = 0.1917, val_loss = 0.2815, val_accuracy : 0.883, time = 17s\n",
      "05/07/2020 04:02:35 PM INFO : Epoch : 3, batch : 100, train_loss = 0.1793, val_loss = 0.2808, val_accuracy : 0.877, time = 19s\n",
      "05/07/2020 04:02:37 PM INFO : Epoch : 3, batch : 200, train_loss = 0.1565, val_loss = 0.2803, val_accuracy : 0.890, time = 22s\n",
      "05/07/2020 04:02:40 PM INFO : Epoch : 3, batch : 300, train_loss = 0.1778, val_loss = 0.2805, val_accuracy : 0.883, time = 24s\n"
     ]
    }
   ],
   "source": [
    "model.word_embeddings.weight.requires_grad_(True);\n",
    "optimiser.param_groups[0]['lr'] = 1e-4\n",
    "learner(model, loss_fn, optimiser, ds_train, ds_val, epochs=3, bs=8)"
   ]
  },
  {
   "cell_type": "code",
   "execution_count": 194,
   "metadata": {},
   "outputs": [
    {
     "name": "stderr",
     "output_type": "stream",
     "text": [
      "05/07/2020 04:02:42 PM INFO : Epoch : 1, batch : 100, train_loss = 0.1662, val_loss = 0.2785, val_accuracy : 0.890, time = 2s\n",
      "05/07/2020 04:02:45 PM INFO : Epoch : 1, batch : 200, train_loss = 0.1488, val_loss = 0.2778, val_accuracy : 0.890, time = 5s\n",
      "05/07/2020 04:02:47 PM INFO : Epoch : 1, batch : 300, train_loss = 0.1677, val_loss = 0.2790, val_accuracy : 0.893, time = 7s\n",
      "05/07/2020 04:02:50 PM INFO : Epoch : 2, batch : 100, train_loss = 0.1561, val_loss = 0.2764, val_accuracy : 0.887, time = 10s\n",
      "05/07/2020 04:02:52 PM INFO : Epoch : 2, batch : 200, train_loss = 0.1473, val_loss = 0.2757, val_accuracy : 0.887, time = 12s\n",
      "05/07/2020 04:02:54 PM INFO : Epoch : 2, batch : 300, train_loss = 0.1598, val_loss = 0.2761, val_accuracy : 0.893, time = 15s\n",
      "05/07/2020 04:02:57 PM INFO : Epoch : 3, batch : 100, train_loss = 0.1433, val_loss = 0.2752, val_accuracy : 0.887, time = 17s\n",
      "05/07/2020 04:02:59 PM INFO : Epoch : 3, batch : 200, train_loss = 0.1379, val_loss = 0.2764, val_accuracy : 0.893, time = 19s\n",
      "05/07/2020 04:03:02 PM INFO : Epoch : 3, batch : 300, train_loss = 0.1534, val_loss = 0.2765, val_accuracy : 0.893, time = 22s\n"
     ]
    }
   ],
   "source": [
    "optimiser.param_groups[0]['lr'] = 5e-5\n",
    "learner(model, loss_fn, optimiser, ds_train, ds_val, epochs=3, bs=8)"
   ]
  },
  {
   "cell_type": "code",
   "execution_count": 195,
   "metadata": {},
   "outputs": [
    {
     "name": "stdout",
     "output_type": "stream",
     "text": [
      "Test loss : 0.23483, test accuracy : 0.890\n"
     ]
    }
   ],
   "source": [
    "print('Test loss : {:.5f}, test accuracy : {:.03f}'.format(*validate(ds_test, loss_fn, model)))"
   ]
  },
  {
   "cell_type": "markdown",
   "metadata": {},
   "source": [
    "<br>"
   ]
  },
  {
   "cell_type": "code",
   "execution_count": 318,
   "metadata": {},
   "outputs": [],
   "source": [
    "class CNN2(nn.Module):\n",
    "    def __init__(self, out_channels, kernel_heights, stride, padding, dropout, emb_weights):\n",
    "        super().__init__()\n",
    "        \n",
    "        self.out_channels = out_channels\n",
    "        self.kernel_heights = kernel_heights\n",
    "        self.stride = stride\n",
    "        self.padding = padding\n",
    "        self.embedding_length = emb_weights.shape[1]\n",
    "\n",
    "        self.word_embeddings = nn.Embedding.from_pretrained(emb_weights)\n",
    "        self.conv1 = nn.Conv2d(1, out_channels, (kernel_heights[0], self.embedding_length), stride, (padding[0], 0))\n",
    "        self.conv2 = nn.Conv2d(out_channels, 2*out_channels, (kernel_heights[1], 1), stride, (padding[1], 0))\n",
    "        self.conv3 = nn.Conv2d(2*out_channels, 4*out_channels, (kernel_heights[2], 1), stride, (padding[2], 0))\n",
    "        self.dropout0 = nn.Dropout(p=dropout[0])\n",
    "        self.dropout1 = nn.Dropout(p=dropout[1])\n",
    "        self.relu = nn.ReLU()\n",
    "        self.head = nn.Linear(4*out_channels, 2)\n",
    "\n",
    "    def forward(self, batch):\n",
    "        input = self.word_embeddings(batch).unsqueeze(1)\n",
    "        # input.size() = (batch_size, 1, num_seq, embedding_length)\n",
    "        \n",
    "        out = self.relu(self.conv1(self.dropout0(input)))\n",
    "        out = self.relu(self.conv2(self.dropout0(out)))\n",
    "        out = self.relu(self.conv3(self.dropout0(out)))\n",
    "        max_out = max_out = nn.functional.max_pool1d(out.squeeze(3), out.size()[2]).squeeze(2)\n",
    "\n",
    "        return self.head(self.dropout1(max_out))"
   ]
  },
  {
   "cell_type": "code",
   "execution_count": 310,
   "metadata": {},
   "outputs": [],
   "source": [
    "model = CNN2(out_channels=32, kernel_heights=(1, 3, 5), stride=1, padding=(0, 1, 2), dropout=(0.2, 0.3), emb_weights=emb_weights.clone())\n",
    "loss_fn = nn.CrossEntropyLoss().to(device)"
   ]
  },
  {
   "cell_type": "code",
   "execution_count": 304,
   "metadata": {},
   "outputs": [
    {
     "name": "stdout",
     "output_type": "stream",
     "text": [
      "Finding learning rate ...100%\r"
     ]
    },
    {
     "data": {
      "image/png": "[encoded data removed]",
      "text/plain": [
       "<Figure size 432x288 with 1 Axes>"
      ]
     },
     "metadata": {},
     "output_type": "display_data"
    }
   ],
   "source": [
    "optimiser = Adam(model.parameters())\n",
    "lr_finder(model, ds_train, optimiser, loss_fn, lr_range=[1e-6, 1e-2], bs=8, avg_over_batches=30)"
   ]
  },
  {
   "cell_type": "code",
   "execution_count": 311,
   "metadata": {},
   "outputs": [
    {
     "name": "stderr",
     "output_type": "stream",
     "text": [
      "05/07/2020 04:53:21 PM INFO : Epoch : 1, batch : 100, train_loss = 0.6950, val_loss = 0.6930, val_accuracy : 0.473, time = 1s\n",
      "05/07/2020 04:53:22 PM INFO : Epoch : 1, batch : 200, train_loss = 0.6926, val_loss = 0.6878, val_accuracy : 0.593, time = 2s\n",
      "05/07/2020 04:53:23 PM INFO : Epoch : 1, batch : 300, train_loss = 0.6761, val_loss = 0.6394, val_accuracy : 0.693, time = 3s\n",
      "05/07/2020 04:53:24 PM INFO : Epoch : 2, batch : 100, train_loss = 0.5741, val_loss = 0.4799, val_accuracy : 0.807, time = 4s\n",
      "05/07/2020 04:53:25 PM INFO : Epoch : 2, batch : 200, train_loss = 0.4570, val_loss = 0.4010, val_accuracy : 0.823, time = 5s\n",
      "05/07/2020 04:53:26 PM INFO : Epoch : 2, batch : 300, train_loss = 0.4396, val_loss = 0.3759, val_accuracy : 0.833, time = 7s\n",
      "05/07/2020 04:53:28 PM INFO : Epoch : 3, batch : 100, train_loss = 0.4137, val_loss = 0.3671, val_accuracy : 0.853, time = 8s\n",
      "05/07/2020 04:53:29 PM INFO : Epoch : 3, batch : 200, train_loss = 0.3496, val_loss = 0.3411, val_accuracy : 0.847, time = 9s\n",
      "05/07/2020 04:53:31 PM INFO : Epoch : 3, batch : 300, train_loss = 0.3951, val_loss = 0.3380, val_accuracy : 0.853, time = 11s\n",
      "05/07/2020 04:53:32 PM INFO : Epoch : 4, batch : 100, train_loss = 0.3831, val_loss = 0.3438, val_accuracy : 0.867, time = 12s\n",
      "05/07/2020 04:53:33 PM INFO : Epoch : 4, batch : 200, train_loss = 0.3484, val_loss = 0.3128, val_accuracy : 0.887, time = 13s\n",
      "05/07/2020 04:53:35 PM INFO : Epoch : 4, batch : 300, train_loss = 0.3541, val_loss = 0.3063, val_accuracy : 0.880, time = 15s\n",
      "05/07/2020 04:53:36 PM INFO : Epoch : 5, batch : 100, train_loss = 0.3419, val_loss = 0.3299, val_accuracy : 0.863, time = 16s\n",
      "05/07/2020 04:53:38 PM INFO : Epoch : 5, batch : 200, train_loss = 0.2794, val_loss = 0.2940, val_accuracy : 0.897, time = 18s\n",
      "05/07/2020 04:53:39 PM INFO : Epoch : 5, batch : 300, train_loss = 0.3381, val_loss = 0.2994, val_accuracy : 0.893, time = 19s\n",
      "05/07/2020 04:53:40 PM INFO : Epoch : 6, batch : 100, train_loss = 0.3164, val_loss = 0.3023, val_accuracy : 0.893, time = 21s\n",
      "05/07/2020 04:53:42 PM INFO : Epoch : 6, batch : 200, train_loss = 0.2870, val_loss = 0.2885, val_accuracy : 0.887, time = 22s\n",
      "05/07/2020 04:53:43 PM INFO : Epoch : 6, batch : 300, train_loss = 0.3168, val_loss = 0.3045, val_accuracy : 0.877, time = 23s\n",
      "05/07/2020 04:53:44 PM INFO : Epoch : 7, batch : 100, train_loss = 0.2936, val_loss = 0.3100, val_accuracy : 0.867, time = 24s\n",
      "05/07/2020 04:53:46 PM INFO : Epoch : 7, batch : 200, train_loss = 0.2587, val_loss = 0.2940, val_accuracy : 0.880, time = 26s\n",
      "05/07/2020 04:53:47 PM INFO : Epoch : 7, batch : 300, train_loss = 0.3090, val_loss = 0.2909, val_accuracy : 0.877, time = 27s\n",
      "05/07/2020 04:53:48 PM INFO : Epoch : 8, batch : 100, train_loss = 0.2661, val_loss = 0.2969, val_accuracy : 0.870, time = 29s\n",
      "05/07/2020 04:53:50 PM INFO : Epoch : 8, batch : 200, train_loss = 0.2484, val_loss = 0.2746, val_accuracy : 0.887, time = 30s\n",
      "05/07/2020 04:53:51 PM INFO : Epoch : 8, batch : 300, train_loss = 0.3056, val_loss = 0.2881, val_accuracy : 0.880, time = 32s\n"
     ]
    }
   ],
   "source": [
    "optimiser = Adam(model.parameters(), lr=3e-4)\n",
    "learner(model, loss_fn, optimiser, ds_train, ds_val, epochs=8, bs=8)"
   ]
  },
  {
   "cell_type": "code",
   "execution_count": 312,
   "metadata": {},
   "outputs": [
    {
     "name": "stderr",
     "output_type": "stream",
     "text": [
      "05/07/2020 04:53:53 PM INFO : Epoch : 1, batch : 100, train_loss = 0.2599, val_loss = 0.2779, val_accuracy : 0.887, time = 1s\n",
      "05/07/2020 04:53:54 PM INFO : Epoch : 1, batch : 200, train_loss = 0.2380, val_loss = 0.2701, val_accuracy : 0.890, time = 3s\n",
      "05/07/2020 04:53:56 PM INFO : Epoch : 1, batch : 300, train_loss = 0.2888, val_loss = 0.2782, val_accuracy : 0.887, time = 4s\n",
      "05/07/2020 04:53:57 PM INFO : Epoch : 2, batch : 100, train_loss = 0.2482, val_loss = 0.2767, val_accuracy : 0.893, time = 5s\n",
      "05/07/2020 04:53:58 PM INFO : Epoch : 2, batch : 200, train_loss = 0.2423, val_loss = 0.2703, val_accuracy : 0.893, time = 7s\n",
      "05/07/2020 04:53:59 PM INFO : Epoch : 2, batch : 300, train_loss = 0.2630, val_loss = 0.2744, val_accuracy : 0.893, time = 8s\n",
      "05/07/2020 04:54:01 PM INFO : Epoch : 3, batch : 100, train_loss = 0.2528, val_loss = 0.2817, val_accuracy : 0.887, time = 10s\n",
      "05/07/2020 04:54:02 PM INFO : Epoch : 3, batch : 200, train_loss = 0.2354, val_loss = 0.2697, val_accuracy : 0.897, time = 11s\n",
      "05/07/2020 04:54:04 PM INFO : Epoch : 3, batch : 300, train_loss = 0.2630, val_loss = 0.2731, val_accuracy : 0.893, time = 12s\n",
      "05/07/2020 04:54:06 PM INFO : Epoch : 4, batch : 100, train_loss = 0.2596, val_loss = 0.2773, val_accuracy : 0.880, time = 14s\n",
      "05/07/2020 04:54:07 PM INFO : Epoch : 4, batch : 200, train_loss = 0.2387, val_loss = 0.2671, val_accuracy : 0.897, time = 16s\n",
      "05/07/2020 04:54:09 PM INFO : Epoch : 4, batch : 300, train_loss = 0.2464, val_loss = 0.2736, val_accuracy : 0.890, time = 17s\n",
      "05/07/2020 04:54:12 PM INFO : Epoch : 5, batch : 100, train_loss = 0.2405, val_loss = 0.2709, val_accuracy : 0.887, time = 20s\n",
      "05/07/2020 04:54:13 PM INFO : Epoch : 5, batch : 200, train_loss = 0.2277, val_loss = 0.2686, val_accuracy : 0.897, time = 22s\n",
      "05/07/2020 04:54:16 PM INFO : Epoch : 5, batch : 300, train_loss = 0.2431, val_loss = 0.2749, val_accuracy : 0.897, time = 25s\n"
     ]
    }
   ],
   "source": [
    "optimiser.param_groups[0]['lr'] = 1e-4\n",
    "learner(model, loss_fn, optimiser, ds_train, ds_val, epochs=5, bs=8)"
   ]
  },
  {
   "cell_type": "code",
   "execution_count": 313,
   "metadata": {},
   "outputs": [
    {
     "name": "stderr",
     "output_type": "stream",
     "text": [
      "05/07/2020 04:54:20 PM INFO : Epoch : 1, batch : 100, train_loss = 0.2386, val_loss = 0.2740, val_accuracy : 0.883, time = 4s\n",
      "05/07/2020 04:54:23 PM INFO : Epoch : 1, batch : 200, train_loss = 0.2080, val_loss = 0.2731, val_accuracy : 0.893, time = 7s\n",
      "05/07/2020 04:54:26 PM INFO : Epoch : 1, batch : 300, train_loss = 0.2419, val_loss = 0.2719, val_accuracy : 0.890, time = 10s\n",
      "05/07/2020 04:54:29 PM INFO : Epoch : 2, batch : 100, train_loss = 0.2221, val_loss = 0.2730, val_accuracy : 0.880, time = 12s\n",
      "05/07/2020 04:54:32 PM INFO : Epoch : 2, batch : 200, train_loss = 0.1991, val_loss = 0.2676, val_accuracy : 0.893, time = 16s\n",
      "05/07/2020 04:54:34 PM INFO : Epoch : 2, batch : 300, train_loss = 0.2269, val_loss = 0.2737, val_accuracy : 0.890, time = 18s\n",
      "05/07/2020 04:54:37 PM INFO : Epoch : 3, batch : 100, train_loss = 0.2325, val_loss = 0.2691, val_accuracy : 0.890, time = 21s\n",
      "05/07/2020 04:54:40 PM INFO : Epoch : 3, batch : 200, train_loss = 0.1958, val_loss = 0.2663, val_accuracy : 0.893, time = 24s\n",
      "05/07/2020 04:54:43 PM INFO : Epoch : 3, batch : 300, train_loss = 0.2157, val_loss = 0.2740, val_accuracy : 0.893, time = 26s\n",
      "05/07/2020 04:54:46 PM INFO : Epoch : 4, batch : 100, train_loss = 0.2105, val_loss = 0.2725, val_accuracy : 0.877, time = 30s\n",
      "05/07/2020 04:54:48 PM INFO : Epoch : 4, batch : 200, train_loss = 0.1799, val_loss = 0.2630, val_accuracy : 0.897, time = 32s\n",
      "05/07/2020 04:54:51 PM INFO : Epoch : 4, batch : 300, train_loss = 0.2082, val_loss = 0.2661, val_accuracy : 0.900, time = 35s\n",
      "05/07/2020 04:54:54 PM INFO : Epoch : 5, batch : 100, train_loss = 0.1874, val_loss = 0.2607, val_accuracy : 0.893, time = 38s\n",
      "05/07/2020 04:54:57 PM INFO : Epoch : 5, batch : 200, train_loss = 0.1614, val_loss = 0.2598, val_accuracy : 0.900, time = 41s\n",
      "05/07/2020 04:55:00 PM INFO : Epoch : 5, batch : 300, train_loss = 0.1972, val_loss = 0.2721, val_accuracy : 0.900, time = 44s\n"
     ]
    }
   ],
   "source": [
    "model.word_embeddings.weight.requires_grad_(True);\n",
    "optimiser.param_groups[0]['lr'] = 1e-4\n",
    "learner(model, loss_fn, optimiser, ds_train, ds_val, epochs=5, bs=8)"
   ]
  },
  {
   "cell_type": "code",
   "execution_count": 314,
   "metadata": {},
   "outputs": [
    {
     "name": "stderr",
     "output_type": "stream",
     "text": [
      "05/07/2020 04:55:03 PM INFO : Epoch : 1, batch : 100, train_loss = 0.1699, val_loss = 0.2592, val_accuracy : 0.897, time = 3s\n",
      "05/07/2020 04:55:06 PM INFO : Epoch : 1, batch : 200, train_loss = 0.1545, val_loss = 0.2629, val_accuracy : 0.907, time = 5s\n",
      "05/07/2020 04:55:08 PM INFO : Epoch : 1, batch : 300, train_loss = 0.1832, val_loss = 0.2586, val_accuracy : 0.900, time = 8s\n",
      "05/07/2020 04:55:11 PM INFO : Epoch : 2, batch : 100, train_loss = 0.1630, val_loss = 0.2583, val_accuracy : 0.900, time = 11s\n",
      "05/07/2020 04:55:13 PM INFO : Epoch : 2, batch : 200, train_loss = 0.1662, val_loss = 0.2637, val_accuracy : 0.903, time = 13s\n",
      "05/07/2020 04:55:16 PM INFO : Epoch : 2, batch : 300, train_loss = 0.1874, val_loss = 0.2599, val_accuracy : 0.907, time = 16s\n",
      "05/07/2020 04:55:19 PM INFO : Epoch : 3, batch : 100, train_loss = 0.1607, val_loss = 0.2581, val_accuracy : 0.900, time = 18s\n",
      "05/07/2020 04:55:21 PM INFO : Epoch : 3, batch : 200, train_loss = 0.1597, val_loss = 0.2583, val_accuracy : 0.903, time = 21s\n",
      "05/07/2020 04:55:24 PM INFO : Epoch : 3, batch : 300, train_loss = 0.1749, val_loss = 0.2600, val_accuracy : 0.903, time = 24s\n"
     ]
    }
   ],
   "source": [
    "optimiser.param_groups[0]['lr'] = 5e-5\n",
    "learner(model, loss_fn, optimiser, ds_train, ds_val, epochs=3, bs=8)"
   ]
  },
  {
   "cell_type": "code",
   "execution_count": 315,
   "metadata": {},
   "outputs": [
    {
     "name": "stdout",
     "output_type": "stream",
     "text": [
      "Test loss : 0.25770, test accuracy : 0.903\n"
     ]
    }
   ],
   "source": [
    "print('Test loss : {:.5f}, test accuracy : {:.03f}'.format(*validate(ds_test, loss_fn, model)))"
   ]
  },
  {
   "cell_type": "markdown",
   "metadata": {},
   "source": [
    "<br>"
   ]
  },
  {
   "cell_type": "markdown",
   "metadata": {},
   "source": [
    "### Look at some predictions"
   ]
  },
  {
   "cell_type": "code",
   "execution_count": 203,
   "metadata": {},
   "outputs": [],
   "source": [
    "import numpy as np"
   ]
  },
  {
   "cell_type": "code",
   "execution_count": 299,
   "metadata": {},
   "outputs": [],
   "source": [
    "def most_confused(ds, loss_fn, model, top_k=5, device=device):\n",
    "    is_in_train = model.training\n",
    "    model.eval()\n",
    "    with torch.no_grad():\n",
    "        predictions = []\n",
    "        gt = []\n",
    "        losses = []\n",
    "        reviews = []\n",
    "        for i, batch in enumerate(MyIterator(ds, 1, sort_key=lambda x: len(x.review), shuffle=False, train=False, device=device)):\n",
    "            output = model(batch.review)\n",
    "            predictions.extend(output.argmax(dim=1).tolist())\n",
    "            gt.extend(batch.label.tolist())\n",
    "            losses.append(loss_fn(output, batch.label).item())\n",
    "            reviews.append(batch.review)\n",
    "            \n",
    "    vocab = ds.fields['review'].vocab\n",
    "    preds = np.array([losses, list(range(len(reviews))), predictions, gt]).transpose()\n",
    "    wrong_preds = preds[preds[:,2] != preds[:,3]]\n",
    "    wrong_preds_sorted = np.array(sorted(wrong_preds[:], key=lambda x: x[0]))\n",
    "    top_k_wrong = wrong_preds_sorted[:top_k,:]\n",
    "    top_k_wrong = [(loss, ' '.join([vocab.itos[i] for i in reviews[int(review_id)][0].tolist()]), 'gt: {}, pred : {}'.format(gt, pred)) for (loss, review_id, pred, gt) in top_k_wrong]\n",
    "    \n",
    "    if is_in_train: model.train()    \n",
    "    return top_k_wrong"
   ]
  },
  {
   "cell_type": "code",
   "execution_count": 301,
   "metadata": {},
   "outputs": [
    {
     "data": {
      "text/plain": [
       "[(0.7110309600830078, \"better than you 'd expect .\", 'gt: 1.0, pred : 0.0'),\n",
       " (0.7474281787872314,\n",
       "  'i dressed up to be treated so rudely !',\n",
       "  'gt: 0.0, pred : 1.0'),\n",
       " (0.7563066482543945,\n",
       "  'the only thing i did like was the prime rib and dessert section .',\n",
       "  'gt: 1.0, pred : 0.0'),\n",
       " (0.7787615656852722, 'i just wanted to leave .', 'gt: 0.0, pred : 1.0'),\n",
       " (0.8162384033203125,\n",
       "  'i ordered this for sony ericsson <unk> but i think it only worked once ( that s when i first used it ) .',\n",
       "  'gt: 0.0, pred : 1.0'),\n",
       " (0.8669049739837646,\n",
       "  'motorola finally got the voice quality of a bluetooth headset right .',\n",
       "  'gt: 1.0, pred : 0.0'),\n",
       " (0.9086286425590515,\n",
       "  \"the best example of how dumb the writing is when it 's established that you can turn the zombie - students back into humans by removing a necklace containing a piece of the meteorite .\",\n",
       "  'gt: 0.0, pred : 1.0'),\n",
       " (0.979867696762085,\n",
       "  'kris kristoffersen is good in this movie and really makes a difference .',\n",
       "  'gt: 1.0, pred : 0.0'),\n",
       " (1.0723228454589844,\n",
       "  \"i 'll take my business dinner dollars elsewhere .\",\n",
       "  'gt: 0.0, pred : 1.0'),\n",
       " (1.0822501182556152,\n",
       "  'much less than the jawbone i was going to replace it with .',\n",
       "  'gt: 1.0, pred : 0.0')]"
      ]
     },
     "execution_count": 301,
     "metadata": {},
     "output_type": "execute_result"
    }
   ],
   "source": [
    "most_confused(ds_val, loss_fn, model, top_k=10)"
   ]
  },
  {
   "cell_type": "markdown",
   "metadata": {},
   "source": [
    "<br>"
   ]
  },
  {
   "cell_type": "markdown",
   "metadata": {},
   "source": [
    "### k-fold cross validation"
   ]
  },
  {
   "cell_type": "code",
   "execution_count": 330,
   "metadata": {},
   "outputs": [],
   "source": [
    "def learning_procedure(ds_train, ds_val):\n",
    "    model = CNN2(out_channels=32, kernel_heights=(1, 3, 5), stride=1, padding=(0, 1, 2), dropout=(0.2, 0.3), emb_weights=emb_weights.clone())\n",
    "    loss_fn = nn.CrossEntropyLoss().to(device)\n",
    "    optimiser = Adam(model.parameters(), lr=3e-4)\n",
    "    learner(model, loss_fn, optimiser, ds_train, ds_val, epochs=8, bs=8)\n",
    "    optimiser.param_groups[0]['lr'] = 1e-4\n",
    "    learner(model, loss_fn, optimiser, ds_train, ds_val, epochs=5, bs=8)\n",
    "    model.word_embeddings.weight.requires_grad_(True);\n",
    "    optimiser.param_groups[0]['lr'] = 1e-4\n",
    "    learner(model, loss_fn, optimiser, ds_train, ds_val, epochs=5, bs=8)\n",
    "    optimiser.param_groups[0]['lr'] = 5e-5\n",
    "    learner(model, loss_fn, optimiser, ds_train, ds_val, epochs=3, bs=8)\n",
    "    \n",
    "    return validate(ds_val, loss_fn, model)"
   ]
  },
  {
   "cell_type": "code",
   "execution_count": 331,
   "metadata": {},
   "outputs": [],
   "source": [
    "from sklearn.model_selection import KFold\n",
    "import torchtext.data as data"
   ]
  },
  {
   "cell_type": "code",
   "execution_count": 332,
   "metadata": {},
   "outputs": [],
   "source": [
    "def get_fold_data(ds, n_folds):\n",
    "    kf = KFold(n_splits=n_folds, shuffle=True)\n",
    "    examples = np.array(ds.examples)\n",
    "    fields = ds.fields\n",
    "    for train_index, val_index in kf.split(examples):\n",
    "        yield (data.Dataset(examples[train_index], fields=fields),\n",
    "               data.Dataset(examples[val_index], fields=fields))"
   ]
  },
  {
   "cell_type": "code",
   "execution_count": 336,
   "metadata": {},
   "outputs": [],
   "source": [
    "logging.getLogger().setLevel(logging.WARNING)"
   ]
  },
  {
   "cell_type": "code",
   "execution_count": 337,
   "metadata": {},
   "outputs": [
    {
     "name": "stdout",
     "output_type": "stream",
     "text": [
      "Fold 9\r"
     ]
    }
   ],
   "source": [
    "random.seed(43)\n",
    "ds_train, ds_test = dataset.split(split_ratio=[0.9, 0.1], random_state=random.getstate())\n",
    "\n",
    "tot_loss = []\n",
    "tot_acc = []\n",
    "n_folds = 10\n",
    "\n",
    "for i, (ds_train, ds_val) in enumerate(get_fold_data(ds_train, n_folds)):\n",
    "    print('Fold {}\\r'.format(i), end='')\n",
    "    loss, acc = learning_procedure(ds_train, ds_val)\n",
    "    tot_loss.append(loss)\n",
    "    tot_acc.append(acc)\n",
    "    \n",
    "tot_loss = sum(tot_loss)/n_folds\n",
    "tot_acc = sum(tot_acc)/n_folds"
   ]
  },
  {
   "cell_type": "code",
   "execution_count": 338,
   "metadata": {},
   "outputs": [
    {
     "name": "stdout",
     "output_type": "stream",
     "text": [
      "0.28958589679378377\n",
      "0.8822222222222222\n"
     ]
    }
   ],
   "source": [
    "print(tot_loss)\n",
    "print(tot_acc)"
   ]
  }
 ],
 "metadata": {
  "kernelspec": {
   "display_name": "Python 3",
   "language": "python",
   "name": "python3"
  },
  "language_info": {
   "codemirror_mode": {
    "name": "ipython",
    "version": 3
   },
   "file_extension": ".py",
   "mimetype": "text/x-python",
   "name": "python",
   "nbconvert_exporter": "python",
   "pygments_lexer": "ipython3",
   "version": "3.7.7"
  }
 },
 "nbformat": 4,
 "nbformat_minor": 4
}
