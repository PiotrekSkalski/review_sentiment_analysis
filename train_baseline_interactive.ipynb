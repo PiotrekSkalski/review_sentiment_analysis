{
 "cells": [
  {
   "cell_type": "code",
   "execution_count": 1,
   "metadata": {
    "colab": {},
    "colab_type": "code",
    "id": "xfqtzqEBrMhs"
   },
   "outputs": [],
   "source": [
    "import utils\n",
    "from get_dataset import get_dataset\n",
    "import random\n",
    "import time\n",
    "import os\n",
    "import torch\n",
    "import torch.nn as nn\n",
    "from torch.optim import Adam\n",
    "from torchtext.data import Iterator\n",
    "from importlib import reload\n",
    "\n",
    "device = torch.device('cuda' if torch.cuda.is_available() else 'cpu')"
   ]
  },
  {
   "cell_type": "code",
   "execution_count": 2,
   "metadata": {},
   "outputs": [],
   "source": [
    "# If you have dark theme\n",
    "from matplotlib.pyplot import rcParams\n",
    "rcParams['figure.facecolor'] = 'white'"
   ]
  },
  {
   "cell_type": "code",
   "execution_count": 3,
   "metadata": {},
   "outputs": [],
   "source": [
    "# Setup logger\n",
    "import logging\n",
    "import sys\n",
    "logging.basicConfig(level=logging.INFO,\n",
    "                    format='%(asctime)s %(levelname)s : %(message)s', datefmt='%m/%d/%Y %H:%M:%S')  "
   ]
  },
  {
   "cell_type": "code",
   "execution_count": 4,
   "metadata": {
    "colab": {
     "base_uri": "https://localhost:8080/",
     "height": 51
    },
    "colab_type": "code",
    "executionInfo": {
     "elapsed": 469109,
     "status": "ok",
     "timestamp": 1588428343971,
     "user": {
      "displayName": "Piotrek Skalski",
      "photoUrl": "",
      "userId": "01989288188211024094"
     },
     "user_tz": -60
    },
    "id": "eRKnserirVb4",
    "outputId": "16c33996-09c7-419a-89bd-8c8420fc7636"
   },
   "outputs": [
    {
     "name": "stderr",
     "output_type": "stream",
     "text": [
      "05/06/2020 18:48:08 INFO : Downloading data\n",
      "05/06/2020 18:48:09 INFO : Downloading GloVe word vectors\n",
      "05/06/2020 18:48:09 INFO : Loading vectors from .vector_cache/glove.6B.300d.txt.pt\n",
      "05/06/2020 18:48:14 INFO : Loading vectors from .vector_cache/glove.6B.300d.txt.pt\n"
     ]
    }
   ],
   "source": [
    "dataset, emb_weights = get_dataset()\n",
    "dataset.fields['review'].include_lengths = True\n",
    "\n",
    "random.seed(43)\n",
    "ds_train, ds_val, ds_test = dataset.split(split_ratio=[0.8, 0.1, 0.1], random_state=random.getstate())"
   ]
  },
  {
   "cell_type": "markdown",
   "metadata": {},
   "source": [
    "<br>"
   ]
  },
  {
   "cell_type": "code",
   "execution_count": 37,
   "metadata": {
    "colab": {},
    "colab_type": "code",
    "id": "4_Sg9472reHC"
   },
   "outputs": [],
   "source": [
    "class Baseline_model(nn.Module):\n",
    "  \"\"\"\n",
    "  \"\"\"\n",
    "  def __init__(self, vocab_size, embed_dim, embed_vecs=None):\n",
    "    super().__init__()\n",
    "    self.embedding = nn.EmbeddingBag(vocab_size, embed_dim)\n",
    "    if embed_vecs is not None:\n",
    "      self.embedding = nn.EmbeddingBag.from_pretrained(embed_vecs)\n",
    "    else:\n",
    "      self.embedding = nn.EmbeddingBag(vocab_size, embed_dim)\n",
    "    self.head = nn.Sequential(nn.Linear(embed_dim, embed_dim//2),\n",
    "                              nn.ReLU(),\n",
    "                              nn.Linear(embed_dim//2, 2))\n",
    "\n",
    "  def forward(self, batch):\n",
    "    batch, lengths = batch\n",
    "    \n",
    "    batch_concat = torch.cat([review[:length] for review, length in zip(batch, lengths)], dim=0)\n",
    "    offsets = torch.cat([torch.tensor([0]), torch.cumsum(lengths[:-1], dim=0)])\n",
    "    \n",
    "    out = self.embedding(batch_concat, offsets)\n",
    "    return self.head(out)"
   ]
  },
  {
   "cell_type": "code",
   "execution_count": 38,
   "metadata": {
    "colab": {},
    "colab_type": "code",
    "id": "s7o8My7fs9M7"
   },
   "outputs": [],
   "source": [
    "def learner(model, loss_fn, optimiser, epochs=1, bs=1, device=device):\n",
    "  start_time = time.time()\n",
    "  for epoch in range(epochs):\n",
    "    \n",
    "    total_loss = 0\n",
    "    for i, batch in enumerate(Iterator(ds_train, bs, shuffle=True, device=device), 1):\n",
    "      optimiser.zero_grad()\n",
    "\n",
    "      output = model(batch.review)\n",
    "      loss = loss_fn(output, batch.label)\n",
    "      total_loss += loss.item()\n",
    "\n",
    "      loss.backward()\n",
    "      optimiser.step()\n",
    "\n",
    "      if not i % (len(ds_train)//(bs*3)):\n",
    "        avg_loss = total_loss / (len(ds_train)//(bs*3))\n",
    "        val_loss, val_accuracy = utils.validate(ds_val, loss_fn, model, bs)\n",
    "        print('Epoch : {}, batch : {}, train_loss = {:.4f}, val_loss = {:.4f}, val_accuracy : {:.3f}, time = {:.0f}s'.format(\n",
    "            epoch + 1, i, avg_loss, val_loss, val_accuracy, time.time() - start_time))\n",
    "        total_loss = 0"
   ]
  },
  {
   "cell_type": "markdown",
   "metadata": {},
   "source": [
    "<br>"
   ]
  },
  {
   "cell_type": "code",
   "execution_count": 50,
   "metadata": {
    "colab": {},
    "colab_type": "code",
    "id": "R5JoZjT6tFB7"
   },
   "outputs": [],
   "source": [
    "vocab_size = len(emb_weights)\n",
    "embed_size = 300\n",
    "\n",
    "model = Baseline_model(vocab_size, embed_size, emb_weights.clone()).to(device)\n",
    "loss_fn = nn.CrossEntropyLoss().to(device)"
   ]
  },
  {
   "cell_type": "code",
   "execution_count": 40,
   "metadata": {
    "colab": {
     "base_uri": "https://localhost:8080/",
     "height": 269
    },
    "colab_type": "code",
    "executionInfo": {
     "elapsed": 14104,
     "status": "ok",
     "timestamp": 1588428473583,
     "user": {
      "displayName": "Piotrek Skalski",
      "photoUrl": "",
      "userId": "01989288188211024094"
     },
     "user_tz": -60
    },
    "id": "DQS7V-04tJMq",
    "outputId": "8c06edbc-9849-47ba-a0fb-ac0dd337f72e"
   },
   "outputs": [
    {
     "name": "stdout",
     "output_type": "stream",
     "text": [
      "Finding learning rate ...100%\r"
     ]
    },
    {
     "data": {
      "image/png": "[encoded data removed]",
      "text/plain": [
       "<Figure size 432x288 with 1 Axes>"
      ]
     },
     "metadata": {},
     "output_type": "display_data"
    }
   ],
   "source": [
    "optimiser = Adam(model.parameters())\n",
    "utils.lr_finder(model, ds_train, optimiser, loss_fn, lr_range=[1e-5, 1e-2], bs=8, avg_over_batches=50)"
   ]
  },
  {
   "cell_type": "code",
   "execution_count": 51,
   "metadata": {
    "colab": {
     "base_uri": "https://localhost:8080/",
     "height": 527
    },
    "colab_type": "code",
    "executionInfo": {
     "elapsed": 37923,
     "status": "ok",
     "timestamp": 1588428538055,
     "user": {
      "displayName": "Piotrek Skalski",
      "photoUrl": "",
      "userId": "01989288188211024094"
     },
     "user_tz": -60
    },
    "id": "4SBXj1bTtK-H",
    "outputId": "2300ba09-038e-4578-8d61-ad5ffd38a179",
    "scrolled": false
   },
   "outputs": [
    {
     "name": "stdout",
     "output_type": "stream",
     "text": [
      "Epoch : 1, batch : 100, train_loss = 0.6750, val_loss = 0.6627, val_accuracy : 0.587, time = 0s\n",
      "Epoch : 1, batch : 200, train_loss = 0.6269, val_loss = 0.6070, val_accuracy : 0.743, time = 0s\n",
      "Epoch : 1, batch : 300, train_loss = 0.5759, val_loss = 0.5683, val_accuracy : 0.710, time = 1s\n",
      "Epoch : 2, batch : 100, train_loss = 0.5330, val_loss = 0.5358, val_accuracy : 0.733, time = 1s\n",
      "Epoch : 2, batch : 200, train_loss = 0.4819, val_loss = 0.4897, val_accuracy : 0.787, time = 1s\n",
      "Epoch : 2, batch : 300, train_loss = 0.4695, val_loss = 0.4867, val_accuracy : 0.750, time = 1s\n",
      "Epoch : 3, batch : 100, train_loss = 0.4491, val_loss = 0.4758, val_accuracy : 0.777, time = 2s\n",
      "Epoch : 3, batch : 200, train_loss = 0.4123, val_loss = 0.4475, val_accuracy : 0.800, time = 2s\n",
      "Epoch : 3, batch : 300, train_loss = 0.4278, val_loss = 0.4527, val_accuracy : 0.787, time = 2s\n",
      "Epoch : 4, batch : 100, train_loss = 0.4099, val_loss = 0.4532, val_accuracy : 0.780, time = 3s\n",
      "Epoch : 4, batch : 200, train_loss = 0.3799, val_loss = 0.4322, val_accuracy : 0.813, time = 3s\n",
      "Epoch : 4, batch : 300, train_loss = 0.4071, val_loss = 0.4369, val_accuracy : 0.787, time = 3s\n",
      "Epoch : 5, batch : 100, train_loss = 0.3887, val_loss = 0.4425, val_accuracy : 0.787, time = 4s\n",
      "Epoch : 5, batch : 200, train_loss = 0.3614, val_loss = 0.4252, val_accuracy : 0.813, time = 4s\n",
      "Epoch : 5, batch : 300, train_loss = 0.3940, val_loss = 0.4283, val_accuracy : 0.787, time = 5s\n",
      "Epoch : 6, batch : 100, train_loss = 0.3753, val_loss = 0.4366, val_accuracy : 0.797, time = 5s\n",
      "Epoch : 6, batch : 200, train_loss = 0.3487, val_loss = 0.4214, val_accuracy : 0.813, time = 5s\n",
      "Epoch : 6, batch : 300, train_loss = 0.3844, val_loss = 0.4232, val_accuracy : 0.793, time = 6s\n",
      "Epoch : 7, batch : 100, train_loss = 0.3657, val_loss = 0.4333, val_accuracy : 0.797, time = 6s\n",
      "Epoch : 7, batch : 200, train_loss = 0.3393, val_loss = 0.4193, val_accuracy : 0.813, time = 6s\n",
      "Epoch : 7, batch : 300, train_loss = 0.3767, val_loss = 0.4203, val_accuracy : 0.803, time = 6s\n",
      "Epoch : 8, batch : 100, train_loss = 0.3582, val_loss = 0.4313, val_accuracy : 0.800, time = 7s\n",
      "Epoch : 8, batch : 200, train_loss = 0.3316, val_loss = 0.4180, val_accuracy : 0.813, time = 7s\n",
      "Epoch : 8, batch : 300, train_loss = 0.3703, val_loss = 0.4181, val_accuracy : 0.810, time = 7s\n",
      "Epoch : 9, batch : 100, train_loss = 0.3520, val_loss = 0.4299, val_accuracy : 0.800, time = 8s\n",
      "Epoch : 9, batch : 200, train_loss = 0.3251, val_loss = 0.4172, val_accuracy : 0.827, time = 8s\n",
      "Epoch : 9, batch : 300, train_loss = 0.3648, val_loss = 0.4166, val_accuracy : 0.813, time = 8s\n",
      "Epoch : 10, batch : 100, train_loss = 0.3466, val_loss = 0.4292, val_accuracy : 0.810, time = 8s\n",
      "Epoch : 10, batch : 200, train_loss = 0.3196, val_loss = 0.4167, val_accuracy : 0.823, time = 9s\n",
      "Epoch : 10, batch : 300, train_loss = 0.3598, val_loss = 0.4156, val_accuracy : 0.817, time = 9s\n"
     ]
    }
   ],
   "source": [
    "optimiser = Adam(model.parameters(), lr=2e-4)\n",
    "learner(model, loss_fn, optimiser, epochs=10, bs=8)"
   ]
  },
  {
   "cell_type": "code",
   "execution_count": 52,
   "metadata": {
    "colab": {
     "base_uri": "https://localhost:8080/",
     "height": 527
    },
    "colab_type": "code",
    "executionInfo": {
     "elapsed": 37923,
     "status": "ok",
     "timestamp": 1588428538055,
     "user": {
      "displayName": "Piotrek Skalski",
      "photoUrl": "",
      "userId": "01989288188211024094"
     },
     "user_tz": -60
    },
    "id": "4SBXj1bTtK-H",
    "outputId": "2300ba09-038e-4578-8d61-ad5ffd38a179",
    "scrolled": false
   },
   "outputs": [
    {
     "name": "stdout",
     "output_type": "stream",
     "text": [
      "Epoch : 1, batch : 100, train_loss = 0.3411, val_loss = 0.4230, val_accuracy : 0.810, time = 0s\n",
      "Epoch : 1, batch : 200, train_loss = 0.3136, val_loss = 0.4149, val_accuracy : 0.817, time = 1s\n",
      "Epoch : 1, batch : 300, train_loss = 0.3497, val_loss = 0.4134, val_accuracy : 0.813, time = 1s\n",
      "Epoch : 2, batch : 100, train_loss = 0.3375, val_loss = 0.4237, val_accuracy : 0.810, time = 1s\n",
      "Epoch : 2, batch : 200, train_loss = 0.3107, val_loss = 0.4154, val_accuracy : 0.817, time = 1s\n",
      "Epoch : 2, batch : 300, train_loss = 0.3483, val_loss = 0.4135, val_accuracy : 0.817, time = 2s\n",
      "Epoch : 3, batch : 100, train_loss = 0.3347, val_loss = 0.4241, val_accuracy : 0.817, time = 2s\n",
      "Epoch : 3, batch : 200, train_loss = 0.3081, val_loss = 0.4156, val_accuracy : 0.817, time = 2s\n",
      "Epoch : 3, batch : 300, train_loss = 0.3466, val_loss = 0.4136, val_accuracy : 0.817, time = 2s\n",
      "Epoch : 4, batch : 100, train_loss = 0.3324, val_loss = 0.4245, val_accuracy : 0.817, time = 3s\n",
      "Epoch : 4, batch : 200, train_loss = 0.3058, val_loss = 0.4158, val_accuracy : 0.817, time = 3s\n",
      "Epoch : 4, batch : 300, train_loss = 0.3448, val_loss = 0.4137, val_accuracy : 0.817, time = 3s\n",
      "Epoch : 5, batch : 100, train_loss = 0.3302, val_loss = 0.4247, val_accuracy : 0.817, time = 4s\n",
      "Epoch : 5, batch : 200, train_loss = 0.3036, val_loss = 0.4159, val_accuracy : 0.817, time = 4s\n",
      "Epoch : 5, batch : 300, train_loss = 0.3430, val_loss = 0.4137, val_accuracy : 0.813, time = 4s\n"
     ]
    }
   ],
   "source": [
    "optimiser = Adam(model.parameters(), lr=1e-4)\n",
    "learner(model, loss_fn, optimiser, epochs=5, bs=8)"
   ]
  },
  {
   "cell_type": "code",
   "execution_count": null,
   "metadata": {},
   "outputs": [],
   "source": [
    "# if not os.path.exists('models'):\n",
    "#     os.makedirs('models')\n",
    "# torch.save(model.state_dict(), 'models/model_baseline.pt')"
   ]
  },
  {
   "cell_type": "code",
   "execution_count": 53,
   "metadata": {
    "colab": {
     "base_uri": "https://localhost:8080/",
     "height": 272
    },
    "colab_type": "code",
    "executionInfo": {
     "elapsed": 632478,
     "status": "ok",
     "timestamp": 1588429269790,
     "user": {
      "displayName": "Piotrek Skalski",
      "photoUrl": "",
      "userId": "01989288188211024094"
     },
     "user_tz": -60
    },
    "id": "KCBnz69LuLW3",
    "outputId": "1db61251-27fb-495f-98ce-37258df9cb78",
    "scrolled": false
   },
   "outputs": [
    {
     "name": "stdout",
     "output_type": "stream",
     "text": [
      "Epoch : 1, batch : 100, train_loss = 0.3284, val_loss = 0.4219, val_accuracy : 0.817, time = 1s\n",
      "Epoch : 1, batch : 200, train_loss = 0.2971, val_loss = 0.4087, val_accuracy : 0.823, time = 3s\n",
      "Epoch : 1, batch : 300, train_loss = 0.3373, val_loss = 0.4021, val_accuracy : 0.820, time = 4s\n",
      "Epoch : 2, batch : 100, train_loss = 0.3076, val_loss = 0.4088, val_accuracy : 0.820, time = 6s\n",
      "Epoch : 2, batch : 200, train_loss = 0.2718, val_loss = 0.3973, val_accuracy : 0.823, time = 7s\n",
      "Epoch : 2, batch : 300, train_loss = 0.3109, val_loss = 0.3915, val_accuracy : 0.830, time = 8s\n",
      "Epoch : 3, batch : 100, train_loss = 0.2852, val_loss = 0.3978, val_accuracy : 0.827, time = 10s\n",
      "Epoch : 3, batch : 200, train_loss = 0.2479, val_loss = 0.3883, val_accuracy : 0.843, time = 12s\n",
      "Epoch : 3, batch : 300, train_loss = 0.2866, val_loss = 0.3825, val_accuracy : 0.843, time = 13s\n",
      "Epoch : 4, batch : 100, train_loss = 0.2636, val_loss = 0.3886, val_accuracy : 0.827, time = 15s\n",
      "Epoch : 4, batch : 200, train_loss = 0.2257, val_loss = 0.3808, val_accuracy : 0.857, time = 17s\n",
      "Epoch : 4, batch : 300, train_loss = 0.2639, val_loss = 0.3750, val_accuracy : 0.853, time = 18s\n",
      "Epoch : 5, batch : 100, train_loss = 0.2429, val_loss = 0.3810, val_accuracy : 0.830, time = 20s\n",
      "Epoch : 5, batch : 200, train_loss = 0.2050, val_loss = 0.3748, val_accuracy : 0.860, time = 22s\n",
      "Epoch : 5, batch : 300, train_loss = 0.2422, val_loss = 0.3689, val_accuracy : 0.860, time = 23s\n",
      "Epoch : 6, batch : 100, train_loss = 0.2231, val_loss = 0.3746, val_accuracy : 0.840, time = 24s\n",
      "Epoch : 6, batch : 200, train_loss = 0.1856, val_loss = 0.3701, val_accuracy : 0.873, time = 26s\n",
      "Epoch : 6, batch : 300, train_loss = 0.2216, val_loss = 0.3639, val_accuracy : 0.863, time = 28s\n",
      "Epoch : 7, batch : 100, train_loss = 0.2045, val_loss = 0.3697, val_accuracy : 0.850, time = 29s\n",
      "Epoch : 7, batch : 200, train_loss = 0.1675, val_loss = 0.3667, val_accuracy : 0.867, time = 31s\n",
      "Epoch : 7, batch : 300, train_loss = 0.2020, val_loss = 0.3601, val_accuracy : 0.863, time = 33s\n",
      "Epoch : 8, batch : 100, train_loss = 0.1868, val_loss = 0.3659, val_accuracy : 0.850, time = 34s\n",
      "Epoch : 8, batch : 200, train_loss = 0.1507, val_loss = 0.3644, val_accuracy : 0.867, time = 36s\n",
      "Epoch : 8, batch : 300, train_loss = 0.1832, val_loss = 0.3574, val_accuracy : 0.867, time = 37s\n",
      "Epoch : 9, batch : 100, train_loss = 0.1703, val_loss = 0.3631, val_accuracy : 0.850, time = 38s\n",
      "Epoch : 9, batch : 200, train_loss = 0.1350, val_loss = 0.3632, val_accuracy : 0.867, time = 40s\n",
      "Epoch : 9, batch : 300, train_loss = 0.1653, val_loss = 0.3561, val_accuracy : 0.873, time = 42s\n",
      "Epoch : 10, batch : 100, train_loss = 0.1548, val_loss = 0.3617, val_accuracy : 0.853, time = 43s\n",
      "Epoch : 10, batch : 200, train_loss = 0.1205, val_loss = 0.3633, val_accuracy : 0.873, time = 44s\n",
      "Epoch : 10, batch : 300, train_loss = 0.1486, val_loss = 0.3558, val_accuracy : 0.877, time = 46s\n"
     ]
    }
   ],
   "source": [
    "model.embedding.weight.requires_grad_(True);\n",
    "optimiser = Adam(model.parameters(), lr=1e-4)\n",
    "learner(model, loss_fn, optimiser, epochs=10, bs=8)"
   ]
  },
  {
   "cell_type": "code",
   "execution_count": 54,
   "metadata": {
    "colab": {
     "base_uri": "https://localhost:8080/",
     "height": 34
    },
    "colab_type": "code",
    "executionInfo": {
     "elapsed": 1615,
     "status": "ok",
     "timestamp": 1588429308922,
     "user": {
      "displayName": "Piotrek Skalski",
      "photoUrl": "",
      "userId": "01989288188211024094"
     },
     "user_tz": -60
    },
    "id": "qWHvMQ9cvLtZ",
    "outputId": "1efcdac9-35a2-4fee-af9e-354f16239bd1"
   },
   "outputs": [
    {
     "name": "stdout",
     "output_type": "stream",
     "text": [
      "Test loss : 0.30312, test accuracy : 0.857\n"
     ]
    }
   ],
   "source": [
    "print('Test loss : {:.5f}, test accuracy : {:.03f}'.format(*utils.validate(ds_test, loss_fn, model)))"
   ]
  },
  {
   "cell_type": "code",
   "execution_count": 10,
   "metadata": {
    "colab": {},
    "colab_type": "code",
    "id": "pf0nj_iMuYQG"
   },
   "outputs": [],
   "source": [
    "# torch.save(model.state_dict(), 'models/model_baseline_fine.pt')"
   ]
  },
  {
   "cell_type": "code",
   "execution_count": null,
   "metadata": {},
   "outputs": [],
   "source": []
  }
 ],
 "metadata": {
  "accelerator": "GPU",
  "colab": {
   "authorship_tag": "ABX9TyN3vRu0v2Zz9t5G1ObrEkkh",
   "collapsed_sections": [],
   "name": "train_baseline_interactive.ipynb",
   "provenance": []
  },
  "kernelspec": {
   "display_name": "Python 3",
   "language": "python",
   "name": "python3"
  },
  "language_info": {
   "codemirror_mode": {
    "name": "ipython",
    "version": 3
   },
   "file_extension": ".py",
   "mimetype": "text/x-python",
   "name": "python",
   "nbconvert_exporter": "python",
   "pygments_lexer": "ipython3",
   "version": "3.7.7"
  }
 },
 "nbformat": 4,
 "nbformat_minor": 1
}
