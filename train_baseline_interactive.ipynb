{
 "cells": [
  {
   "cell_type": "code",
   "execution_count": 1,
   "metadata": {
    "colab": {},
    "colab_type": "code",
    "id": "xfqtzqEBrMhs"
   },
   "outputs": [],
   "source": [
    "import utils\n",
    "from get_dataset import get_dataset\n",
    "import random\n",
    "import time\n",
    "import os\n",
    "import torch\n",
    "import torch.nn as nn\n",
    "from torch.optim import Adam\n",
    "from torchtext.data import Iterator\n",
    "from importlib import reload\n",
    "\n",
    "device = torch.device('cuda' if torch.cuda.is_available() else 'cpu')"
   ]
  },
  {
   "cell_type": "code",
   "execution_count": 2,
   "metadata": {
    "colab": {
     "base_uri": "https://localhost:8080/",
     "height": 51
    },
    "colab_type": "code",
    "executionInfo": {
     "elapsed": 469109,
     "status": "ok",
     "timestamp": 1588428343971,
     "user": {
      "displayName": "Piotrek Skalski",
      "photoUrl": "",
      "userId": "01989288188211024094"
     },
     "user_tz": -60
    },
    "id": "eRKnserirVb4",
    "outputId": "16c33996-09c7-419a-89bd-8c8420fc7636"
   },
   "outputs": [],
   "source": [
    "dataset, emb_weights = get_dataset()\n",
    "\n",
    "random.seed(43)\n",
    "ds_train, ds_val, ds_test = dataset.split(split_ratio=[0.8, 0.1, 0.1], random_state=random.getstate())"
   ]
  },
  {
   "cell_type": "markdown",
   "metadata": {},
   "source": [
    "<br>"
   ]
  },
  {
   "cell_type": "code",
   "execution_count": 3,
   "metadata": {
    "colab": {},
    "colab_type": "code",
    "id": "4_Sg9472reHC"
   },
   "outputs": [],
   "source": [
    "class Baseline_model(nn.Module):\n",
    "  \"\"\"\n",
    "  \"\"\"\n",
    "  def __init__(self, vocab_size, embed_dim, embed_vecs=None):\n",
    "    super().__init__()\n",
    "    self.embedding = nn.EmbeddingBag(vocab_size, embed_dim)\n",
    "    if embed_vecs is not None:\n",
    "      self.embedding = nn.EmbeddingBag.from_pretrained(embed_vecs)\n",
    "    else:\n",
    "      self.embedding = nn.EmbeddingBag(vocab_size, embed_dim)\n",
    "    self.fc1 = nn.Linear(embed_dim, embed_dim//2)\n",
    "    self.fc2 = nn.Linear(embed_dim//2, 2)\n",
    "    self.relu = nn.ReLU()\n",
    "\n",
    "  def forward(self, x):\n",
    "    out = self.embedding(x)\n",
    "    out = self.relu(self.fc1(out))\n",
    "    return self.fc2(out)"
   ]
  },
  {
   "cell_type": "code",
   "execution_count": 4,
   "metadata": {
    "colab": {},
    "colab_type": "code",
    "id": "s7o8My7fs9M7"
   },
   "outputs": [],
   "source": [
    "def learner(model, loss_fn, optimiser, epochs=1, device=device):\n",
    "  start_time = time.time()\n",
    "  for epoch in range(epochs):\n",
    "    \n",
    "    total_loss = 0\n",
    "    for i, batch in enumerate(Iterator(ds_train, 1, shuffle=True, device=device), 1):\n",
    "      optimiser.zero_grad()\n",
    "\n",
    "      output = model(batch.review)\n",
    "      loss = loss_fn(output, batch.label)\n",
    "      total_loss += loss.item()\n",
    "\n",
    "      loss.backward()\n",
    "      optimiser.step()\n",
    "\n",
    "      if not i % (len(ds_train)//3):\n",
    "        avg_loss = total_loss / (len(ds_train)//3)\n",
    "        val_loss, val_accuracy = utils.validate(ds_val, loss_fn, model)\n",
    "        print('Epoch : {}, batch : {}, train_loss = {:.4f}, val_loss = {:.4f}, val_accuracy : {:.3f}, time = {:.0f}s'.format(\n",
    "            epoch + 1, i, avg_loss, val_loss, val_accuracy, time.time() - start_time))\n",
    "        total_loss = 0"
   ]
  },
  {
   "cell_type": "markdown",
   "metadata": {},
   "source": [
    "<br>"
   ]
  },
  {
   "cell_type": "code",
   "execution_count": 5,
   "metadata": {
    "colab": {},
    "colab_type": "code",
    "id": "R5JoZjT6tFB7"
   },
   "outputs": [],
   "source": [
    "vocab_size = len(emb_weights)\n",
    "embed_size = 300\n",
    "\n",
    "model = Baseline_model(vocab_size, embed_size, emb_weights).to(device)\n",
    "loss_fn = nn.CrossEntropyLoss().to(device)\n",
    "optimiser = Adam(model.parameters())"
   ]
  },
  {
   "cell_type": "code",
   "execution_count": 6,
   "metadata": {
    "colab": {
     "base_uri": "https://localhost:8080/",
     "height": 269
    },
    "colab_type": "code",
    "executionInfo": {
     "elapsed": 14104,
     "status": "ok",
     "timestamp": 1588428473583,
     "user": {
      "displayName": "Piotrek Skalski",
      "photoUrl": "",
      "userId": "01989288188211024094"
     },
     "user_tz": -60
    },
    "id": "DQS7V-04tJMq",
    "outputId": "8c06edbc-9849-47ba-a0fb-ac0dd337f72e"
   },
   "outputs": [
    {
     "data": {
      "image/png": "[encoded data removed]",
      "text/plain": [
       "<Figure size 432x288 with 1 Axes>"
      ]
     },
     "metadata": {
      "needs_background": "light"
     },
     "output_type": "display_data"
    }
   ],
   "source": [
    "utils.lr_finder(model, ds_train, optimiser, loss_fn, lr_range=[1e-6, 1e-2])"
   ]
  },
  {
   "cell_type": "code",
   "execution_count": 7,
   "metadata": {
    "colab": {
     "base_uri": "https://localhost:8080/",
     "height": 527
    },
    "colab_type": "code",
    "executionInfo": {
     "elapsed": 37923,
     "status": "ok",
     "timestamp": 1588428538055,
     "user": {
      "displayName": "Piotrek Skalski",
      "photoUrl": "",
      "userId": "01989288188211024094"
     },
     "user_tz": -60
    },
    "id": "4SBXj1bTtK-H",
    "outputId": "2300ba09-038e-4578-8d61-ad5ffd38a179"
   },
   "outputs": [
    {
     "name": "stdout",
     "output_type": "stream",
     "text": [
      "Epoch : 1, batch : 800, train_loss = 0.6484, val_loss = 0.5900, val_accuracy : 0.717, time = 2s\n",
      "Epoch : 1, batch : 1600, train_loss = 0.5095, val_loss = 0.4901, val_accuracy : 0.790, time = 3s\n",
      "Epoch : 1, batch : 2400, train_loss = 0.4700, val_loss = 0.4587, val_accuracy : 0.767, time = 5s\n",
      "Epoch : 2, batch : 800, train_loss = 0.4322, val_loss = 0.4443, val_accuracy : 0.773, time = 7s\n",
      "Epoch : 2, batch : 1600, train_loss = 0.3844, val_loss = 0.4308, val_accuracy : 0.817, time = 8s\n",
      "Epoch : 2, batch : 2400, train_loss = 0.4165, val_loss = 0.4206, val_accuracy : 0.790, time = 10s\n",
      "Epoch : 3, batch : 800, train_loss = 0.3890, val_loss = 0.4272, val_accuracy : 0.803, time = 12s\n",
      "Epoch : 3, batch : 1600, train_loss = 0.3531, val_loss = 0.4204, val_accuracy : 0.820, time = 14s\n",
      "Epoch : 3, batch : 2400, train_loss = 0.3973, val_loss = 0.4114, val_accuracy : 0.803, time = 15s\n",
      "Epoch : 4, batch : 800, train_loss = 0.3703, val_loss = 0.4229, val_accuracy : 0.803, time = 18s\n",
      "Epoch : 4, batch : 1600, train_loss = 0.3360, val_loss = 0.4166, val_accuracy : 0.817, time = 19s\n",
      "Epoch : 4, batch : 2400, train_loss = 0.3850, val_loss = 0.4076, val_accuracy : 0.817, time = 22s\n",
      "Epoch : 5, batch : 800, train_loss = 0.3579, val_loss = 0.4207, val_accuracy : 0.800, time = 24s\n",
      "Epoch : 5, batch : 1600, train_loss = 0.3231, val_loss = 0.4155, val_accuracy : 0.817, time = 25s\n",
      "Epoch : 5, batch : 2400, train_loss = 0.3752, val_loss = 0.4058, val_accuracy : 0.817, time = 28s\n"
     ]
    }
   ],
   "source": [
    "optimiser = Adam(model.parameters(), lr=2e-4)\n",
    "learner(model, loss_fn, optimiser, epochs=5)"
   ]
  },
  {
   "cell_type": "code",
   "execution_count": 8,
   "metadata": {
    "colab": {},
    "colab_type": "code",
    "id": "xtgT17i0t2wK"
   },
   "outputs": [],
   "source": [
    "if not os.path.exists('models'):\n",
    "    os.makedirs('models')\n",
    "torch.save(model.state_dict(), 'models/model_baseline.pt')"
   ]
  },
  {
   "cell_type": "code",
   "execution_count": 9,
   "metadata": {
    "colab": {
     "base_uri": "https://localhost:8080/",
     "height": 272
    },
    "colab_type": "code",
    "executionInfo": {
     "elapsed": 632478,
     "status": "ok",
     "timestamp": 1588429269790,
     "user": {
      "displayName": "Piotrek Skalski",
      "photoUrl": "",
      "userId": "01989288188211024094"
     },
     "user_tz": -60
    },
    "id": "KCBnz69LuLW3",
    "outputId": "1db61251-27fb-495f-98ce-37258df9cb78",
    "scrolled": true
   },
   "outputs": [
    {
     "name": "stdout",
     "output_type": "stream",
     "text": [
      "Epoch : 1, batch : 800, train_loss = 0.3418, val_loss = 0.4101, val_accuracy : 0.803, time = 11s\n",
      "Epoch : 1, batch : 1600, train_loss = 0.2964, val_loss = 0.3918, val_accuracy : 0.833, time = 23s\n",
      "Epoch : 1, batch : 2400, train_loss = 0.3421, val_loss = 0.3789, val_accuracy : 0.830, time = 35s\n",
      "Epoch : 2, batch : 800, train_loss = 0.2939, val_loss = 0.3816, val_accuracy : 0.817, time = 48s\n",
      "Epoch : 2, batch : 1600, train_loss = 0.2398, val_loss = 0.3720, val_accuracy : 0.837, time = 60s\n",
      "Epoch : 2, batch : 2400, train_loss = 0.2891, val_loss = 0.3601, val_accuracy : 0.847, time = 72s\n",
      "Epoch : 3, batch : 800, train_loss = 0.2478, val_loss = 0.3648, val_accuracy : 0.833, time = 84s\n",
      "Epoch : 3, batch : 1600, train_loss = 0.1933, val_loss = 0.3604, val_accuracy : 0.860, time = 98s\n",
      "Epoch : 3, batch : 2400, train_loss = 0.2420, val_loss = 0.3492, val_accuracy : 0.863, time = 113s\n",
      "Epoch : 4, batch : 800, train_loss = 0.2075, val_loss = 0.3553, val_accuracy : 0.843, time = 127s\n",
      "Epoch : 4, batch : 1600, train_loss = 0.1541, val_loss = 0.3558, val_accuracy : 0.860, time = 142s\n",
      "Epoch : 4, batch : 2400, train_loss = 0.1997, val_loss = 0.3448, val_accuracy : 0.863, time = 154s\n",
      "Epoch : 5, batch : 800, train_loss = 0.1724, val_loss = 0.3532, val_accuracy : 0.863, time = 168s\n",
      "Epoch : 5, batch : 1600, train_loss = 0.1217, val_loss = 0.3571, val_accuracy : 0.860, time = 181s\n",
      "Epoch : 5, batch : 2400, train_loss = 0.1605, val_loss = 0.3463, val_accuracy : 0.873, time = 193s\n"
     ]
    }
   ],
   "source": [
    "model.embedding.weight.requires_grad_(True);\n",
    "optimiser = Adam(model.parameters(), lr=1e-4)\n",
    "learner(model, loss_fn, optimiser, epochs=5)"
   ]
  },
  {
   "cell_type": "code",
   "execution_count": 10,
   "metadata": {
    "colab": {},
    "colab_type": "code",
    "id": "pf0nj_iMuYQG"
   },
   "outputs": [],
   "source": [
    "torch.save(model.state_dict(), 'models/model_baseline_fine.pt')"
   ]
  },
  {
   "cell_type": "code",
   "execution_count": 11,
   "metadata": {
    "colab": {
     "base_uri": "https://localhost:8080/",
     "height": 34
    },
    "colab_type": "code",
    "executionInfo": {
     "elapsed": 1615,
     "status": "ok",
     "timestamp": 1588429308922,
     "user": {
      "displayName": "Piotrek Skalski",
      "photoUrl": "",
      "userId": "01989288188211024094"
     },
     "user_tz": -60
    },
    "id": "qWHvMQ9cvLtZ",
    "outputId": "1efcdac9-35a2-4fee-af9e-354f16239bd1"
   },
   "outputs": [
    {
     "name": "stdout",
     "output_type": "stream",
     "text": [
      "Test loss : 0.31212, test accuracy : 0.867\n"
     ]
    }
   ],
   "source": [
    "print('Test loss : {:.5f}, test accuracy : {:.03f}'.format(*utils.validate(ds_test, loss_fn, model)))"
   ]
  },
  {
   "cell_type": "code",
   "execution_count": null,
   "metadata": {},
   "outputs": [],
   "source": []
  }
 ],
 "metadata": {
  "accelerator": "GPU",
  "colab": {
   "authorship_tag": "ABX9TyN3vRu0v2Zz9t5G1ObrEkkh",
   "collapsed_sections": [],
   "name": "train_baseline_interactive.ipynb",
   "provenance": []
  },
  "kernelspec": {
   "display_name": "Python 3",
   "language": "python",
   "name": "python3"
  },
  "language_info": {
   "codemirror_mode": {
    "name": "ipython",
    "version": 3
   },
   "file_extension": ".py",
   "mimetype": "text/x-python",
   "name": "python",
   "nbconvert_exporter": "python",
   "pygments_lexer": "ipython3",
   "version": "3.7.7"
  }
 },
 "nbformat": 4,
 "nbformat_minor": 1
}
